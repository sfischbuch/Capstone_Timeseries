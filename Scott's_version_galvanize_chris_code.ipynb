{
 "cells": [
  {
   "cell_type": "code",
   "execution_count": 8,
   "metadata": {},
   "outputs": [
    {
     "data": {
      "text/html": [
       "<style>.container { width:100% !important; }</style>"
      ],
      "text/plain": [
       "<IPython.core.display.HTML object>"
      ]
     },
     "execution_count": 8,
     "metadata": {},
     "output_type": "execute_result"
    }
   ],
   "source": [
    "#extra-wide (temp) viewing\n",
    "from IPython.core.display import HTML\n",
    "HTML(\"<style>.container { width:100% !important; }</style>\")"
   ]
  },
  {
   "cell_type": "code",
   "execution_count": null,
   "metadata": {},
   "outputs": [],
   "source": [
    "%matplotlib inline\n",
    "from __future__ import division\n",
    "from IPython.core.display import HTML\n",
    "from matplotlib import dates\n",
    "from sys import path\n",
    "import time\n",
    "import numpy as np\n",
    "from datetime import datetime, timedelta\n",
    "from pandas import date_range, DataFrame, Panel, set_option, read_csv, read_pickle, to_datetime\n",
    "from pandas import Series, isnull, TimeGrouper, DatetimeIndex, notnull, Index\n",
    "from pandas import read_pickle, read_excel, ExcelFile\n",
    "import statsmodels.api as sm\n",
    "import matplotlib.pyplot as plt\n",
    "from collections import Counter\n",
    "from datetime import datetime\n",
    "import pandas as pd\n",
    "from sklearn.model_selection import train_test_split\n"
   ]
  },
  {
   "cell_type": "markdown",
   "metadata": {},
   "source": [
    "# This notebook deals with measuring the accuracy and processing the provenance/diagnostic information"
   ]
  },
  {
   "cell_type": "markdown",
   "metadata": {},
   "source": [
    "## load and analyze best of provenance/diagnostics (needs pickle_puller)"
   ]
  },
  {
   "cell_type": "code",
   "execution_count": 56,
   "metadata": {
    "collapsed": true
   },
   "outputs": [],
   "source": [
    "def pickles_puller(source_id):\n",
    "    \"\"\"\n",
    "    given the source_id int, this loads and returns the \n",
    "    prediction and provenance results\n",
    "    \n",
    "    \"\"\"\n",
    "    feed_path ='/home/scott/Desktop/CAPSTONE/feeds/feed_'\n",
    "#     try:\n",
    "    this_prediction_panel = pd.read_pickle(feed_path  +source_id+ '_t_60_f_14_forecast.pickle')\n",
    "    this_provenance_panel = pd.read_pickle(feed_path  +source_id+ '_t_60_f_14_provenance.pickle')\n",
    "\n",
    "    return this_prediction_panel, this_provenance_panel"
   ]
  },
  {
   "cell_type": "markdown",
   "metadata": {},
   "source": [
    "#### helpers to load the panels (prediction and prov/diags) and best choices to compare stats components"
   ]
  },
  {
   "cell_type": "code",
   "execution_count": 57,
   "metadata": {
    "collapsed": true
   },
   "outputs": [],
   "source": [
    "source_id = 0\n",
    "training_length = 60\n",
    "this_pred, this_prov = pickles_puller('0')"
   ]
  },
  {
   "cell_type": "code",
   "execution_count": null,
   "metadata": {
    "collapsed": true
   },
   "outputs": [],
   "source": []
  },
  {
   "cell_type": "code",
   "execution_count": null,
   "metadata": {
    "collapsed": true
   },
   "outputs": [],
   "source": [
    "def pickles_puller(source_id):\n",
    "    \"\"\"\n",
    "    given the source_id int, this loads and returns the \n",
    "    prediction and provenance results\n",
    "    \n",
    "    \"\"\"\n",
    "    feed_path ='/home/scott/Desktop/CAPSTONE/feeds/feed_'\n",
    "#     try:\n",
    "    this_prediction_panel = pd.read_pickle(feed_path  +source_id+ '_t_60_f_14_forecast.pickle')\n",
    "    this_provenance_panel = pd.read_pickle(feed_path  +source_id+ '_t_60_f_14_provenance.pickle')\n",
    "\n",
    "    return this_prediction_panel, this_provenance_panel"
   ]
  },
  {
   "cell_type": "code",
   "execution_count": null,
   "metadata": {
    "collapsed": true
   },
   "outputs": [],
   "source": [
    "source_ids = [str(x) for x in range(0,10)]\n",
    "pred_panels = dict()\n",
    "prov_panels = dict()\n",
    "for s_id in source_ids:\n",
    "    pred_panels[int(s_id)], prov_panels[int(s_id)] = pickles_puller(s_id)\n"
   ]
  },
  {
   "cell_type": "code",
   "execution_count": null,
   "metadata": {
    "collapsed": true,
    "scrolled": false
   },
   "outputs": [],
   "source": []
  },
  {
   "cell_type": "code",
   "execution_count": null,
   "metadata": {
    "collapsed": true
   },
   "outputs": [],
   "source": [
    "this_pred = pred_panels[0] #fills in the this_pred throughout the following code\n",
    "# def prediction_day_puller(int, prediction string)\n",
    "feeds = [x for x in range(10)]\n",
    "pred_dates = ['p0','p1','p2','p3','p4','p5','p6','p7','p8','p9','p10','p11','p12','p13']\n",
    "p_preds_X_df_dict = {}\n",
    "for num in feeds:\n",
    "    p_preds_X_df_dict[num] = dict()\n",
    "    for p in pred_dates:\n",
    "        p_preds_X_df_dict[num][p] = pred_panels[num].minor_xs(p).dropna() #pulls the p(0-13) predictions for each feed. It also drops NaNs from first 16 rows \n",
    "#these are my X values"
   ]
  },
  {
   "cell_type": "code",
   "execution_count": null,
   "metadata": {},
   "outputs": [],
   "source": [
    "p_preds_X_df_dict[0]['p0']"
   ]
  },
  {
   "cell_type": "code",
   "execution_count": null,
   "metadata": {
    "collapsed": true
   },
   "outputs": [],
   "source": [
    "#pulls the raw data for each feed, our target\n",
    "feeds = [x for x in range(10)]\n",
    "raw = ['this_data']\n",
    "p_preds_y_df_dict = {}\n",
    "for num in feeds:\n",
    "    for p in raw:\n",
    "        p_preds_y_df_dict[num] = pred_panels[num].minor_xs(p).drop(['cycle_series','differenced_1_data','differenced_1_cycle','differenced_2_data','differenced_2_cycle'], axis = 1)\n",
    "    "
   ]
  },
  {
   "cell_type": "code",
   "execution_count": null,
   "metadata": {
    "collapsed": true
   },
   "outputs": [],
   "source": [
    "#drops the first 16 rows so it matches the shape of the X data (remember there are no predictions for the first few weeks the models were training)\n",
    "for x in p_preds_y_df_dict:\n",
    "    p_preds_y_df_dict[x].drop(p_preds_y_df_dict[x].index[:15], inplace=True)"
   ]
  },
  {
   "cell_type": "code",
   "execution_count": null,
   "metadata": {
    "collapsed": true
   },
   "outputs": [],
   "source": [
    "# find the mean for each column in each feed for each prediction, the idea is to remove outliers by finding items that are greater than 3x the mean\n",
    "feeds = [x for x in range(10)]\n",
    "pred_dates = ['p0','p1','p2','p3','p4','p5','p6','p7','p8','p9','p10','p11','p12','p13']\n",
    "p_preds_X_dfs_cleaned = {}\n",
    "for feed in feeds: #feed\n",
    "    p_preds_X_dfs_cleaned[feed] = dict()\n",
    "    for pred in pred_dates:#prediction\n",
    "        p_preds_X_dfs_cleaned[feed][pred] = p_preds_X_df_dict[feed][pred]\n",
    "        for x in p_preds_X_df_dict[feed][pred].columns: #column \n",
    "            df_x = p_preds_X_df_dict[feed][pred][x]\n",
    "            for i, cell in enumerate(df_x):\n",
    "                if abs(cell-df_x.mean()) > 3*(df_x.std()):\n",
    "                    p_preds_X_dfs_cleaned[feed][pred][x][i] = df_x[i-1]\n",
    "#                     print(cell)\n",
    "#             cleaned_columns.append(df_x)"
   ]
  },
  {
   "cell_type": "code",
   "execution_count": null,
   "metadata": {
    "collapsed": true
   },
   "outputs": [],
   "source": []
  },
  {
   "cell_type": "code",
   "execution_count": null,
   "metadata": {
    "collapsed": true
   },
   "outputs": [],
   "source": [
    "from sklearn.linear_model import LinearRegression, Lasso\n",
    "from sklearn.ensemble import AdaBoostRegressor\n",
    "from tqdm import tqdm\n",
    "from sklearn.metrics import mean_squared_error\n",
    "from sklearn.neural_network import MLPRegressor"
   ]
  },
  {
   "cell_type": "code",
   "execution_count": null,
   "metadata": {},
   "outputs": [],
   "source": [
    "neural_net = MLPRegressor()\n",
    "X = p_preds_X_dfs_cleaned[0]['p0']\n",
    "y = p_preds_y_df_dict[0]\n",
    "X_train,X_test,y_train,y_test = train_test_split(X,y,test_size=0.3)\n",
    "neural_net.fit(X_train,y_train.values.flatten())\n",
    "predictions = neural_net.predict(X_test)\n",
    "plt.scatter(y_test,predictions)"
   ]
  },
  {
   "cell_type": "code",
   "execution_count": null,
   "metadata": {
    "collapsed": true
   },
   "outputs": [],
   "source": [
    "from sklearn.model_selection import GridSearchCV"
   ]
  },
  {
   "cell_type": "code",
   "execution_count": 84,
   "metadata": {
    "collapsed": true
   },
   "outputs": [],
   "source": [
    "# here's a function which calculates the rmse.  \n",
    "# it assumes that the series are aligned in time.\n",
    "\n",
    "def rmse(actual_series, forecast_series):\n",
    "    return np.sqrt(((actual_series.sub(forecast_series)) ** 2).mean())\n"
   ]
  },
  {
   "cell_type": "code",
   "execution_count": 70,
   "metadata": {},
   "outputs": [
    {
     "name": "stderr",
     "output_type": "stream",
     "text": [
      "100%|██████████| 10/10 [00:41<00:00,  4.03s/it]\n"
     ]
    }
   ],
   "source": [
    "\n",
    "feeds = [x for x in range(10)]\n",
    "pred_dates = ['p0','p1','p2','p3','p4','p5','p6','p7','p8','p9','p10','p11','p12','p13']\n",
    "LR_models_dict = {}\n",
    "for feed in tqdm(feeds):\n",
    "    LR_models_dict[feed] = dict()\n",
    "    for pred in pred_dates:\n",
    "#         print('----\\nFeed: {} \\nPred: {}\\n'.format(feed,pred))\n",
    "        fig = plt.figure(figsize=(12,8))\n",
    "        X = p_preds_X_dfs_cleaned[feed][pred]\n",
    "        y = p_preds_y_df_dict[feed]\n",
    "        X_train, X_test, y_train, y_test = train_test_split(X, y, \n",
    "        test_size=0.3,random_state =1 )\n",
    "        model = LinearRegression()\n",
    "        parameters = {'fit_intercept':[True,False], 'normalize':[True,False], 'copy_X':[True, False]}\n",
    "        grid = GridSearchCV(model,parameters, cv=None)\n",
    "        grid.fit(X_train, y_train)\n",
    "        linear_model.fit(X_train,y_train.values.flatten())\n",
    "        predictions = linear_model.predict(X_test)\n",
    "        LR_models_dict[feed][pred] = (y_test,predictions)\n",
    "        plt.scatter(y_test,predictions)\n",
    "        plt.plot([y_test.min(), y_test.max()],[y_test.min(),y_test.max()], 'k-', alpha = 0.5)\n",
    "        plt.title('Test-Prediction Plot -- Feed: {} Pred: {}\\nRMSE: {}'.format(feed, pred, mean_squared_error(y_test,predictions)**0.5))\n",
    "        plt.savefig('{}_{}_prediction_plot.png'.format(feed,pred), format='png')\n",
    "#         plt.legend('Error: {}'.format()\n",
    "        plt.close('all')"
   ]
  },
  {
   "cell_type": "code",
   "execution_count": 81,
   "metadata": {},
   "outputs": [
    {
     "data": {
      "image/png": "iVBORw0KGgoAAAANSUhEUgAABaUAAAI6CAYAAAA30yQnAAAABHNCSVQICAgIfAhkiAAAAAlwSFlz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\nRcrYjy+8icoAAAAASUVORK5CYII=\n",
      "text/plain": [
       "<matplotlib.figure.Figure at 0x7f1dbcb874e0>"
      ]
     },
     "metadata": {},
     "output_type": "display_data"
    }
   ],
   "source": [
    "results_holder_df = DataFrame(index = X_test.index, columns=['composite prediction'])\n",
    "for this_date in X_test.index:\n",
    "    this_prediction = linear_model.predict(X_test.loc[this_date].values.reshape(-1,6))[0]\n",
    "    results_holder_df.loc[this_date] = this_prediction\n",
    "\n",
    "f = figure(figsize=(25,10)) \n",
    "ax0 = f.add_subplot(111)\n",
    "# now that the predictions are in a dataframe, let’s plot!\n",
    "results_holder_df.plot(lw=4, alpha=0.5, ax=ax0)\n",
    "# here’s the others (low alpha to not overwhelm the plot)\n",
    "X_test.plot(lw=4, alpha=0.2, ax=ax0, ls='--')\n",
    "# and the target...\n",
    "y_test.plot( lw=4, alpha=0.5, ax=ax0, c='g')\n",
    "title('Out of Sample Prediction of Composite Prediction')\n",
    "plt.grid()\n",
    "ylim(0,5555)\n",
    "plt.show()"
   ]
  },
  {
   "cell_type": "code",
   "execution_count": null,
   "metadata": {},
   "outputs": [],
   "source": [
    "\n",
    "feeds = [x for x in range(10)]\n",
    "pred_dates = ['p0','p1','p2','p3','p4','p5','p6','p7','p8','p9','p10','p11','p12','p13']\n",
    "for feed in feeds:\n",
    "    for pred in pred_dates:\n",
    "        X = p_preds_X_dfs_cleaned[feed][pred]\n",
    "        y = p_preds_y_df_dict[feed]\n",
    "        X_train,X_test,y_train,y_test = train_test_split(X,y,test_size=0.3)\n",
    "        linear_model = LinearRegression()\n",
    "        \n",
    "\n",
    "        X_train, X_test, y_train, y_test = train_test_split(X, y, \n",
    "        test_size=0.3,random_state =1 )\n",
    "        model = LinearRegression()\n",
    "        parameters = {'fit_intercept':[True,False], 'normalize':[True,False], 'copy_X':[True, False]}\n",
    "        grid = GridSearchCV(model,parameters, cv=None)\n",
    "        grid.fit(X_train, y_train)\n",
    "        print(\"r2 / variance : \", grid.best_score_)\n",
    "        print(\"Residual sum of squares: %.2f\"\n",
    "                  % np.mean((grid.predict(X_test) - y_test) ** 2))"
   ]
  },
  {
   "cell_type": "code",
   "execution_count": 97,
   "metadata": {},
   "outputs": [
    {
     "data": {
      "image/png": "iVBORw0KGgoAAAANSUhEUgAABwAAAAGBCAYAAABhK6VYAAAABHNCSVQICAgIfAhkiAAAAAlwSFlz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\niIiIiIiIiIiIiIiISB75/7iq8sjh1KMQAAAAAElFTkSuQmCC\n",
      "text/plain": [
       "<matplotlib.figure.Figure at 0x7f1dab023be0>"
      ]
     },
     "metadata": {},
     "output_type": "display_data"
    }
   ],
   "source": [
    "\n",
    "f = figure(figsize=(25,10))\n",
    "ax1 = f.add_subplot(212, sharex=ax0)\n",
    "all_methods_mean_rmse.plot(lw=6, alpha=0.5, c='r', label='mean 6-model RMSE', ax=ax1)\n",
    "composite_rmse.plot(lw=6, alpha=0.5, c='g', label='this method RMSE',ax=ax1)\n",
    "plt.grid()\n",
    "legend()\n",
    "tight_layout()"
   ]
  },
  {
   "cell_type": "code",
   "execution_count": 91,
   "metadata": {
    "collapsed": true
   },
   "outputs": [],
   "source": [
    "import matplotlib.pyplot as plt"
   ]
  },
  {
   "cell_type": "code",
   "execution_count": null,
   "metadata": {
    "collapsed": true
   },
   "outputs": [],
   "source": [
    "fig, ax = plt.subplots\n"
   ]
  },
  {
   "cell_type": "code",
   "execution_count": null,
   "metadata": {
    "collapsed": true
   },
   "outputs": [],
   "source": [
    "fig = figure()\n",
    "ax"
   ]
  },
  {
   "cell_type": "code",
   "execution_count": null,
   "metadata": {
    "collapsed": true
   },
   "outputs": [],
   "source": []
  },
  {
   "cell_type": "code",
   "execution_count": null,
   "metadata": {
    "collapsed": true
   },
   "outputs": [],
   "source": []
  },
  {
   "cell_type": "code",
   "execution_count": null,
   "metadata": {
    "collapsed": true
   },
   "outputs": [],
   "source": []
  },
  {
   "cell_type": "code",
   "execution_count": null,
   "metadata": {
    "collapsed": true
   },
   "outputs": [],
   "source": []
  },
  {
   "cell_type": "code",
   "execution_count": null,
   "metadata": {
    "collapsed": true
   },
   "outputs": [],
   "source": []
  },
  {
   "cell_type": "code",
   "execution_count": null,
   "metadata": {
    "collapsed": true
   },
   "outputs": [],
   "source": []
  },
  {
   "cell_type": "code",
   "execution_count": 43,
   "metadata": {},
   "outputs": [
    {
     "data": {
      "text/plain": [
       "<matplotlib.collections.PathCollection at 0x7f9e4e468da0>"
      ]
     },
     "execution_count": 43,
     "metadata": {},
     "output_type": "execute_result"
    },
    {
     "data": {
      "image/png": "iVBORw0KGgoAAAANSUhEUgAAAYMAAAD8CAYAAACVZ8iyAAAABHNCSVQICAgIfAhkiAAAAAlwSFlz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\n/w9PecQfdf5ObQAAAABJRU5ErkJggg==\n",
      "text/plain": [
       "<matplotlib.figure.Figure at 0x7f9e4e36d1d0>"
      ]
     },
     "metadata": {},
     "output_type": "display_data"
    }
   ],
   "source": []
  },
  {
   "cell_type": "code",
   "execution_count": null,
   "metadata": {
    "collapsed": true
   },
   "outputs": [],
   "source": [
    "pred_panels[0].loc[\"data\",datetime(2016,1,1):datetime(2016,4,5), 'this_data'].plot(figsize=(25,5))\n",
    "grid()"
   ]
  },
  {
   "cell_type": "code",
   "execution_count": null,
   "metadata": {
    "collapsed": true
   },
   "outputs": [],
   "source": []
  },
  {
   "cell_type": "markdown",
   "metadata": {},
   "source": [
    "# START: NOTES from 9/26/2017"
   ]
  },
  {
   "cell_type": "markdown",
   "metadata": {},
   "source": [
    "## Scott, here's one way to generate the error."
   ]
  },
  {
   "cell_type": "code",
   "execution_count": 36,
   "metadata": {},
   "outputs": [
    {
     "ename": "TypeError",
     "evalue": "'GridSearchCV' object is not callable",
     "output_type": "error",
     "traceback": [
      "\u001b[0;31m---------------------------------------------------------------------------\u001b[0m",
      "\u001b[0;31mTypeError\u001b[0m                                 Traceback (most recent call last)",
      "\u001b[0;32m<ipython-input-36-a61b335830dc>\u001b[0m in \u001b[0;36m<module>\u001b[0;34m()\u001b[0m\n\u001b[1;32m      3\u001b[0m \u001b[0;31m# this is how to reference the data in the panels...\u001b[0m\u001b[0;34m\u001b[0m\u001b[0;34m\u001b[0m\u001b[0m\n\u001b[1;32m      4\u001b[0m \u001b[0mthis_pred\u001b[0m\u001b[0;34m.\u001b[0m\u001b[0mloc\u001b[0m\u001b[0;34m[\u001b[0m\u001b[0;34m[\u001b[0m\u001b[0;34m\"data\"\u001b[0m\u001b[0;34m,\u001b[0m\u001b[0;34m'cycle_series'\u001b[0m\u001b[0;34m,\u001b[0m\u001b[0;34m'difference_1_data'\u001b[0m\u001b[0;34m]\u001b[0m\u001b[0;34m,\u001b[0m\u001b[0mdatetime\u001b[0m\u001b[0;34m(\u001b[0m\u001b[0;36m2016\u001b[0m\u001b[0;34m,\u001b[0m\u001b[0;36m1\u001b[0m\u001b[0;34m,\u001b[0m\u001b[0;36m1\u001b[0m\u001b[0;34m)\u001b[0m\u001b[0;34m:\u001b[0m\u001b[0mdatetime\u001b[0m\u001b[0;34m(\u001b[0m\u001b[0;36m2016\u001b[0m\u001b[0;34m,\u001b[0m\u001b[0;36m4\u001b[0m\u001b[0;34m,\u001b[0m\u001b[0;36m5\u001b[0m\u001b[0;34m)\u001b[0m\u001b[0;34m,\u001b[0m \u001b[0;34m'this_data'\u001b[0m\u001b[0;34m]\u001b[0m\u001b[0;34m.\u001b[0m\u001b[0mplot\u001b[0m\u001b[0;34m(\u001b[0m\u001b[0mfigsize\u001b[0m\u001b[0;34m=\u001b[0m\u001b[0;34m(\u001b[0m\u001b[0;36m25\u001b[0m\u001b[0;34m,\u001b[0m\u001b[0;36m5\u001b[0m\u001b[0;34m)\u001b[0m\u001b[0;34m)\u001b[0m\u001b[0;34m\u001b[0m\u001b[0m\n\u001b[0;32m----> 5\u001b[0;31m \u001b[0mgrid\u001b[0m\u001b[0;34m(\u001b[0m\u001b[0;34m)\u001b[0m\u001b[0;34m\u001b[0m\u001b[0m\n\u001b[0m",
      "\u001b[0;31mTypeError\u001b[0m: 'GridSearchCV' object is not callable"
     ]
    },
    {
     "data": {
      "image/png": "iVBORw0KGgoAAAANSUhEUgAABZ8AAAFMCAYAAACkkcKXAAAABHNCSVQICAgIfAhkiAAAAAlwSFlz\nAAALEgAACxIB0t1+/AAAIABJREFUeJzs3Xd0VNXax/HvmUnvFQgESKiBAAkpJBHEBmLhIihKvfb6\nYlcQrOjVq2K5KhZEERFFUKyoICIXBU0hCQkkISEBAqT3XmfmvH8EES4tZSYzSZ7PWiySmX32/qVN\nTp6zz96KqqoIIYQQQgghhBBCCCGEEMakMXcAIYQQQgghhBBCCCGEEN2PFJ+FEEIIIYQQQgghhBBC\nGJ0Un4UQQgghhBBCCCGEEEIYnRSfhRBCCCGEEEIIIYQQQhidFJ+FEEIIIYQQQgghhBBCGJ0Un4UQ\nQgghhBBCCCGEEEIYnRSfhRBCCCGEEEIIIYQQQhidFJ+FEEIIIYQQQgghhBBCGJ0Un4UQQgghhBBC\nCCGEEEIYnZW5AwB4eXmpfn5+5o4hhBBCCCGEEEIIIYQQ4hwSEhJKVFX1bk1biyg++/n5ER8fb+4Y\nQgghhBBCCCGEEEIIIc5BUZQjrW0ry24IIYQQQgghhBBCCCGEMDopPgshhBBCCCGEEEIIIYQwOik+\nCyGEEEIIIYQQQgghhDA6i1jz+Uyam5vJycmhoaHB3FFEJ7Gzs8PX1xdra2tzRxFCCCGEEEIIIYQQ\nQnSQxRafc3JycHZ2xs/PD0VRzB1HmJiqqpSWlpKTk4O/v7+54wghhBBCCCGEEEIIITrIYpfdaGho\nwNPTUwrPPYSiKHh6espMdyGEEEIIIYQQQgghugmLLT4DUnjuYeTrLYQQQgghhBBCCCFE92HRxWch\nhBBCCCGEEEIIIYQQXZMUn9tg6dKlvPrqq2d9/ttvvyUtLa0TEwkhhBBCCCGEEEIIIYRlkuKzEUnx\nWQghhBBCCCGEEEIIIVpI8fk8XnjhBYYNG8aECRPIyMgA4IMPPiA8PJygoCCuu+466urq+PPPP/n+\n++9ZuHAhwcHBHDx48IzthBBCCCGEEEKIszmWmUzh0kFkJe8ydxQhhBCiw6zMHaA1nt2USlpelVH7\nHNnXhWf+EXjONgkJCaxfv56kpCR0Oh0hISGEhoZy7bXXcscddwDw5JNPsmrVKu677z6mTZvG1KlT\nmTlzJgBubm5nbCeEEEIIIYQQQpxJ4YE4wiil9MfFqKN/R9HInDEhhBBdl/wWO4edO3cyY8YMHBwc\ncHFxYdq0aQCkpKRw4YUXMnr0aD777DNSU1PPeHxr2wkhhBBCCCGEEAC6inwARjbtI2nbOjOnEUII\nITqmS8x8Pt8M5c5288038+233xIUFMTHH3/Mjh07OtROCCGEEEIIIYQAUGsKaVKtyNf64BX9As0X\nX4+1ja25YwkhhBDtIjOfz2HixIl8++231NfXU11dzaZNmwCorq7Gx8eH5uZmPvvssxPtnZ2dqa6u\nPvH+2doJIYQQQgghhBBnYlVXRKniTsWEJ+mv5pHw1WvmjiSEEEK0mxSfzyEkJIRZs2YRFBTElVde\nSXh4OAD/+te/iIiIYPz48QQEBJxoP3v2bF555RXGjh3LwYMHz9pOCCGEEEIIIYQ4E7uGEqqsPBhz\n8Q2k2AYzPONdKstLzB1LCCGEaBdFVVVzZyAsLEyNj48/5bH9+/czYsQIMyUS5iJfdyGEEEIIIURP\ndvi5MVTY+TJ20U8c3Psn/l9dRZzPXCLvftfc0YQQQggAFEVJUFU1rDVtZeazEEIIIYQQQghhIdwM\nZTTZewMweMwFJLhfQUj+BvKyM8ycTAghhGg7KT4LIYQQQgghhBAWoKmxAXeqMTj2PvHYwOtfRI+G\n/K8WmzGZEEII0T5SfBZCCCGEEEIIISxAWVEOAFqXPice69XPn+T+/yS0ejsZ8dvNFU0IIYRoFyk+\nCyGEEEIIIYQQFqCqOBcAGzefUx4fdcNTlOCG4ecnUA0Gc0QTQggh2kWKz0IIIYQQQgghhAWoK20p\nPjt69jvlcScXdw6NeoARzWns2fqJOaIJIYQQ7SLFZyGEEEIIIYQQwgI0VuQB4OLd77TnQq65l2zN\nAHrFvkhTY0NnRxNCCCHapVXFZ0VRshVF2acoSpKiKPHHH/NQFOUXRVEyj//vflL7JYqiZCmKkqEo\nyhRThRdCCCGEEEIIIboLQ3UhBlXBo5fvac9ZWdtQdeEz+KoFJH71ihnSCSGEEG3XlpnPl6iqGqyq\natjx9xcDv6qqOhT49fj7KIoyEpgNBAJXAO8qiqI1YuYuIzs7m1GjRnX6uE8//TTbtm3r9HGFEEII\nIYQQQrSfpraQCsUZaxvbMz4/5pKZ7LULZcSB96gsK+7kdEIIIUTbdWTZjWuANcffXgNMP+nx9aqq\nNqqqehjIAsZ1YBzRBnq9nueee45JkyaZO4oQQgghhBBCiDawqS+mUuNxzjZOU1/EWa1j/4anOimV\nEEII0X5WrWynAtsURdED76uquhLorapq/vHnC4Dex9/uB8ScdGzO8cfab/NiKNjXoS5O02c0XPnS\neZt98sknvPrqqyiKwqBBg0hKSuLAgQNYW1tTVVVFUFAQBw4c4MiRI9x9990UFxej1Wr58ssv0Wr/\nnvCt1+tZvHgxO3bsoLGxkQULFnDXXXedccz8/HxmzZpFVVUVOp2O9957jwsvvJCtW7fyzDPP0NjY\nyODBg1m9ejVOTk74+fkxa9YsfvnlFxYtWsSWLVuYOnUqM2fOJCEhgYcffpiamhq8vLz4+OOP8fHx\n4a233mLFihVYWVkxcuRI1q9fb7RPrRBCCCGEEEKItnNsKqHaxvOcbQaNiiDu16sIKfiC3EMP0G/Q\niE5KJ4QQQrRda2c+T1BVNRi4EligKMrEk59UVVWlpUDdaoqi3KkoSryiKPHFxZZ5u1BqairPP/88\n27dvJzk5mVWrVnHxxRfz448/ArB+/XquvfZarK2tmTdvHgsWLCA5OZk///wTHx+fU/patWoVrq6u\n7N69m927d/PBBx9w+PDhM467bt06pkyZQlJSEsnJyQQHB1NSUsLzzz/Ptm3bSExMJCwsjNdff/3E\nMZ6eniQmJjJ79uwTjzU3N3PfffexceNGEhISuPXWW3niiScAeOmll9izZw979+5lxYoVxv7UCSGE\nEEIIIYRoIxddGY223udt53/9v9FhReHXj3VCKiEsn2owoGtuMncMIcQZtGrms6qqucf/L1IU5Rta\nltEoVBTFR1XVfEVRfICi481zgf4nHe57/LH/7XMlsBIgLCzs3IXrVsxQNoXt27dz/fXX4+XlBYCH\nhwe33347y5YtY/r06axevZoPPviA6upqcnNzmTFjBgB2dnan9bV161b27t3Lxo0bAaisrCQzMxN/\nf//T2oaHh3PrrbfS3NzM9OnTCQ4O5rfffiMtLY3x48cD0NTURFRU1IljZs2adVo/GRkZpKSkMHny\nZKBl9vVfRfExY8Ywb948pk+fzvTp0087VgghhBBCCCFE51ENBjzUcg479DpvW+++fkQPvImooytJ\n372NgHBZdlH0bHHv3IJXxV76Pvw79o7O5o4jhDjJeWc+K4riqCiK819vA5cDKcD3wE3Hm90EfHf8\n7e+B2Yqi2CqK4g8MBeKMHdxcxo8fT3Z2Njt27ECv17d6Q0FVVVm+fDlJSUkkJSVx+PBhLr/88jO2\nnThxIr///jv9+vXj5ptv5pNPPkFVVSZPnnzi+LS0NFatWnXiGEdHxzOOGRgYeOKYffv2sXXrVgB+\n/PFHFixYQGJiIuHh4eh0unZ8NoQQQgghhBBCGENlWRE2ih7Fuff5GwNBNzxJMe4oPz+BajCYOJ0Q\nls21MoPB+kPs+/Buc0cRQvyP1iy70RvYpShKMi1F5B9VVd0CvARMVhQlE5h0/H1UVU0FvgDSgC3A\nAlVV9aYIb2qXXnopX375JaWlpQCUlZUBcOONNzJ37lxuueUWAJydnfH19eXbb78FoLGxkbq6ulP6\nmjJlCu+99x7Nzc0AHDhwgNra2jOOe+TIEXr37s0dd9zB7bffTmJiIpGRkfzxxx9kZWUBUFtby4ED\nB86Zf/jw4RQXFxMdHQ20LMORmpqKwWDg2LFjXHLJJbz88stUVlZSU1PTnk+REEIIIYQQQggjKC86\nBoC1a59WtXdwciV7zEMM16WTuGW1KaMJYfFc9GXUqzaMK/+B+B8/MHccIcRJzlt8VlX1kKqqQcf/\nBaqq+sLxx0tVVb1MVdWhqqpOUlW17KRjXlBVdbCqqsNVVd1syg/AlAIDA3niiSe46KKLCAoK4uGH\nHwZg3rx5lJeXM2fOnBNt165dy1tvvcWYMWO44IILKCgoOKWv22+/nZEjRxISEsKoUaO46667zjrb\neMeOHQQFBTF27Fg2bNjAAw88gLe3Nx9//DFz5sxhzJgxREVFkZ6efs78NjY2bNy4kccee4ygoCCC\ng4P5888/0ev1zJ8/n9GjRzN27Fjuv/9+3NzcOvjZEkIIIYQQQgjRXjUleQDYe/Rr9TEh0xZwSOOH\nz+6XaWyoO/8BQnRDqsGAu6Gc5N7T2W89koC4p8jJSjF3LCHEcUrLXoHmFRYWpsbHx5/y2P79+xkx\nwjJ37d24cSPfffcda9euNXeUbseSv+5CCCGEEEIIYSq7v3uX8D1LODZ/F/2HjG71cft+/4bR228m\nZshDRM5farqAQlio6soynP/jT8yQB/GbOB/7jy6iSOvDgIU7sbVzMHc8IbolRVESVFUNa03b1iy7\nIU5y3333sXjxYp566ilzRxFCCCGEEEII0U3oq1runnXv5dum40ZPnMFeu3BGZq2koqTg/AcI0c2U\nFx4FwMrFhz4DhnLogmUM1WexZ/VDZk4mhAApPrfZ8uXLycrKYtiwYR3ua9++fQQHB5/yLyIiwggp\nhRBCdHUN9WfeF0AIIYQQ3VRNIXWqLU4u7m0+1HnaiziqdaR/IZOkRM9TfXzJGjt3HwDGXj6fWO+Z\nRBauJ+nX9eaMJoRAis9mNXr0aJKSkk75Fxsba+5YQgghzCwnKwXNS/3Zu+Mrc0cRQgghRCexriui\nTNP2wjOA/8hwEjynElr4Fcey9hk5mRCWraG8pfjs5PX3eunBty0nSzsYv52PUJhz0FzRhLBYqsFA\nzNqnyUreZfKxpPgshBBCWJiSw3uxUfTY7lqGajCYO44QQgghOoFdYwnVVp7tPn7QDf+mGSvKNz5I\nTVW5EZMJYdmaK/MBcPP+e8kaWzsHbOeswVrVUbrmRnTNTeaKJ4RFOpq5l8iDbzLw62lEf/IUep3O\nZGNJ8VkIIYSwMI0VLSfQw3XppEVvNnMaIYQQQnQGZ10p9bZe7T7eq88A9gY8yJiGeOpeDyFx82q5\niC16BLW6iCZVi6tHr1Me7z9kNPtDn2VkcwrxaxabKZ0Qlqmq8AgAR6z8iDr0FunLLqHgWJZJxpLi\nsxBCCGFhDNUtmwWV4Ibh91fNnEYIIYQQncHNUE6zvXeH+oic8zjpU7+mWutGSOyD7Fs2mZysFCMl\nFMIyWdUVUaa4o2hOL3GFTbubOLerGHfsI1J2fW+GdEJYpoayYwDYzfmEuKDn8W/MwH7VRBJ+Wm30\nsaT4LIQQQlgYTW0h5biQNfgmRjcmciDxN3NHEkIIIYQJNdTV4EIdBqfeHe4rIOwyBi6OJWb4IgbV\np+K99mKiVz0qmxmLbsu2sZgqK4+zPj/q9hUc0/ajz7b7KC3M6cRkQlguXUXLz4JXXz/GzbiPsn9u\np9CqH6FxDxL3xhyjLt8kxec2WLp0Ka+++ipPP/0027ZtA2Dnzp0EBgYSHBxMfX09CxcuJDAwkIUL\nF5o57fldccUVuLm5MXXq1DYdt2PHjvMek5SUxE8//dSReEII0WPZ1BdTofFg1DUPUYUjtb8uM3ck\nIYQQQphQaUHLDDStSx+j9GdlbUPknCdouCuWFJcLiTr2ASXLQtj7341G6V8IS+LUVEqtzdmXrHFw\nckV/7Uc4q7Xkrr4Zg17fiemEsEya6nzKccbOwQkA3yGj8F+0ixjf2wgt30zFfyLJiN9unLGM0ksP\n89xzzzFp0iQAPvvsM5YsWUJSUhL29vasXLmSvXv38sorr7SqL50JF/Q+n4ULF7J27VqT9C3FZyGE\naD/HphJqrD1wcnEntf8cxtbu4sj+BHPHEkIIIYSJVJe0zECzc+tr1H69+g4k9JFv2HfpJ6hoGPPb\nbSS++g8Kcw4adRwhzMnVUE6T3bnXSx80KoKkwMcY07CbuHXPdlIyISyXbX0h5ZpTN7m1trEl8vbX\nybhyPVaqnsGbriN69WMd3ozQqkNHd5KX414mvSzdqH0GeATw2LjHztvuhRdeYM2aNfTq1Yv+/fsT\nGhrKzTffzNSpU6moqOCLL77g559/ZvPmzVRXV1NTU0NoaChLlizh0ksv5e677+bo0aMAvPHGG4wf\nP56lS5dy8OBBDh06xIABA/j0009ZvHgxO3bsoLGxkQULFnDXXXexY8cOli5dipeXFykpKYSGhvLp\np5+iKAq7d+/mgQceoLa2FltbW3799VccHBzO2M/ZXHbZZezYsaNVn68tW7bw4IMP4uDgwIQJE048\nHhcXxwMPPEBDQwP29vasXr0af39/nn76aerr69m1axdLlizB39//tHbDhw9v1dhCCNHTuOjKOObo\nD8CIaxZSt3wtRVteYuCIL82cTAghhBCmUFeWC4Cjl69J+h898Roax00mev1zjD38IYYPoogZ+n+E\n3rAEaxtbk4wpRGfQNTfhrlZhcOx13rbjZj5C4uu/E5r1NunxFxEQdlknJBTCMjk1FlFte+afm5GR\nV1A5PIakj+4k6sgK9r+8E7f5q/EZ2L46XpcoPptLQkIC69evJykpCZ1OR0hICKGhoSeev/3229m1\naxdTp05l5syZADg5OZGUlATA3Llzeeihh5gwYQJHjx5lypQp7N+/H4C0tDR27dp1Yra0q6sru3fv\nprGxkfHjx3P55ZcDsGfPHlJTU+nbty/jx4/njz/+YNy4ccyaNYsNGzYQHh5OVVUV9vb2rFq16oz9\n+Pv7d+jz0NDQwB133MH27dsZMmQIs2bNOvFcQEAAO3fuxMrKim3btvH444/z1Vdf8dxzzxEfH8/b\nb78NQFVV1RnbCSGEOJVqMOChlnPYoWXNRzevPsT0uZawgg3kZWfQ108u3AkhhBDdTXNFPgCu3v1M\nNoatnQNRN79E3uGbKf7ifiKz/sPhl76hYcoyRkRMMdm4QphSeXEe3oqKxvn8S9YoGg2Db1tN8VtR\nuPx4N5WDo3F1P/eMaSG6Kw99MaX2gWd93tXdi7BHvib++/cISHgW9aOLiA9/jrCpd7Z5rC5RfG7N\nDGVT2LlzJzNmzMDBwQGAadOmten4bdu2kZaWduL9qqoqampqTvRlb28PwNatW9m7dy8bN7asv1VZ\nWUlmZiY2NjaMGzcOX9+Wq9/BwcFkZ2fj6uqKj48P4eHhALi4uJyzn44Wn9PT0/H392fo0KEAzJ8/\nn5UrV54Y46abbiIzMxNFUWhubj5jH61tJ4QQPV1lWRFuih7F+e+r0IOmPYZh5Rcc++El+t5r/N2H\nhRBCCGFehupCdKoGdy8fk4/V1z8An4Vb2LNtHT5/LsV/8w3ERV/FkLmv4tHLdMVvIUyhsjgHb8DG\nrXU/O67uXhRc/T6DNs1k34e3MPaR71A0siKtJdDrdBTmHKQsJ4O6giz0ZYfR1pcyaNZLePUZYO54\n3UpjQx0eVGFwOv/PTdi0e8gbfQlV624hLH4h8Qe2MuzW99s0XpcoPndVBoOBmJgY7OzsTnvO0dHx\nxNuqqrJ8+XKmTDn1avOOHTuwtf37FiitVnvONaLP1o8pPfXUU1xyySV88803ZGdnc/HFF3eonRBC\n9HQVxTm4Adauf58I9OrnT5znVQQXb6Kk4KicfAkhhBDdjLa2kHLFFW+rzvkTXdFoGHv5fOou+AfR\n654kLPcz6t79jeSJrxN06exOySCEMdSW5gFg79H6CzfDwy4lZv+9RB58k9iNrxFxw0JTxRP/o66m\nksIj6VTkZtJYfBClPBv7mqO4N+bR21BIX0XPXyvfN6latBhIXG/A68H1Zs3d3ZTmH6UvYOXWuguO\nff0D6LXoN6LXPkn4kQ8oejOyTePJ5Z1zmDhxIt9++y319fVUV1ezadOmNh1/+eWXs3z58hPv/7Uc\nx/+aMmUK77333onZwAcOHKC2tvas/Q4fPpz8/Hx2794NQHV1NTqdrs39tFZAQADZ2dkcPNiyKcXn\nn39+4rnKykr69Wv5Zv34449PPO7s7Ex1dfV52wkhhDhVdXHLmo927qduONT3qsVYoSPzu5fNEUsI\nIYQQJmTbWEKl1qPTx3VwciXqzuXkzf6FEm0v/H9/mOK87E7PIUR7NZa3FJ9d2rhe+ri5z5BsF05w\n6sscSok1RTRxXMwnT5H+QhQlSwfi8OoA/L+8nLF/LiAy83VGlGzBobmcYsehJPSbR9yoZ0iZtJb8\nW+LQPlXEbp+5hJZv4eDeP839YXQrFYXZANh59m/1MVbWNkTduoysqV8CSpvGk+LzOYSEhDBr1iyC\ngoK48sorTyxz0VpvvfUW8fHxjBkzhpEjR7JixYoztrv99tsZOXIkISEhjBo1irvuuuucM5xtbGzY\nsGED9913H0FBQUyePJmGhoY293PhhRdy/fXX8+uvv+Lr68vPP/98xnZ2dnasXLmSq6++mpCQEHr1\n+vtW8EWLFrFkyRLGjh17yliXXHIJaWlpBAcHs2HDhrO2E0IIcaqG8pbis8v/rPnoO2QUe1wuZUze\nRirLis0RTQghhBAm4thUSq2N+daeHTgiFJvZa7BWm8ldexeqwWC2LEK0hb66AACP3m0rPmu0Wvrf\nuoYqxQnt17dSV1NpingCCDz4AS66Ug65XUCM3wISwl/jwLTvqbzvAC5L8xnyVCIhj35P1J3LGTfz\nYUZNmIbPwOForawYMes5KhUn6n9cIq9LRlRXegwA515tv6M2IHwSzg/GtOkYRVXVNg9kbGFhYWp8\nfPwpj+3fv58RI0aYKZEwF/m6CyF6upi1TxN58E1qHs7GycX9lOcOpcQyaOPlRA+8m6hbZAa0EEII\n0V2ULB3IIffxjHtgnVlzxKx7nsgDr7A7+AXCp99r1ixCtEbs27cyomQLLkvz2nV8yh+bGLn1n+z2\nvpaIez8ycjrRUF+L3ct9ifa7h6ibX2pXHzGf/5vIjJdJnvi+LAtkJDGfPkNk1htUPXgIFzfPdvWh\nKEqCqqphrWkrM5+FEEIIS1JTSJ1qi6OT62lPDRoVQZJDFCOOfEptdYUZwgkhhBDC2PQ6He5qJXrH\n3uaOwrhZS0izHsXwpBcoyj1s7jhCnJd1QzHlGvfzNzyLUeP/wW7vawkr/pqs5D+MmEwAVJTkA6B1\nbv/rW8i1D3NM6YvbrufRNTcZK1rPVpVHrWqHs0v7f3baQorP3dy+ffsIDg4+5V9ERMRZ28+YMeO0\n9mdbjkMIIYTxWdUVU6ZxP+uu23aXPIobNez7/q1OTiaEEEIIUygvyUOrqGg6UJwxFo1Wi8us97FS\n9eSvvUNucxcWz76xhBqr9s3c/EvAvGVUKC7oNj2CQa83UjIBUF3SMiPdxqX9r282tnaURD3BQMMx\nEr5501jRejSbugJKtZ5n/ZvT2DpnK912UlUVRWnbItbiVKNHjz7rRodn8s0335gwzblZwhIwQghh\nbvaNxVSf4wQ6IHwSqb+MYVDmahobHsXWzqET0wkhhBDC2CqLcvACbNx8zB0FaNlnInbEQ0Skv8Tu\nb5cTfu0D5o4kxFk568oocArsUB+u7l7sDn6M8KTHifv+HcbNuN9I6URdecua3HbuHbu4FjxpLmm7\n32NI2nKqK2/D2bXzN2jtThwbiqiy9u608Sx25rOdnR2lpaVSkOwhVFWltLQUOzs7c0cRQgizctaV\nUm977tkbhgkP04sykn98v5NSCSGEEMJUakpbNhu29+h3npadJ/z6RaTajCEg+UUKjmWZO44QZ+Vh\nKEfn0PEiWti0e9hvHcjQ5FeoLC00QjIB0FjZ8rl08ezY65ui0WB15b/xpJKUL541RrQezU1XTL1d\nn04bz2JnPvv6+pKTk0NxcbG5o4hOYmdnh69v23aoFUKI7sbNUE6+fa9zthk14Royfx9K35QV6KYt\nwMrappPSCSGEEMLYmspbbkt38bKcv4U0Wi1us1eiXXMRRZ/dSe9F2zrt9mwhWqumqhwnpREcz33u\n3BqKRoPtNf/B+csrSFi3iIj71hghodBXFwHg5t3xOzuGhVxE/I5JjM35jIJj99Gn/5AO99kT6XU6\nPNVyDjl13t02Flt8tra2xt/f39wxhBBCiE7TUFeDC3Wo59lwSNFoqA5/gKHR9xK/dQ1hV9/RSQmF\nEEIIYWz6qpaZgR69Laf4DNBv0AhiAx8lIu0F4r5+g3EzHzZ3JCFOUV6UgxOgdTVOEW3QqAhifp/J\nuMIvyUzaydDgC43Sb0+m1BZTp9ricIbN1Nuj33X/RvloPMc2LqHPQ18apc+epqwoB2/FgMa1b6eN\nKZcuhRBCCAtRVpgDgMb1/LdABU+ayxFNfzwT3pbNgIQQQoguTKkpoAoH7ByczB3lNOHXPUKKbTCB\n+14m/0iGueMIcYrqkpYla+zcjTeDc+TclyhTXFF/eFg2HzQCq/oSKjRuRuvPZ+BwEvvOIbxyK1nJ\nu4zWb09SXpANgK1H/04bU4rPQgghhIWoKj4GgJ3b+a9Ca7Raisbcg78hm+T/fmHqaEIIIYQwEeuG\nYso1lrl5lkarxXPuSgBK190pF7zNpKTgqHzuz6C+LB8AJ0/jzeB0cfMkO2QJw3QHiP/2LaP121PZ\nNpZSrTVe8RkgcNZSynGh8ccl8nPRDrXFRwBw8h7QaWNK8VkIIYSwEHVlLbM3HFt5Ah181e3k4419\n9H+McuJVUnCU2uqKDvcjhBBCiNazbyyhxurcmw2bk8/A4aSMWsSoxiTiNr5m7jg9TsJPq/B4bwyx\nnz9v7igWp7myZb10t17GLaKFTr2TNJvRDN33GhUlBUbtu6dx0JVTb2Pci2subp4cGHEvgU17Sd6+\nwah99wQTAPITAAAgAElEQVSNx//mdO8zsNPGlOKzEEKITnMoJZaY9+4mes0T5o5ikZorW05uXXu1\n7hYoaxtbjo64g+G6dNKiN7d73LKiXGLfuQ2X94LJefNydM1N7e5LCCFE96drbpIlGIzIRVdKva2X\nuWOc07jrHmKfbQijU18h73C6ueP0GOmxWxkV+xgAwzI/oL622syJLItaXUizqsXVo+MbDp5M0Wiw\nn/4fnNVaMtYtNGrfPY2LvoImW+NfXAuZ8SBHNf3w+PNfNDc1Gr3/7kytyqVJtcLdq/M2HJTisxBC\nCJMqK8olZt3zZP0rhEEbLyey8HPGHXqH0uPrG4u/GaoK0KtKm04Egv6xgBLc0O9s+0ykuppKolc/\nhs07oYQWfc1++xCG6zLY/dnTbe5LCCFEz3Bw758cfimK3h9FkBazxdxxujzVYMDdUIHOwbjFM2NT\nNBq8563EgIbyz++QtXA7wbGsffTefCtFGm/2TngXD6pI/vY/5o5lUbR1xZQrrmi0WqP37T8ynPg+\nswgv3cSBxB1G778nMOj1uKuV6B2Mf3HN2saWsgueYoAhl8Rv5OeiLaxrCyjReJrk5+ZspPgshBDC\n6JoaG0j8eS17ll2J8zujiTzwCioKMcMfI3XyOrSKStaOz8wd0+JoawspU9zQWlm1+hg7ByeyBt3I\nmIYEMvf83qpjdM1NxH75KnWvjiHqyAoyHUPInftfghZvI8H5UsIOryQr+Y/2fhhCCCG6oYb6WqJX\n3s/Ar67GQ19MqeKG7S+L0et05o7WpdVUV+CgNIKTZRefAfoMGEramMUENu1l98ZXzB2nWysvzkf5\n7HpAQfPPjQRPnkuKbTBDMlfRUFdj7ngWw66hmEqt6dZLD5z7b0oVN5SfHpXXunaoKi/GSjGgOHqb\npP+gS2eRajOGYfvfoaqi1CRjdEf2DYVUWnXu3TZSfBaig3KyUmSReyFombmTmbST2Hduo/bFIYRE\n30v/ujQSfGZz+IZtDH0qgcg5jxM4/mqyNQNwPrjJ3JEtjm1jSbtOoAOveYgqHKnetuyc7VSDgcSf\n15L3YjARqf+i2Lov6VdtZOyinxg4PBiAITevoEJxweq7u2mor23XxyGEEKJ7SYveTPGyMKLy1rDH\nfQpW9+3mWMQzDNYfJv4rWQO4I8oLjwJg5dp5tz93RPiM+9lrF87otNfJPZRq7jjdUkNdDYXvz8DL\nUELh1avpNygQAOWix/CigqTvZBO8vzg2l1JrY7oimrOrB0fCHmeoLpP4b94w2TjdVWVJy5rcVq69\nTdK/otFge/WLuFNF6oalJhmjO3JtLqbOzjRfk7OR4rMQHZD6x4/4fjqevTu+MHcUIcymJO8IMZ8+\nQ/bzwQz9dirBRd9xyCmU5Ikf4PZEJpF3v4v/yPBTjsnvfxUBjSkU5hw0U2rL5NhUSq1N29dEc3b1\nINV3FiG1OzmyP+GMbfbH/kzGvy8gJPpeVBT2XPAOAUv+IGDc5FPauXr2Ju+iV/AzHCVpjaxxJ4QQ\nPVlVRSmxy29i5M+z0aJj36UfE/7gelw9ezN2yk2k2AYTsP9NyovzzR21y6o+Xpyxc2/dZsPmpmg0\n9J7/PjpFS+X6u2T5DSMz6PWkvTuXYc3ppEW9SkD4pBPPBV5wFWk2oxmU8YFMEDjOVV9Gk51pZ3CG\nXnU7qTZBBKS+Lq91bVRT2vL5sjNR8RlgSNAEdrteTkje57IXQSuoBgPehlKaHTv3gqcUn4XogPrY\njwBoTPnBzEmE6Fx6nY6En1aT/PJk3N8PIjLrDZo09sSOfJKGB/YT+uh3BF16A1bWNmc83nfCXDSK\nyuHfZOmNk7nqy2i0a99taQHXLKJOtaVoy8unPH5kfwJ7ll3JiM034KErJG70Uvot2cPYy+ejaM58\nGhB0yfXEel7DuPx1sp6nEEL0UEm/rKPhjTDCSr4jpvds3B6JZ/TEGSeeVzQanKa/hqNaz4HPF5kx\naddWX54LgJNXPzMnab3evoNJD3qckU37iPviJXPH6VZiP7yfkJrfiBv6ICFX3Hza84YLF9KLMpI3\nvdP54SyMXqdrWU/Y0bRL1igaDU4z/oOD2kDmukdMOlZ303B8M3UnT9NeXOs/80VUIPerx006TndQ\nWVaErdIMLlJ87rbyDqdTUnDU3DGEkVSWlzCq8jcABpb9KUtviB6j4GgmGcsuJjTuQfrUHySu340c\nnfsbw5+MJeKGhbh6nL942n9oEFnawXgclqU3/qLX6fBQK9C3c8Mhd28f9vaeztiKX8jLzqAo9zBx\nb87Dd/1lDKndQ4zfApwX7mXcdQ+d9aLAyUbd/Bb5ml64/Xw/NVXl7cokhBCi6ykpOEbCq9cQ/Mc9\n1GqcOXjNt0Te8z4OTq6ntfUbEUZ87+sJL91EZtJOM6Tt+nTHizPuvfqbOUnbhF+zgGT7CILS3+BY\n1j5zx+k0mUk72f3GbI5lJhu979gvXiEq/1Niva4lYu6ZN38OHP8P0q1HMjDtfZoaG4yeoSspL8lD\nq6honPuYfKyBI0JJ8JnNuPIfSY//1eTjdRe6qiIAXDxNW+js038Ie3znE1a1jQOJv5l0rK6uND8b\nABt3304dV4rPJlRZXsKen9cQu/xGcp8dRt81EVSvnGruWMJI0rd9jJ3STKznNfSmlOz0M9/qLkR3\nkvDjhzh8NJEBjVnEBT2P15MHiLrzLQYMC25zXyV+UxmmO0Duof0mSNr1nDiBdmn/CbT/tMcwoFC/\ndjbOK8cRXLaZ3b1vQHfvHiJv/jf2js6t7svR2Y2qK5bTx1BE2sf3tTuTEEKIrkE1GNj97dtYr4hg\ndPUuogfeTb/H4hgWcvE5jxs590XKFRf0PyyUJRjaQa0uoEm1wsXdNBtymYqi0dD3nytpVqyp2XBn\nj9mMrTTmc8IrNtPr08uIXvMEzU2NRuk3efsXhKW+QLJ9BKF3vX/Wu9MUjYam8Y/ShxKSNr1rlLG7\nqsqiHABs3ExffAYYNfcFivDAavPCHvP93lGGmiL0qoKrh+nXFx496xlKcUW3+XGZGHgONcXZADh4\nD+jUcaX4bETNTY2kxWwh5sOHyXh+HE5vDGFs9P0ElmylyH4wiY4T8TccIe9wurmjCiNwy/iSbM0A\n/K99FoDC+O/NnEgI06muLGP3f24gdPcj5FkNpPKm/zJuxn1oraza3efAifMAOLpzrbFidml/n0C3\nf2ZAb9/B7PGaymD9IVJdJ1Jy859E/t9K3L3b1+eIiCnE9p3HuLJNJG+Xte2FEKK7yjucTsrLlxGe\n9AR51gPJn/MLUbe8jI2t3XmPdXHz5GDQowTo9pOwaUUnpO1erOqKKFPcz1pstGTeff3IGPskI5rT\n2L3hBXPH6RRWdYUU4UGqUyRRh9/myMtRZCXv6lCfWcl/MPS3ezlsNYgh//fFee9QGz1xBgeshuGb\n+p7Rit9dUW1py3rp9p20XrqTizvHxj3JEP1B2Wi1lTR1JZQrrh36m7G1nFzcyQq8n5HNKSRtW2fy\n8bqqhtKWpZ7ceg/s1HG73m84C6IaDBw9kETM5/8madkVNL4wkJFbZhF+7CNUNMQNuI39V36B7RNH\nGLtoM97TnwfgWNx3Zk4uOupIeiLDdekUDLqOXv38OaTxwzlnh7ljCWES6bu3UfVGJCEVW4nufwdD\nHvudfoNGdLhfn4HDSbceSe8jPxohZddXc/xEoKMn0MF3rCD/ljjCHv6Kvv4BHc4VctMrHNYMpN/v\nC6koKehwf0KIFvE/rCTmvbvNHUP0cHqdjpjPnsPt44kMakgjdsQShi/excCAkDb1EzZtARlWw/FP\nWkZ1ZZmJ0nZPdg0lVFp5mDtGu4X94272OFxA8IHlHEqJNXcck3NoKKTEph8hC39gT9RbuOlL8fv6\nH0S/v4D62uo291dwLAvXb+ZRpTjjetvXODq7nfcYRaOh/oJH6KsWsefH99vzYXQLDRUtxWcX785b\nsibkilvYZzuWEfvfpLQwp9PG7apsGkqp1pz/e9pYQqffT7amP17RL/T4ZWnORq3MRa8qePbu3KWe\npPjcRrrmJhJ+Wk3cm3MpfG4oA9ZdRGTGy3jVHybVawqJUW9T82AWAU/GEHXba4yImIK1jS0AvoNH\nk6v0xi5b1gjq6vJ+W4VO1TBk0m0AFPaeyLDGVDnZFt2KrrmJ6I8WMeSH61FQybz6S6Jue7VV6wW3\nVsWgqQwyZHMkPdFofXZVjRUtu0F39ATa1s4Bn4HDjRHpRH+G6StwUas5+PFdRutXiJ4sM2knY3Yv\nIbLwcyrLis0dR/RQep2O9GWXEJn5GpkOQVTftouIWYvRaLVt7kuj1aJc9QoeaiWp62TDp7Zwai6l\nzsbT3DHaTdFo6H/j+1QpzjhtnE3BsSxzRzIpl+Zi6mxb9ucYO+UmrO+PJ9HjKqLyP6X01TBS/mj9\nfiZVFaXUr74WO7WB+hvW493Xr9XHjrn4BrK0g+m79x10zU1t/TC6BX3VX+uld95mnYpGg8u1b2Cn\nNnDo80c7bdyuyr6pjFrrzis+W1nbUDnhafqreSR+/XqnjduVaGryKVXcT9QpO23cTh2tG0javIrQ\nuAcJKN9BnuNIYgOfIvfGGHyfySDivjWETPknru5eZzxW0WjI8ZzAsLo9NNTXdnLy7i/p1/XEvHuH\nydf30TU3MTT/B/Y5RuLVp6VI5DrmKqwVPVkxsnma6B7yDqeTtewioo6+zx63STg9EEPAuMlGH2fI\nRfMxqAp5f8itUYbjGw559O7czR9aY/CYC0j0v5vQmh3E//iBueP0OFnJu0h8ZSrpcb+YO4owgsry\nEhy/uw0dLQW+w3tkUoIwj4KjmQQ27SXG9zbGLPyZPgOGdqi/YSEXEe9xNaEFX8hF5TZwM5TTZN++\nzYYthVefAdRevx57tZ6G1dOpLC00dySTUA0GvA2l6Bz/XmPY1cObcQ98RsqktSiojPplPnFvzqOy\nvOScfTU3NXLkvZn46nPIvux9/EeGtymLotFQHfEwvmoBSZtXtevj6eqUmiKqVfs27WliDAOHB5PQ\nbx7hFZtJj93aqWN3NU76chpsz1wfM5UxF88kxTaY4RnvnvfnsCeyayikwqpzvyYgxec2ay7OwqAq\n2C7OImThJiKuf7RNt5/bjbwCe6WJzLifTZiyZ9InbSCy6Av2x5r2c5u682u8qIDgeSceGxp6KdWq\nPc3p8stHdH3x37+Hy8cX07c5m/iwVwh/6Etc3EwzI8er70D2246hX+5PPX5jCKWmgCocsHNwMneU\nMwqbt5QMqwCG7n6GotzD5o7TI1SWlxD79q34fz2VkNqdWP8sm3mZSsHRzHbdLt1WqsHAoQ9vwttQ\nwqHJH9KkaqnP+sPk45pb9KpHid3wkrljiP9RnnsAAKeAi4223vCQOcuoV+yo+ubhHv97vTWaGhtw\npwqDo+k34zI1/8AIjl6+ir76fPJWzKChrsbckYyusqwIW6UZXE5fIm3UhGl4PJpATJ95hJb9SNOb\nYST+fOZ9TVSDgT3v3szoxkT2BC9l9MRr2pUn6LI5HNL40StpeY/cAM+mvogKjbtZxg6a+zwFeGG9\ndVGPnXneGu6GCnR2nXtnh6LRYH/1i7iqNezf8HSnjt0VuDQVUWvb+Rc8pfjcRlbVuZQo7tjaObTr\n+GERV9KoWlObutnIyYRDQ8uswebfTLv4vz7hM8pwYdTF1594zNrGlkyncPzK/5QTbdFlVZaXEP/6\ndYQlLuaozWBqb9lB2NQ7TT5uzdBrGGDI5VBKjMnHsmTWDcWUayx3zUcraxscZn+ItaqjYK3p7zLp\nyVSDgfjvV9D8ZihhxV8T730tsSOfYLD+MIlbPjJ3vG6nvrYah48mkvv6RSZfPit2/QuMrd1FwrAH\nGDVhGoesh+FeEm/SMS1BwLENROx/kaRf15s7ijhJXVHLhUSPfsOM1qdHr36kDb+X0Y17SPpFNhQ+\nn7Ljmw1rnLt+8RkgcPzV7ItYxvCmNPa/M6vbFURL87MBsPE4811q9o7ORN79LodmbKJK60ZI9L0k\nvvIPSgqOntIu5pPHGVfxEzG+tzFuxv3tzqPRaqkIf5ABhlz2/Ly63f10VXaNpVRZm2fJGgcnV/Ii\nn2Kw/jDxG181SwZLV19bjaPSgOrY+bNsB4+5gHj3KxmXv46YT56Sv1tO4qkvocmhz/kbGpkUn9vI\noS6PMuv2f6HsHZ3JsA+mX3HHdsQVp3NvLqZJtSKoYTcH95mmiFVenM+omj840OvK09bI0Q+eRC/K\nOJy22yRjC2FKaTFbqHszkuDK7UT73cPwx34z6rrB5zLs4rk0q1qKoj/vlPEslX1jCTUWvuFQ/yGj\n2TfyYcY07CbuK1lHzRSOpCeS9tLFhCU+RplVLw7N2ETEvR8Rft0jHNL40Sf+tR69s70pZET/gAt1\nDNEf5Og700y2NFp6/K+EZvyHPQ4XEDHnKQAqvEIY1JTRLWcI/qW+thp3qtCrCoN/f5CjB5LMHUkc\npy/LRqdq6OU7yKj9hs18lMMaP/pE/6tT7ijoyqqKWzYbtu3gZsOWJPSq24gb/ihja3cRv6J7Xayu\nKW4pIjt4nXt/jqHBFzLgsVii/RcQWBONzYpI4r5648TF5ajs94h3mUzErR0vWgZffmPLBmsJb/a4\nu6OcdWWdvqTDycZefiN77UIJTH+r26913h4VJS0bQlqZ6eLa6DtWssflYiIPvUXCf2bK7yOgpqoc\nZ6Ueg3Pn/85pdfFZURStoih7FEX54fj7Hoqi/KIoSubx/91PartEUZQsRVEyFEWZYorg5uLaXEit\nXceuEtQNvIT+ah65h1KNlErodTq81FL2eE2lVrWjfOsyk4yTsW01NoqeXhNvO+05v8iW26UKE38w\nydhCmEJzUyPRHz7E8M2z0StaDv7jK6JufgmtlVWnZXD39iHNPgS//M3d6g+UtnLWlVFv623uGOcV\nPnMh+2xDGJ2yjJysFHPH6Tbqa6uJXnk/Pp9Pon9TFrGBTzF4cTRDgy8EWmY3VY1fgq+aT+J3b5s5\nbffSlPoD1ao9cUHPE9i0j/3LZxr9FtqKkgLcfriTYo0Xg27/5MQSB3ZDLsRG0XMoeadRx7MkxbkH\nAdjt/3/oFGvU9fNkg2YLYV19jGLF06gbCUPLnTJ1k17Eh2KS1j9r1L67m7rSluKzg0f3KT4DRM59\nkpg+84go+ZrYT540dxyjaSg9BoB7H7/ztrW2sSXqpn9TNP9XcmwGMW7fM2S8OJ4xCU+QajOa0f/3\niVGWu9FotZSEPoCf4RhJWz/pcH9dibuhnGZ78507KxoNHjPfQgGq18yWfb3+R3Vpy2bq1q7mKT7b\nOzoT8tDXRPsvIKRqO7mvX9TjLxKU5h8BwNqt8zbp/EtbXu0eAPaf9P5i4FdVVYcCvx5/H0VRRgKz\ngUDgCuBdRVHavmWyBTLo9fQylNDk1LGTA9/wliJlTtz3xoglgNLCY1gpBugdyD6f6xhbtZ3cQ/vP\nf2AbeWVtJEs7mEGjIk57zruvHwe1/rjm/Nfo4wphCqrBQMZrlxOV8xEJ7lfi9lAMw8MuNUuWpoDp\n+FBMRmLP/PlRDQY8DOXoHCx/wyGNVkuvf36ITtFSs+GObndLrTkk/bKOilfGEpW3hmS3yTTfE0fE\n9Y+edhEo6JIbSLceiX/q2916pmxnMuj1DCrfxQHnCMbNuI+Y4Y8xtu5P9rxzo9Euhhn0eo6s+ice\nagW10z7E1ePvP5T9gi8BoCqj+xafK/MPAeASMJHcye/ST59H1vvze9wMPUvkVJ9HmY2PSfoOvOAq\nEpwvYezRj8nLzjDJGN1BY0XLzEDXXpa32XBHjbtjOfEuk4jMfoe4b5abO45RGKry0KsKnr3PPfP5\nZP2HBhHw2G/EBj5Fv6bD5Gv74Hv3N+1exvNMxk65haOafrjtfqPHvLbW1VTipNSjOnX+8gEn8x0y\niqwJrzNUl8m+92/r0RNp/lddecuyqA7u5vsaKRoNUTf9m70TV9BHl4f1qktNvkeYJasqbCk+23sN\n6PSxW1V8VhTFF7ga+PCkh68B1hx/ew0w/aTH16uq2qiq6mEgCxhnnLjmVVaYg42iQ+PWsS+U75BR\n5Cg+2B3ZbqRkojy/Zc06W88BDJ62CD1acn407sY2B/fFMER/kNKh15+1TVHviQxrTKWqotSoYwth\nChWlhYxqTCK6702Me/BznFzMs2EHwPCL59CkWlERt8FsGcypproCB6URnCy/+AzQ23cwB0KeJqA5\njbh1MqutvfKyM0hadgXBf9xDo8aetCnrCX9oA569z1yEUDQa9Jc8RS/KSPr6lU5O2z1l7vkNLypQ\nh10JQOScx4nufwfhFZuJff//jPJHZOxnSwmqj2PPyIUMHTvxlOfcvPqQrRmAQ0Fch8exVPUlLX/o\nuPv4M2r8P4gf9hBj6/4gdu0TZk4mPJoLqHMw3ewn31mvYUBD4ZcPm2yMrs5QXQiARzcsPmu0WsYs\n+Ix9tiGEJD1N8n+/NHekDtNW51GmuLX5bgGNVkvE9Y9ieDAFr4f+OOUipFFyWVlRFHwfgwzZJP/a\nM5axKz++XrqVi/nXSw+ePPfEuUPcl6a5A7sraq5seX1z9jTNRc62CL5sNqVzfqJOcWTwT3OI29gz\nlw9sKGu5e8O1l4UWn4E3gEXAyWfgvVVVzT/+dgHw1099P+DYSe1yjj/W5ZXktUzRt/Ua2OG+cr3G\nM6wuSWYuGUltccsfNs69/PDu60eSxxUEl/xIScGx8xzZesU7V9GkWhEw+daztnEdcxVWioGsmE1G\nG1cIUynNa7kV2nZguJmTgIubJ6mOEQwu2tojZ9JWFLW8Vlm5mv/krLVCp95FouNEQg++y6GUWHPH\n6VKaGhuIXvM47qsnMKw2kZghD9JvcTwjo64877GBF1zFXrswArI+lAudRlC25zt0qoah42eceCzy\nlmXEel1LZOHnxHz6TIf6T4veTPjBt0lwuphx1y86Y5tC97H416d029c+Q/kx9KqCl48fABFzniTe\nZRIRh1eQvP0L84brwRrqa+lFGToX0/0B2tt3MHv9b2ds7S72/f6NycbpyjS1hZTjctpeMt2Fja0d\n/gu+JtvKn6E7FnAg8TdzR+oQu4Yiyq3aXzh2dffC0dnNiIn+FnzlbeQoPjjHvt4jZt9W/7Veuptl\nnDtH3PwySfaRhKQtIy1mi7njWATd8Ytrbl6WsazQwIAQXO7fSbp9CONSniX27Vt63D4quoqWizZe\nff06fezzFp8VRZkKFKmqmnC2NqqqqoDaloEVRblTUZR4RVHii4uL23Ko2dQWZQPg2se/w33Zj7wS\ne6WJA7HywmQMTcev4Hj1bfna+Fy1CGt0ZG4yzs6zTY0NDC/aQorzeFw9z351dVjopVThgC69597K\nIbqO6sJsAJx7+5k1x18MgdfiTTnpcVvNHaXTndhwyM0yTs5aQ9Fo8LtpBVWKE3x9J40NdeaO1CWk\n7Pqe/JdDiTr8DvudIqm6/U8i5z/bpsKDw5XP4kYNaRtfMGHSnqFP/n/JsB11yu92RaMh/J4PiXe+\njKhDb7V7dkxpYQ7eP99DvqYPw+5Yfda1PbUDo3BW6sneH9+ucSydtjqHYsXzxPe4otEQeNfHHLby\nx//3B2TteDMpzmmZVGPl0fFJNecydvaT5Ch9cNnxJE2NDSYdqyuyqS+mQmPZmw13lJOLO253fEuF\nxg2v7+d36Z9556Ziam0sc38OK2sb8sYsYIj+IMn/7f4X9urKWs6dHT0tY56jRqtl0F3rKND0pveW\nOynMOWjuSGan1JZQq9ph7+hs7ignuLp7EfjolhNr0me+ehllRbnmjtVpNNX5lOOMnYNT54/dijbj\ngWmKomQD64FLFUX5FChUFMUH4Pj/Rcfb5wInL4Lke/yxU6iqulJV1TBVVcO8vS3zBfx/NZe17G7r\n2W9Ih/saFnEFDao1dWlSfDaKqlzqVFtc3Fu+l/oPDSLJ+UICc78wyqY2qTs24E4V2pD552xnZW1D\nllM4fhUxPeKKs+jaGktb7hjw7GvcXe7ba8RF11On2lKT0POW3mgob1nz0dnbMk6gW8ujVz9yJrzE\nIEM2iZ8sNncci9XU2MCerZ+S9PIURm37J1ZqM8kXfUjIwk306d/2c4ohQRNIdLqIMcc+pbQwxwSJ\ne4a8w+n4G45QPXDyac9ptFrG3LuOvXbhhO57jsQtH7epb71OR95H83FWa2i6djXOrmcvLvULallr\nvyS1e65571CfT7n1qUsK2Ts6Y//P9RjQoFs3h9rqCjOl67nKc1uKz459Bpt0HFs7B0omPMtAQw6J\nXxp3SbzuwLGphBrr7l18BvDqMwD93C9RAD67rsv+7vI0lNDkYN41hs9l7NV3kqf0xiH6tW7/t2hz\nZct6wm4WtGSNi5snhhs+xU5tpPLj2T1+YoZVQynlGtPM9O8IrZUVkXe/S3zIywxqTKfp3Ys4uPdP\nc8fqFLb1hZRrPM0y9nmLz6qqLlFV1VdVVT9aNhLcrqrqfOB74KbjzW4Cvjv+9vfAbEVRbBVF8QeG\nAt1iITul4hhVOODi1vEvlp2DExn2wfQr+cMIyYRNbR4lWq9TZhU5X7YQF+pI/f6NDvevJK2jGHcC\nL5x+3ra6wZPoRRmHUrvFt73oziqO0aBa4+5lGberOTi5st9lPMNKt/e4W6CaK1tWsXLv1foNbCxF\n8KQ5xLldxbjcT8jc87u541gM1WAgK3kXse/cRu2LQxj75wJ869OJHnAXngsTCbrk7PsHtIbXtOew\noZnMr2TN7fY6GvMVAP2jrjvj8za2dgy59ysyrQMYFf0IKTu/O2O7M4n75HFGN+5h75gnGDw68pxt\n+/QfSiGeWOV2z+Vr3JoLqbU//a6Ovn7DOXbpu/TXHyPj/X92+0KJpakvatkI0tN3qMnHCr5sNsn2\nEYzOfI+SvCMmH68rcdGV0WDXNSZidVT/oUEUTV2Dh6Gcsg+md7mLTnU1lbhQi8HZMs6bz8Taxpac\nUafGIe8AACAASURBVPcwTHeAfb99be44JmWoLkSnanDztKyLAQNHhHLggmUM0x0g+f3be/TvNrvG\nEmq05ttT6HzCpt3Nselfo0GPz1fTSfhptbkjmZxTYxHVtubZY6i1az6fyUvAZEVRMoFJx99HVdVU\n4AsgDdgCLFBVtVtsufr/7J13eGNnlf8/V92WJVly7x6PPZ5ij2c8PW2SSSGTSSGEEkgoISTUNOC3\n7FIDC8vCAgkEWCCEVMqypPfeM714PJ5ie9y7JKvYltXv7w9N2JQpLpLeK9mf58lDnli679dc33vP\nPe8536PzDeJUxe9E+SvPpUweSGjrUfeh3TT/+OyU3V2eKkb/MJ73VNXUrDyLZv1Kqo/ei39yYsbH\ndgz1UOfbQXvRJVMaLlG17jIARvY8NuM155knGegmBrCr8k7YCi4CVf0VWPFy6K0nREtJKvLYEEFZ\n88/ujVRjyTW/wSOZ8D/zXdFShOMY6mHbA7fS9cMVVD+8hRUjj9KRtYqms+4k+1ttbPjsT+PS6la+\naAV7bJtpHH6Iwe4jsxc+B8nqeo4uVRklVctO+JnMLAtFX3yUfnUJC164fkp+pQdef5R13X9gp+UC\n1lx+0yk/L6lU9JpWUDbWlHYvqdFIhLyog1DW8S2F6s+6jJ01N9E4/tqs/bXnmR5RVw9BWU1uYWJt\nN94m54pfoCVM5/98PSnrpQJyNIpNdhHOFD8wLVnUrt5E28ZfsSB0lKO/uSKlig2cg10AaK3KqbQ9\nHisu/iJD5KF/87/S7pnyTtQTw7gkC2qNRrSU97HyA59ma8k1rHU9yY4H5+ZgOwBjyM2kTtmdHTUr\nz0L1hVfp0S1k1Y6b2XrnzUQjaZG+PC62iB1/hpgNm2llHGRZfkWW5YuP/btTluVzZVmukWX5PFmW\nR9/xuR/JsrxQluVaWZafjrdoUZgDg3j08TtRpWsvBaBvZ+KSlCPP/JT6wF5an7gtYWsoAWvYzmTG\n+3ehpTNuIRc3+5/8/YyP3f7CXWikKCXnXDulz+cWV9CuXoilL7UHaswV5GgUx1AvB954jG1//Q+2\n/+qTHPrRaWz7Y/pPZjf6h/DoxOx8noglZ17OmJxBYF/qT0SfDhqfnVHJqqiNgOlgsthorbmO+sBe\nWt58UrScpOOfnGD3U3fT9JMLyP7vBta330ZQlcH2pd/Gf9MhVn39URo2fXRKG5jTofxDP0BGovfh\nW+N63LmAx+Wg1t/MYOE5p/ysJaeArM89hkdlJu+xq+g+su+En3UMdFP04g30qktZdt0fp3xNR0rX\nkc8og92tU/4dUgHncC86KYIq+8RdHes+8T12m85h3dE72P/Kg0lUN7fRjfUwospPWuKmtLqO3SVX\nscbzHId3PJ+UNZWOZ3QEnRRBMikrFks0DZuuZM/y77Lcv4t9v0mdrgfPSMyC05Cj7OSzTm+ge+n1\n1IYPc+CNx0XLSRj6gAOPWrmJzbXX/IymjLWsPPAfHN4+9+bZAJiiboIGMRYP0yG3sJwFX3uRHdYt\nbOi/m/0/3xIX61alEfD7sOElmiWmeyM133IFkRsZIWCM3zCokqpl9ErFZHa/FLdjvhOPc5h694tE\nZYna3r/PqvpXyYSCAXJlFxHT+8/NstMvoU1TQ3HLH2Y0RV6ORinseJDDmiWUL1ox5e/ZC89kUfAg\nHpdj2mvOkzjcjiEObn2a7X//Kdt/fQ0t/3EG7h9UkPu7Oupe+CTrj/yExaMvYgnbWd17N0M9baIl\nJxRbeATfcVqhRWLIMHI4eyO17lfnlE+awW/Hq1FuW9pUWPGhrzGCDdUrP0yZF8nZIEejtO55he13\nfJrgT2pYteNmCifb2VnySXo+8Sq1397Ouo/+Pyy2xFWzF5ZVs7fwCla5nqb78J6ErZOOtL31MFop\ngnXlZVP6fF5xJdGrHiaKCsNfP3Tc50M4FGT4nqvIkP3wkXvJzLJMWU9+3dkA9De9OOXvpALOgdjA\nJUNu5Qk/I6lULPn8vXSrK6h45Qb6O1qSpG5uY/IP4NIlt/pp+cd/wAg2NM9+Y0Zxebrhtsc6U7UW\n5do4JIq1V9zC1vLPs8bzLNv+eLNoOVNi0hEbcG9RyKDuk7Hi0q8wgg31G/8lWkrCMAadTOiUm9hU\nazRUXv9XRlT55D59HfaBLtGSkkokHMYqe4hm5oqWMiX0hkzW3PAA25f8G3UT2xn95Vk0vfR3+jta\nUqpD42Q4B2MbaJpsMTOG5pPPU2Tc68LCBLI5vjud/XlnsGhyH37feFyPC3Domd9hkELsqP0aNrzs\nf+rOuK+hBByDXagkGXX2+8+NpFIxtvorlMqD7Hvu/mkfu23fa1RGe/Eu/ui0vmddvgWNFKV9a/ru\nNisRORrF4xym8+BOml99iB3/+AXbfnsdB368EcetFWT/upalz17JuoM/Ypn9aTTREG3Ws9i26Os0\nb7oHx/X7MX+3D9Vnn0ZGouvJn4v+lRJGMOAnR3YTMSlvwJ1+xUcw4+PQ64+IlpI0skJOJnSpEZyd\nCEOGkc6lX2JJ6CD7X03f6sVgwM/W+75Dzw/rWfTYZSx3PEWreQPNm+4h99utbLj+V9ParJwti674\nLn70OB+ftyyYFoefZhQzNSvPnvJXSqvrcH/ob2TKPoL3XPa+6eg77/l/LAs209J4KxVLVk1LTsXi\n1XjJRO7ZOq3vKZ2J4U4AzIULTvq5zCwLuqv/BkDwgU/gG/ckXNtcJzc8xKQxuRWcRlM2PWu+SXXk\nKLsenv1MllRnzB67hxisyioESBbrP/OfbLddyoaBe9n+P8ofRhl2x85XblGlWCFTQG/IpKP2OpYG\nm2l566kZHcMzaufA64/S33EozurigzniIqBXduxsseYS+sj9ZMqTOP80twYQekaHUUsyqqzU6eyQ\nVCrWfexfOXLBA5ijbhpeu46S+05D+lEhA99fRPOPz2b7HZ9i233fYc8z93B0/1spVSHtHu4CwJAj\nZsaQ8gxyFIqj/yhZgCanPK7HzVx6IYaRv9O0/elZDx96J9FIhJL2v3FYs4R1V36Loz96kPyWu5Av\nvzFl27pPhHuoiyLAcIJz03De1fRu/wmW3XcgX/jpaf3+rjfvZlLWsfi8T5/6w++guvFsvE8bibQ+\nBxddM63vznN8xr0uRoe68dp78Tv7CXsGYGwIrW+YzIAdS9hBTnQUixTinbVmPllPv7aczuwNtOfW\nklFSR0H1SgpKqqg9wd9CYVk1uyznUD/0MB7XD7FYlR3YzATHQBfFkozGqrwBd0tOvwTXqybC+/8B\n539CtJykkB11MZKxUrSMWbPyshsYOHQnxjd+jLzxirR73gDsfeR2NnT8ikPaZexYdh1LzvsUqy3i\n2j5t+SVsLf8kG3rvpG3va9SsPEuYllQhFAywaGwrh7PPZu00LQcWLj+NgxN3U/XMJ+n9w2Xobnye\nLLOVppf/lw3997DDuoW1l31p2ppUajWdGXUUuE9s6ZGKhEZjVTa5JQtP+dmSqiU0n/Nrlr70Wfb9\n/tM03vJQWt5DlIBv3BNrvTXH971mKqzafC0tTfeypOUXDG+4nILSU/9tpCt+VyyZac5TXiFAMpBU\nKlZ98S6afrGFlQf/C9/4F6fVMZJsVGMDeDBiMZpES5kSKy67EcdPf4/86k/gtItO+tkxzyg9B7Yy\n1rkD7XATBeOHKJWHsABH1QvgO8p6NkXCYWyym6NG5Sc2Fyxdw571P6Fx+81sv/MLrLvhPtGSkoLX\nOYgN0JiVf47ey7LTt+Bd1sTBQzsYH2oj4uhA6+3BPNlLqfMlrM4x6Pi/z7swM6IpYiyjlJClAm3+\nIuov+DR6Q6a4X+I4+Jyx7g1TfvKf/TCffJ4ynsHYX1dW/skrN6bLonUXMvmyDn/L0xDH5HPLm09Q\nLw+ws/4GJJUKZ921rG36Ns1vPE79WVNrMU0VJuyxqdknaoFSazQM1l3P2uZbaX7jUerPunxKx/X7\nxlnifI4Wy1mszp5eS49Gq6Mtaw1V7reQo9H5l6cZ4rIPMvSHD1Ee7CBL8vPeEV0+WY9TlYNXm8uA\nqZ6ezAIwFaLNLiYjp5TsgkoKy2uoUaunvXb2uV/F+PALbHv8l6z/1L/H5xdSEK7BDoo5eSu0KLQ6\nPa05m6h3PINv3KPoF5F4EAz4seIlmgIB9KnQ6Q30N9zImn3fYu/z97PyA9PbuEsJ7EfwYmTJt94S\nreSf1H34m7hu+xuTz94KKxNj5ZVOHNnxLHX40C7dMqPvL92wmX0Td1D3+pc4/JsPkv2R31D+6i10\nqCpZft0fZqzLV7iWhs5f47IPYs1LjzZ8ydOHFyPmKW7Q1G/8EFu797Kh41ds+8v3WX/192e0rt83\nTtfB7ficA+SUL6V4YR1anX5Gx0pHRnrbqAQ0AmIASaXC8tHfobl/E8MPXEf+v7wwZ+PkiHcIAGuB\nmESAEtBodajWfxHdy9dweNcLLD/7CtGSTojON8yoKpdUiUoNmVnsq7mW9W0/59D2Z1my7gNAbPOp\np2U77qM70AztI2/8EGWRfpZJMgBD5DFgXExv/hWovP2scz7CQNcRiitrRf4678LtHCJHiqIyiRmc\nNl0aN1/D1t49bBi4jx3/+AVrP5z+s4XGnQMAGCypcY7eizk7h6UbNgOb3/czr9vJSPdhvAOtBOwd\nqN2dZE70UjzeTIH3JdR9MjujUdZ88MvJF34Swq6Y1ZOtKL45zakyn3yeIn5HLMFpK47v7rwhw0hT\n5kpKnG/G9bih7X/ETRb1F8Re/Bs2X4uj6WdEt/4a0iz5HB6N7eDklFSd8DMNWz6PvfmXSG/eDlNM\nPh946S+sxodhzadmpCtafT65+16hvXkr1Q2nz+gYc532B26iIXiEPfkfAnMxGksxhpwSzHll2Aor\nyDJbSdR+YnXD6Rx4agVVHQ8QDHwLnd6QoJXE4LN3AZCt0NZBY+NHyHz+UXa/9g9WXTS1YZ+pisve\nTwGkTAB9Khov/gLd+/8b6/afETn3KkVOIZ8NGeO9DKuLMIsW8g5MFhvbqj/H+vbbaHnzSZadPrOk\n6lxhfP/jBGQttaddMuNjrDjv4+wcH2XNvm8yef85RFGh/fh9GDLfu006dbIXnwWdv6Zr74tYL7h6\nxsdREnrfAA5V3rSul/VXf589v9jHmrZf0vxa4ymLJgJ+Hz2HdjHath1pcC853oNUhLtZLB3znt8K\nQVlNp7qUUWMVQVst+uI68qqWU7xgWdrdo6aCZ7AdgKyCE8fOiaS0uo7ty77OuoM/Yvs/fsa6j/6L\nEB3CGR/GJ+sxpvkm+6lYuOpcgi+pmTjyEig4+ZwVHGFMYYO6T0XDB2/B+V9/RPvcv7Fz693keg9S\nHulh8bFE8wg2+jMXM5B3MZmVqylduoHCglLejkh725vhgUfo2fogxZXfFPeLvAePvZ8cQJtCic21\nn72N/T9rYUXzjzhc2cDi1eeKlpRQ/J5hALJy0mMz/Z2Ys3MwZ58Ox8nxBPw+Jv5zIdHe7YCyks94\nB5iQDZjMYuYMzb1oa4ZE3T2EZDU5BfFvUfdXbqL00I/pbW+mrLp+1sezD3SxfPwNdhV+jPUZRiDm\n+7Sn/GNs6Pk93Uf2UVGbPD/KRCN5+/GSifkkF5HekMnR6k+zvv12Wve8yqLGjac8rr75rwySx9LT\nLp6RrgXrL4N938Kx98n55PMMOPD6o6zxPMvW0mvYcJ0YX8Do+hvIf/Vadj59l+J2LmdL2BVrhc6b\nQiu0CJas24zj+WxULQ9BmiefPSN9FAD67PQIztQaDY7VX2XVjq+y66k/svrSL4iWFFesgX7sxhrR\nMt7Hig99nZGf3ovm5R8gb9g8ZysJT4UcjVJuf5XDmY00zDLhs+aDX2abb5RVR25j/9ofs6qmYVbH\nq2o4k8BTWgJH3wDSI/lsCgzh1U8vOSCpVNR+/n56bzuTspe+xEBZLcULFgMxy5Sew7txtm1HHtiL\nzd1CRbiTGikCgAsTvYZadhadg6F8FcbcMrx9BwkNHSTD3UbR+EGKx16GbmAr+GUtXZoyXMaFhHJi\n1lz5C1dSWF6DagZdU6mCfyTmxZ1btkiYhrUf/jr7f/os9S0/o7d9c1zegVINjc/OqMpK6Ry/X2dm\nWTioX0qufbtoKSclO+zAZRJ3zcyEDKOJpkXXsb71Z4y67fRmLGZH7vlkVKymZOkG8osrOVk6vay6\nnh5VCcau5wHlJJ/HHbEKzgxb6vilqzUaKq77K/Zfn0nOE9fiKH6V3OIK0bISRtg7AoAlN3XOUTzQ\nGzJp1S8m190sWsr70PmGcKpzMAp65swnn6eIdnwAuyqX4gRUR5SuuQwO/Zj+HY/GJfBqf+a3bJCi\nlJz/7mTZoi03Evjtnxh67jYqau+d9TpKQecbxDmFqppll9yE97Y7GX/xZ3CK5PNQTxvL/HvZXn4t\nRTN8+cgtLKNdvRBL/ysz+v5cxu8bJ/ulb9AnFbHyqh8K01G/8UN0vv4Dcvf/AfnSL6ZVMkfl7WcU\nM7ZZVOklErVGQ3ve+awceYQxzygmgZ66icbnjHk+Zuakj+fjyg98hqO776Bw7+2ELrwmbdrdI+Ew\nBdER+kzniZbyPgyZWeyvu4G1B77Pvhf/xoo54pc+XbqP7KFSHqa36vNxOd76T3wH3/iNrIpD5aLe\nkMkh3SKszj1xUKYMciMjOIzT97M3mrJxfeKvqB64gMD9H2O7bRXZ7gNUhjpYKIVYCHjJpEe/iN35\nV6Evb6RwyWkUlddgfe+z+j0x38SYm/62Jtzd+4kOHyLT3Uqpdy+F3uehE3gjZuvVVPIxNlx/x8x/\neQUju7rxy1py8pM7cPCdSCoVhZ/8I+E7T2fib9cR+dc35lwVekbAzpgmfeOb6eAp3MC67jvxjNqx\n2PJEy3kfoWCAHNlNe1bqJdLWXfktXM7PYc0pwDaDd5mB/LNpHPybouLxgHsQAHOeuHvYTLDkFOC8\n4n6s/3sJ3XdfifnrL6ddd+3byOMjhGUVZqvyrudEM563gqW9dyvOPtLoH8GrFXc+0ieTkmCMk4O4\ntIlpsympWkKPqoTMnpdnfaxwKMjCnv+lWd/4vkR2TkEpTdbzWe54Co9zeNZrKQVTYBjvFFqgTBYb\nLSUfZcX46/S0nnxoQudLd6GSZCo2XTcrbfaijSwKHsQzap/VceYae//yHUrlQdybfjKrFubZIqlU\nOJZfz4JoFwdef0SYjkSQ4RvEqVZ262D22ivRSyEOv/I30VISytsBtEVgEiDeqNRqxjZ8g1J5kL2P\n/1a0nLhhH+xCJ4VR2SpFSzkujZd9hV6pGMvW/yQSDouWo0gGdzwEQNXp8WvtjueLhTtvNVWhdnzj\nnrgdUxTjXhcWJpDNM7u3lVbX0bnxl5RFeqizP0lEpWNv4YfZteZn9F39Jlnf6aPu315lw+fvoHHz\nNRRX1k5pk9hoymZR40bWXn4D67/wW5b/6wsU3noU780dHN7yIDvqb+WIcTUbBu5j91N3z0i70tGN\n9zGsLhC+qZ5fsoDWVd9jcfgQO/78PaFaRGAKO5nUp99Q65lgWXouKkmmY9ezoqUcF+dwLypJRm1J\nveSzpFJhzSua8fVubrgEnRSh7a1H46xs5oS9sVxGdgoO66yqW8ehtf/BktBB9t75RdFyEoba58Al\nWdK6i+hEZFatQy3JdDUrZz4MQHbYzqRBnFXNfPJ5ilhDw/gyEvewGcg9g9rJJiYnxmZ1nOaX/04+\no4QaP3vcn+edfzMZUpCDT/xqVusoCVvEjj9zau3qiy79OkE0DD390xN+Ro5GKet+hBbd8n+2ec4U\n6/KLUEsy7dsem9Vx5hLdh3azqvdedlouoO5M8f7kDZs/xwg2eCt9rhkAc3CIcYEPn6lQu2oTg+Sh\nO/ywaCkJJTp2bOBQCgbQJ6Nh08c4oqmlvPnXBPw+0XLigrO3FYDMgmrBSo6PRqtjZPXXWBDtZu9T\nd4qWo0hsvS/SqllEXnGlaCnHJbP6DLRShI6m10RLmTWO/qMAaHJmPkyt4ZyPMHHjYQzf6WfpN99g\n/Rd/x+ot11FaXRf3F1pzdg6L15zH2ituoe7mhzmiqaVmxzcZ7D4S13WUgNk/gFunDKunVVuuY0/W\nRlZ1/DdHm7eJlpNUsqMuQhnKLgRIFtUrz8Yn6wm2zb4YKxG4h7oA0OfE34JT6SxafS4ejEQOPy1a\nyj+RxoeZkA0YTdmipcyIVVs+x7bCq1jneIidD/1StJyEoAs48apT8/zMlrK6MwHwtikn+RwJh8mR\nXYSz5pPPiiYcCpInOwmbEpcYMC67EL0UonX7k7M6jnrPnxjBxvJNHzvuzxcsW0ezfiULO/9CKBiY\n1VpKwD85gQ0vUdPUNgZyCkppyruEFaPPMNLfedzPHNrxHKXyIL6lx///cDrUNJ6DByPR1udnfay5\nQDQSwffQV/BJGSy8SozP83vR6Q0crbqa+sBeju5XzgNkNsjRKHkROwGjsqs3JJWKrqIPsNS3G7dj\nSLSchKGaGMGFOe3a7iSViuBZ36IQB3sfVsb1PFt8Q20A2EqV6/m48sJrOKquonjvbQQDftFyFIVj\nqIea0BGcJZtESzkhlSs3EZUlxlrfEC1l1niGYnFWVv7spqpbcgqSbseg1enJ+sS9qGQZzwOfIRwK\nJnX9RJMXGcJvVMaGp6RSseDTv8crmVA9/Pm02aw8FX7fOGZ8yMYC0VIUgU5voD2jngLnDtFSjovP\nERtwb8qb+WZaqqLR6mgzb6Das1UxXVXayRFGVcqwAJkpq6+9nUPaZVTsT48Y+b1kBEfxacQMthON\nLb+EPqkQ/bBybNRGR/rQSFFUFnHP/vnk8xSwD3SilmTU1sQ9bGrWfgCfrMd/cOatRn3tB1ju383R\n8g+j0epO+Lnoui+RzyhNz94z47WUguNYAlmdPfWWzrIt30CFTMdjPznuz8e33cuEbGDZeZ+ctT61\nRkO7aR0L3FuJRiKzPl66s/Oh21kSOkhrwzew5SvjpQhg6SU3MSEbcL3wC9FS4oLX7cQo+cGifJuH\nvPUfRytFaH3lL6KlJAzd5AhuVXoGZ3VnXEKLbjnVR34/684eJRB2dhKWVRSUKXNQJ8QsT8bP+CbF\n8jB7H0nPapqZ0vHmQ6gkmfzVl4uWckIs1ly61BVkDSkzATMd/PYuAGzFyr1eTkZJ1RIOr/kBi0MH\n2XXvv4qWEze8bmfMDiVbOYOurHlF9J/1ExZEu9hz3zdEy0kKzqFYMlNlUXYXWjLxFZ9GZbQHx1CP\naCnvI+iKzeewFSrnukkmUu1mrHhp2/2SaCkAGAKOlPdL12h1eMrOJZ/RtLJEfRtTxE1AnyNahjCG\nTHWUTrQgR6OipQDgert7wyaue2M++TwFXIOxBGdGbuIeNoYMI62ZKyl1vjnjP9C+F35LWFax8ANf\nOunn6jdeQY+qBEvTnYq5GGaKZ7gbgMzcqW8MFC9YzD7LJuqHHn7fjX5izE2d60VarJvi5uEYXXge\nubjpOLA1LsdLVxxDPSxp+TktuuWsuewrouW8C4s1l+bCD9LgeYmh3nbRcmbN263QOpvyqzcW1p9G\nr1RMZptyfObijTHoYFybnsGZpFKhPvc75OKm6cET2x2lClpvD8OqvJNu8CqB5Ruv4KC2joWHfpsW\n3sHxQnv0WYbIo2rZWtFSTord1kiV/2DKV9tG3b2EZDU5Banbpr764uvZmb2ZNb1/ouWtp0TLiQv2\n3lgHhzZndhXp8aZh05XssF7M2v77Obz9OdFyEs6Yow8AfbYy7E+UQE79+QB07XpGsJLj4B3AL2ux\n2OamTUrN6ZcTktW49j0uWgoApvAo/jRIbGaUxmZ09bftFawk/mRH3YQz5q6nfbhoFXm4GO7vEC0F\ngHF7bMMzK28++axofCOx5LOlqCqh6wQqN1EiD9Pbvn/a3/VPTlA79Bj7s04nv+TkwaRKrWZw8Weo\nCbdxZOcLM5WrCHyOWPLZUlg5re/lfOBfMEp+Dj727krWlhfuJ1MKYNrwmTgphAXrLwXAvveJuB0z\nHen+800Y5ACmD98hfADO8ai46KtIyHQ9mfrVz2PDx1qhC5T14nk8JJWK/pLNLPU34RjoFi0nIZjD\nLvyG9J0EvXjdBTQZ1rC440+MeUZFy5kVpsk+RnXKtquB2HWjOu97aZP0jwd+3ziLJ3bRnXuWIp8x\n70S94DSMkp/Olu2ipcwK7Xg/dlVu0i0z4s3Sa3/HgKqI3Oe+khbVad7B2Ca6uUh5FelLr/k1w6o8\nsp65gYkxt2g5CcU3GqukzcpRTqefaKrqT8OLkejRV0VLeR+aiSEcqhzFPz8ShTk7hyOGeoqGleHJ\nbY2MEspI/dg5f2EDAGM9zYKVxBffuIdMKYBsTP1zNFNstacDMHDgdcFKYgRHY8ln6zTzZvFkbt49\np0n42InKK0lskFa2NjZcbWDX9HcUm5+7FytjaNddN6XP11/0eTwY8b12x7TXUhIRV6xqILd4ehsD\nC5atoyljHYu7//KuVvCsQ/9Dr1TM4jXnx01jbmEZbZoarP3KC6SUwv6X/8GqsZfYXXEt5YtWiJZz\nXIoqatlnPoe6wYfwup2i5cyKgDOWxLVN87oRRdHpV6GSZNpf/bNoKXFHjkaxyS7CmekdnGVe+D2y\nGefAgz8WLWVW5IUH8RlTo4pz8boLaMpYx7LOu/GM2kXLEc7hrU+QIQXJXH6JaCmnpKwh5kntPJja\ncYNxchCXNvWrBI2mbPyX/QGr7KbjT59N+a7BgCO2AZ1Xpjzv+iyzFfcFv6I4OsyBe24SLSehhDyx\nWRaW/NR4piQDtUbD0cwVlLp3ipbyPjL9w3i06R2rnYrxivOojPbS39EiVMfkxBgmaZJoVur7pReW\n1TAhG2DkkGgpccVtHwRAbUr9GGCmVC5bR0DWEuxSRiGB7O0nKGuw5orrtplPPk8BydvLKGYyjKaE\nrlO8YDHdqlIye6a/o2hqvo9eqZhlp188pc9nZlk4WHwFDeOvM9B5eNrrKQVprB8XphmdG+3GhIvD\nQwAAIABJREFUr2LFy/7Hfw1Af0cLS4PN9FdcHvddbWfhWdQED6VFxUy88Y17yH3t3+hWldL4iVtF\nyzkp2ed9lSxpkoNP/Eq0lFkRdfcSlDXY8lKj2qZiySo6VZVYOpTR6hdPvC47OimMZEpvz8eaFWey\nx3gmdd33p+zwyHGvKzbgNrtStJQpk3XRDzAzwcEHfyhainCCLU8wLmdQu26zaCmnpKB0IQNSPrp+\nZbywzBRraARfRnpYCtSsOJM9NTeycuINdvzj56LlzA5XNxOyQbH2AUs3bGZH4ZWscz7C/lceFC0n\nYUS9Q0RkSWgiQIkEys6gWB5W3PupJWxn0pD6yc7ZULb+QwD0bntIqA7XSKxrQG1O/dhZUqno01aQ\n5W0TLSWueJ2xc6S3zN1rRqc30KmtxjI6fVeDRKCdGMKhsqFSq4VpmE8+T4EM3yBOdXICtMG8M1g8\n2TQtj8ajzdtYHD5Ef/WV0/pjqrroZqKo6HkmdSesGnyDjKpntgu9ZO0FHNYupfzwXYSCAXpfuouo\nLFF57mfjrBKyGy5CLcm0b0u/5NlsafrzNymWR5g4/2foDZmi5ZyU6oYzOKBfQVX7fQQDftFyZoxu\nfIARVa7Qh890GS7fwpLQQYZ60is4c43EOms0c2DgkO3iWzHi59CDPxItZUYMdx8BQJ+XGh0DAAvr\n17PbtImGvr/iHO4TLUcY0UiEqtHXOWJah05vEC1nSgyYGiif2J+yVbbhUJBc2UnYpPzBtlNl7ce/\nw37DahpafkLXoV2i5cwYw0QfI+pCRdsHrPjMz+lSlVH4ytfTtnNDPTHMqJSd8rY08aZwxQUA9O99\nVrCS/0OORsmNjhIypn+sdjJKqpbRrSojq1usbaf3mHdtuvile7IWUhTsEi0jrvhdsYK7TOvcvmbc\ntuUsCLYSCgZESyHDP4xHI7Z7Q7lRh4KwBIcYMyTn5mZcdhE6KUzr9qen/B3HK/+NX9ay5MIvTGut\ngtKFNJnPZtnQI4x7XdOVqghMgWHG9DPbUZNUKvzrbqQIO/uevovKvsc4kNFIYVl1nFVCzcqzcZNF\ntDX9B6hMh6PN21gz8Bd2WLewdIPyq9EAIuu/Qj6j7H/2btFSZozRP4RHm1o70WVnXQVA12sPCFYS\nX8bsscqADGtqVKHPhsolq9ljOZcVA39T5CT7U+EZiG18mItrBCuZHrlbvkOmFKD1qdS22ZoN7U2v\nk4sbeVFqPGcAImUbyMVNf8dB0VJmhGOwG40URZ2dPpYCKrWa4s/cw4SUify/n8XvGxctaUZY/IN4\nkvReM1MMGUbCl/0Oq+yh7Z7pvd+kCvqAA4/aJlqG4qiobcRBNlLXa6Kl/BO3cxi9FEIyK3/mQ6IZ\nKDiHWn+zUAvCSdcAkD5+6dG8xdjwMnqsojsdCHpjyWdT7ty+ZrQVazFIIboPibcSsoTs+AR3b8wn\nn0+BHI2SFxkhaEzOhbNo7fn4ZD2BQ1Pb7R33uqhzPENz9rlYcqb/x2Q+5yZM0iQHnvjNtL+rBHKi\ndgKZMw+gl5/zUbpU5dTu/XcKsROs/3gc1f0fao2GdtM6qjzbiEYiCVkj1YiEw0QevQGvlEXt1beJ\nljNllm+8gi5VGbZ9v0vZijRraDjlWqFLqpbRpqkhpzO9BncG3LEA2pwiFiizpfDS76MlTPuDPxAt\nZdoE7UcByCtfLFjJ9KhY3EiTYQ013X8j4PeJliME5+5HCMsqak6/XLSUKVNYdzYAA80viRUyQ1yD\nsenuhtwKwUriS25hGf1n38aCaDdNf7pBtJxpI0ej5EeG8BuVX5Fe3XAGuyqvY7X3BXY/dZdoOXHH\nGHQyocsRLUNxSCoVXaZVVHp3KSbOHh2M+aTrbcq/bhKNdcUlaKUIbW8+LExD0P22X3p6nA9jaT0A\ng237BCuJH5GxWPI5e47bChUtOxMA5+E3heqIdW84CWXOJ58VjWd0hEwpAJbk3Nz0hkxajY2UOd+Y\n0gO35Zk7MUp+TGdeP6P1FjVu5JB2KeVt9xEJh2d0DFH4xj1YmCBqmvnGgEqtxt7wRcz48GKkbtMn\n4qjw3cjV55GDh6PNbyVsjVRi14M/Y1G4lY7Gb81o40QUkkrFSP31VEW7OPDGo6LlTJtQMECuPErE\nlHrJTmflxdRE2ultT5+J0GFPbCBH9hwZOFRaXcce20U0jjycchYqkrsbD0Ys1lzRUqaN6rQvk4ub\n/c/8SbQUIRQOvswRfV1KPWvKFq3ATRZ0bxUtZUZMjHQBYClK7LBuESw/+wq2FXycdY6H2PtcanXj\neEZHMEp+yC4XLWVKrLn632nVLGLhju/iGOgWLSeuWCKjBAxze4DdiYhWnkkubnpalZGMG3fEurUy\nc+ZGrHYyalZtwoUZ+cjUu7TjjTw2fMwvPT2qaguqVwIw3qsMb+B4IE048JKJIcMoWopQisprcJCN\nakCsVZdndASDFAKL2Pf/+eTzKXD0xyqd9Ems3AhUnkuxPEJP28lvQHI0Sv7hP3NUXUVt4zkzXm+y\n8XqK5WH2v/S3GR9DBPb+2C601jq7QGDF5mvpVpVxsPCDCb1BVq2/lKgs4dibXpWbM2Gkv5NlB29n\nv2EVqy6e2caJSBo2fw47VuS3Uq+N3THYhVqSUc3yuhFB5carAci5/1y8txZP+5/hW6sY6Doi+Ld4\nD+PD+GQ9WaZs0UqSRvnltwLQ88j3xQqZJhnjPYyoU7OCo+6My+hSlWNr/qNiKsmSxUDnYRZEuxir\nOE+0lGmhUqvpzFxOkUcZyZfpEhqNJQrzShYIVpIYGj97O23qaha89Q2G+46KljNl7L2tQOp412u0\nOgwfvRODHKD//uvS5v4VCYexyW4imcoc+iiakpUXAjDUpAy7Qr8zNjPBWpSe97PpoNZoaLdsoMa7\nlXAoKESDamIYl2RJG7/0vKIKvGSCXVlDNmeD1u/EI82dd5sTIalU9GYupdB7QKgO52AXADqr2G6B\n+eTzKRgbjiU4s/KT97ApX3cpAIO7Tl5VeWTnCyyIduFYfPWshoYsP+8qBslDv+t3Mz6GCLzHzk1m\n3uw2BrQ6PWXfamLd9b+Oh6wTklNQSru2Bmv/qwldJxXo+8sNaAiT89E7FD3w5kToDZm0L7iK5f7d\ndBzYLlrOtHAdax3MSMFW6MKyarYv+y778y/lYN5F0/rnUM55FOCkd4eyqtU1PjujKmtKXgczpbC8\nhr35H6TR+SR97WKDselgDQwwlpF6HQNwrGNj2WdZGOnk4FZx1Uoi6Nn2IAAl6z4kWMn0CRStoUwe\nwDHUK1rKtFF5+3FhIjPLIlpKQtDpDRg+fg86OYTjvs+kTPfg2FAsUW4uTI3kM0D5ohXsW3wLDZPb\n2fnwL0XLiQsux0CsEMA8t4dxnYiSqiUMSPnoel4XLQUA2TNARJaw5admDBBv1Is3Y2GC1l0vCllf\n508vv3RJpWJAW4nJ2y5aStwwBJyMa+aTzwD+gpWUyQN4nMPCNIzbj3Vv5IotPps7b7szJOCMVW7k\nlCSvbbCoopZuVRnGnpdP+rnxN3/PuJxB3YXXzmo9jVZHd80nWRpspr3pjVkdK5n4j7VAZRfOfmNA\npVYnJfnjLNpITegwbsdQwtdSKvue/wuNE6+zt+p6SqqWiZYzY5ZecjM+WY/z+Z+LljItfMdaoVPp\nxfOdrPvI11j/5T9O+5+1X76HEWyoe7eJ/hXeRUbAzpgmfQLoqbLwiu8RQsPQY7eKljIlIuEwBdFh\nAubU27R5m+Wbr8OFmeCbid1oVRpZXc/RrSqjrLpetJRpk71kIwA9+8S84M8Gg28Apzq9qzrLqutp\nWfldlgX3s+OBb4uWMyWCjtgGdF55rWAl02PtR/+VA/oVLNv/nwx0pn51oGckVkmry07Nbppk0GdZ\nTdXEXkVs7KjGB3FKVjRanWgpiqDmtMsIymq8TY8LWd8YcjKhTS+/dI+pmpJQZ9p0dxjDLibnPe0B\nMFVvAKB7v7jNNL8zVsSQXVgpTAPMJ59PjbuXSVmHNclm6YN5Z1Drb2ZizH3cn4+O9LPc8woteZsx\nxqFde+mWrzAhG3C/ePusj5Uswu4+orJEbnGlaClTxtZwEWpJpn3bY6KlCGHc66LozW/Tqapg9ce/\nJ1rOrLDY8thfcBkr3C+kVMttyBXbtEnXVugTIalU9JoaKB1rEi3lXWSFR5nUp56H8GzJLSxnX/FH\nafS8QNchsT5oU8E+0IlOiqC2pe51Y8jM4kjpR2iY2JpSFeezwet2UutvZqBg5tZkIqmqP51JWUew\nI/VmRVgCQ4zp07+qc/WlX2KX6VzWdP6ewztfEC3nlLztXW/OTq2kgEqtJveqPxJFwv2XaxWRkJwN\n485+ADKs6eFZmwhUVRuxMEFni/iiAYN/GLdm7sVqJ8JksXHE0EDxyCtC1reEnQQM6XU+5LzFWJjA\nmYKdTsfDHHUTMqTWcyZRVNafQVSWmOgQdy+TPf1EZImcgvnKZ0Wjm+jHrs5Lekt0Vt1mdFKYtm1P\nHffnrc/8Dp0UpuDcL8dlPXN2Ds35l7Dc8xL2ga64HDPRqMf6GZUs6PQG0VKmTPWKs3BhQm57XrQU\nIRx44BvkyaMENv8CrU4vWs6sKb/o60jIdD6ROtXP6d4KfTLCpespxMFgt3J8n63RUUJzdODQkiu+\ngw8Do08o3/vZecwnNbMgtYenVV90E2FU9D/zC9FSkkLbmw+jlSJYV14qWsqM0OkNdOgXkzO6R7SU\naSFHo+RFRggY0z+xJqlULLr2TkZUeZif+iJet1O0pJNimOjHrk7NTYHC8hoOr/w2S0MH2P2bTzE5\nMSZa0owJuGPDhs15qTd/I1lUrI75Pjuaxb8zmYMjjOtTZ2BtMpioPJ/yaH/Sh4BHIxGssodwmvml\nZ5XWATDYnppzHt5JOBQkWx4jmpleGwQzJctspVtdgdEu7tyqxgcZlbKF51/mk8+nIMs/hEeb/IdN\nzZrzmZANBA4/+76fRSMRyjr/h4PaOiqXrI7bmmWbb0FDlPYnU6P62TA5xKgmtR48ao2Go+Z1LPRs\nIxqJiJaTVNr2vc6a4b+zM/cyFq9JrcFPJ6K4spYm89ksG3yIMc+oaDlTYi60Qp+I3KVnA9DfdHJL\no2Th941jxoeclZqJgNmSnVtIc/nVNE68pnjLJ99wzIfPVpparervJbe4gqbs86i3P4HH5RAtJ+HI\nR55mFDM1sxjKLBpv/moWhI6esBNOiXg9oxglP2TPjcSaOTuHsS2/Iy/qpO2uaxXdNp0dHMRrSN1N\ngdWXfomtxZ9iretJRn6+gaP7U68rACDqidnv2QrEDn9SMnnFlXSrysjse1O0FGxRJ6HM+eTzOynf\ncAUA/dsfSuq6ntERtFIEyZRe56OwphGAib79gpXMHrdzGJUko8qam++bx8NuqaPCf1BYfGDwD+PS\niC92mk8+nwJbeITJzOQHaXpDJq3GRsqdb77vj/TAaw9TIg/ja/h0XNcsqVpGk/E0Fvf/A79vPK7H\nTgSWVN2Frj4fG17FJ1viSTgURHr8JlyShcVXp06V8FQwb7oFkzRJyxN3iJYyJcyBYcZS8bqJA5VL\nVjMmZxDpVsbL6uhwzPNRZZmbyWeAZVf8G26ymHj6VtFSTkrY2UFIVpNfmppe6e/Edu7NZEoBDj2Z\nGvesmRIKBljk3Up79hmoNRrRcmaMsfoMNFKUjr2pM6zY0RfbrNHZygUrSR61qzexq+oLrBp7mZ2P\nKtNXXY5GKYgME8xK3YSnpFKx4fo7aN50HxnRCcoevJhtD9yacgUd0vgQXjIxZGaJlqJohmxrqJ7c\nTzDgF6ZhYswdKxQwpe6mTSIorqylU1WBqTu5lelueyx21qZZ7JyTX4ILEyp76nvajzkHANCa55PP\n/6R0DRYm6Dua3E6BtzEHR5jQiz8f88nnk+CfnCAXNxGzmCAtuOBcirDTc2Tvu/57ZOddjGKm/ryr\n476m/swbsDJG05O/j/ux44kcjZIbsRM0pt6gjoUbLiMqSzj3PSlaStLY9ff/pDpylO61t2KxplcL\nTs3Ks2jRLaey7T5CwYBoOackNzJCcA60Qh8PtUZDR0YdBa69p/5wEvDaY75u+jk8cMicncOhiqtp\n8O9UlB3Ke9F5exhW5aXFsKGFy0+L3bPa/0w4FBQtJ2Ec2fkcZibQLt0iWsqsWLDyHCKyxHjba6Kl\nTJmx4dhQu6yC1PVInwlrr/oBB/QrqNv3Q0X6qjtH+jBIISRr6g5OfZv6sy5D95WttGRtYH37bRz8\n6SZG+jtFy5oyWr8dl2ruDRueLrqas8mUAnTsE3f/cw52AaDJLhGmQakMFZ5NbaAFz6g9aWuOO2LJ\n5wxbep0PSaViUFeJeSx15gidiHFnrLPDkJ1eGwSzIW/J6QAMtYgpPrRFnQQzxBefzSefT4K9vwMA\njVVM5UbFussAGNz9f5Nkh3rbWT6xlSPFH0RvyIz7mkvWfYB29UIKD92t6LbBf7Z0mlMviWbNK6JN\nuwjbwCuipSSNoqP/Q4uunsYL41utrxTC679MIQ6anrlbtJST4nU7MUmTyJbUrXqaLZOFa6mM9uB2\nDImWwqQrVhmQlZNeAfR0KT7t4wD0bH9UsJITY5rsw6VLvefNiQiu/jyF2Gl6/n7RUhLGeNPjBGQt\ntaddIlrKrDBZbHRqqjCNKH8w59sEnN0A2IpT2yN9uqg1Ggo+fS8awvS98FvRct6Ho68NAH1eemwK\nZOcWsuJrj7Oj/laq/IfQ3XkGe55NjXtaRsDBuGY++XwqqlZfSFSWcB18UZgG70hsUHdGztywEZoO\n1pWXopGitL2ZPOsNvyvml27KTb/YecxcQ0moS9E5mKkQOGYrlJUzd4tr3kv5opWMyxlE+5Ify417\nXZjxETWLv2bmk88nwTMYSz5n5lUKWb+wvIYuVTlZvf/nT9r17G+RgIoLvpKQNSWVCtfyz1ER7aX5\ntYcTskY8GB2I7QpqrakZCIwWb6Qm1IrLPihaSsIJ+H2URAbw5q9J+uDOZFG/8SN0qcqwNv1e0QGD\nsz/WCq2dQ63Q78W8+CwAuvaJ930OHhs4ZMmfu5sBAOU1y+mXCtB3inu5PBV54SF8Wan5vDkeyzdd\nSZ9UiHHPnaKlJAQ5GqXc/gqHM1emxXBVh62RKv+hlOiuAZBdPQRkLba89NmwmSp5xZUcymikbPgF\nxcUD40Ox2Dm7uFqwkvghqVSsveIWnFc/j11dSOPWr7Djl1fhG/eIlnZSzGEnk3rx/ptKx5JTQIem\nCvOgON/nSUesS81SkPodA/GmZuXZOLEgtT6TtDUj3lhi05qOsXPeYkzSJMPHCiBTlbB3GABLGm4Q\nzBS1RkOXoZYcV1PS13YOxgoCtAro3kjPTFCcmLR3AWAVWLkxlH8mi/zNjHtdhIIBFvY9RHPmGoor\nEzf0qOHCz2LHCtuUV7XxNm/vQhvzUjMQyFmxBZUkc3TbY6KlJJyBo81opCjawiWipSQMlVqNve46\nFkY6aHnz8VN/QRDeY63QxvxKsUIEUtVwJkFZw+RR8Z7rUe8QEVnCmjv3EjTvRFKp6Ms9k1rfHkXO\nGxjzjGLFi2xJzefN8VBrNPQt+jSLw4c4susl0XLiTveRPRTLw/irPiBaSlzQLjidTClA54GtoqVM\nCe3EAHZVLiq1WrQUIQRqtlAiD9PRskO0lHcRcnYBkF9WI1ZIAiiraaDiX95ka/GnWD36JM6fr6dt\nrzKtauRoFGvUTThzPvk8FRx566kJHGJyYkzI+mFPPwC5xZVC1lcyao2Go9mnUzO2LXmbo+PD+GQ9\nxjTYWH4vWWX1AIy07xOsZHbIE3aCshpzdo5oKYpiLHcFleHOpN/LxkZiyWcldG/MJ59PQtjVS1SW\nhD5ssuo3o5MitG17kuYX/0IeLuTV1yZ0TZ3eQHvllSz376L70O6ErjVT/I5Y8jm7KDVbB6sbzmQU\nM7Q9J1pKwhntihnrWyuWC1aSWJZfdB0Osom+qdwhXm9fNzlzrBX6nRgyjBzVLcJqF39vU/tGGJWy\nU3oYWrzIWLqZDCnIke1Pi5byPka6Y8NfdHmpP2zwndRf/CW8ZDL+6q9ES4k7gztinVsLTrtCsJL4\nULFiEwCjh1Jj6KBxcgi3Try3oCgWnvERIrLEyI7/FS3lXag9PYxiTotugOOh0xvYcP0dHLrgz+jk\nAJWPfJCt936LSDgsWtq7GB9zkykFIGvuXiPTIaP2HHRSmPbdYjZKVWODuMmaHw55AjRLLsKMjyM7\nk/NOq/HZGVVZ07KbtrhmJQC+fuXNDJgOap8Dt2RJy3M0GzIWrEcjRek6kNzB95NO5XRvzP9FnATN\nWB8OyYpObxCmYdHq85mQDQSPPIdu3z0MkUf9xg8nfN3FW27CL2sZfv62hK81E6KePiKyRG5hatoH\nqNRqOszrqPW8ycFtyWtVEkFo8CARWaKkul60lISiN2TSXnkVy/076WzZLlrOcYm6ewnKanIKxO98\nisSdu5qqUKvwKlu9345HPe/5CLBo/WZ8sh5/y1OipbwP72DMJ9VcvEiwkvhiNGVzsOAyGryvMtTT\nJlpOXLH2vkibpob8ktTcoH4vucUV9EmF6PuV+Wx5L7bwML6MudvRkVNQymF9HYX9z4uW8i4yJvpw\naNJ/ANSy07dguHE7zaYz2ND5aw7/9GyGettFy/on7pFYIkBjmfdDnQrVq88nJKsZP/yCkPV1viFc\nqvQalh5Pak+7hKCsYXz/E0lZLyPgYCxN/dKteUU4yEbtOCxayqzQB5x41VbRMhRHWf2ZAHjakpt8\nDrtjQzqV0L0xn3w+CRmTg4xqxO5K6/QGWo2rWOJ8gbrAPjorP5yUKjlrXhHN2eeyxPmC4ioGADRj\nAzgkGxqtTrSUGVNwyXfwqLKpffpKtt7zr0QjEdGSEoLO1caAqghDhlG0lISz5JKbCMpqht54QLSU\n46IdH8Axh1uh3yaj+nR0UoSjAqenAxiDTiZ08y1pEKtIbzU2UuZ8Q3E+qQF7zHsvv2KxYCXxp+Ki\nW5CQ6Xz6dtFS4oZjqJdFocM4Ss4VLSWuDJpXUOlrVtz18V6CAT+5souISby3oEjGFmxmQbSb3vZm\n0VL+iTU4xJhhbmwKWGx5rPzqI+xc8SMqA21k3nUWu5+6S7QsALz2mI2DPntunIvZYjRl066rJWdk\nm5D1swIjeHXzFiknwmjK5nDGSkpHXk3K8ykr7GRSl76bAUP6SizjR0XLmBUZIRc+7Xzy+b3kFJQy\nIBWgG9qT1HWV1L0xn3w+CdnBYSYyxFcIhKrOw8wEIVlNzYVfStq6Us25mKRJOhToMZjhH8KlyRct\nY1aU1TRgufkt9pnPYUPXf9Py0/NwDPWKlhV3ciY7cGSkR/XZqbDkFHBUt5gcu5gA+VQYJwdxaVP7\nuokHC1bGklLeVrHJZ0tklIA+fQPo6RJYcB7F8gg9rcryupNcXbjJSkvvuqKKWppMZ7Fs8GEmxtyi\n5cSFzrceQiXJ5K++XLSUuCKXb8CKl562/aKlnBTHQBcqSUY9hwfbAlSe/lEA+t/6u2AlMSLhMPnR\nEYKmuXNeJJWKNR/8Cq5PvsigppRVO77KztuvFD64c9IVSz6b8ub2Bs108BRsYGGoDa/bmfS1rREH\ngYx5i5STMbngfErlwaQ8n6xRF6GM9N0MmDBXUxrqTumiNFPYRUCffjFzPBjMWkbJeEtS19RPDjOq\nkO6N+eTzCYhGIuRH7QSzxAcGFesvA2C/6cyk2kxUNF4AgPPAi0lbc6pYgiNMGFI/EDBZbDTe8iA7\n6r5Hjb8ZfncGBxQ8sG66BAN+SiID+K3pN9zmRHgK1gsLkE+FNTSCL2O+zdNiy6NTVYFxaKcwDZFw\nGJvsJmJM/ftYvKhY/0EABnc9KljJu8mY6MOuSd/rJnPjjZiZ4MBTvxMtJS5o2p9hiDyqlq0VLSWu\nFNafDcDwgZfFCjkFroFYxVZmrnhvQZEUltfQpqnB2vOsaCkAOIa60UkRVNa5k3x+m9LqOqr+5XW2\nFn+aNe6n2fOw2E6PsGcIgOy8UqE6UgnTknNRSzIdu5I7KycUDGCTPURM81XqJ6Niw4cAGNzxUELX\n8U9OYGaCaFYaF9LkLyVTCqSsHZocjWKV3UQylJHsVBqholUU4GSkvzNpa2YFRhjTK+OamU8+n4BR\nez86KYwqW7w3akHpQvasu53SK3+R1HXziivplYox9Cur8lmORsmL2gkZ0yMZIKlUrP3wVxn4yJP4\nVEaWPPdJtv7p/ynS7mS69B9tRiNF0RYuFS0lafwzQN6tLK/HcChIruwkrIANNSUwYl1J1WSLsOvM\n5RhELcmozOK7a5RCYVk1napKTD1ihgqdCGtgAK8hfa+b2lWbaNUsovjwvSldaQPg942zeGIX3bln\npd2gm7Lq5YxiRupRVkz2Xnz2LgAsRek1oHMmOMouoDZ8hOE+8S3Uzr5YIiMjf26eF61Oz/rP3c5B\nXT0LD/1WaKeHPDZEUNZgsSkjGZAKLGw8G7+sxd+a3PjAOdQT6+SwzCefT0ZheQ1H1Quw9CTWl9s1\nEvOuVZvSN3a2lMdmJI10KKsLcKpMjHswSCHISt/q9NmQvWgDAP0Hktd9a4048CvAzQHmk88nxNkX\nG0yhz60UK+QYjZuvoaB0YdLXHbCuZqGvSVGJULdzOHZTs6RXxUBV3TpybnmLPdnns6HnDxz6r3Nx\nDHSLljUrRrti7VfWivQeNvhO/i9AVlZ1mmOoB40UVcSGmhJQV55GljQpbDik59jAIa1FGcGAUhgq\nPItFgRbFdA5EwmEKosMEzelbLSipVHhXXk+ZPMD+V/5XtJxZcXjrE2RIQTKXXyJaStyRVCq6jcsp\n9ir7hTTs6gEgr2RuJjnfScmGmPVG1xvirTcmhmPe9daSasFKxCGpVKgu+D65uNn/jx8L06Hx2RmV\nrGm3QZZIDBlG2gx1FDh2JHVd91BXbH3bfOx8KkaKzmFR8CBux1DC1vDYY8lnvTV9Y+e/QA+PAAAg\nAElEQVSiRY0ATPYn15ohXngcAwCo07k6fRYsqNtAUNbg70rOvSzg95GDh2iWMoo25596J2B8JJb0\nMxfMDa/aE6GuOlNxvs/OgVgArc9Jv0DAaMpm9U3/w46Gf2eh/yDSH86k+bWHRcuaMcHBQ0RkiZLq\n5aKlJA1DhpF2wzLykhwgnwr3sesmY463Qr9N6YqY77Pj4KtC1h93xjwfM23pW1E7E7IbLkYrRWjf\n+phoKQCM9B9FJ0VQ56R3Iq3h/E8xTA6aHf8tWsqsCBx8mnE5g9p1m0VLSQiB4nWUyMPYB7pESzkh\nam8fDrLnxJDhU1G+aAVdqjKyOp4WLYWwswuAvNK5m3wGWLz6XPYaz6C+615GR/qFaDD47Xg188O4\npst48WksiHbhHO5L2poTjthapvz0e+eMNzmNl6GWZNreTJz1xuToIADGnPQqQHsnFmsuI9jQOA+L\nljIjxo4ln/WWeVvB46E3ZNKlrcLibErKes7BWEGAJlsZ75vzyecTEBrtAiB3jgdpSvR9fntjwJhX\nKVZIgpBUKtZefiPDVz7NmMrMshevYeudNxMOBUVLmzZ61xEGVYWKmK6aTMaKNrAw0pHQ3f/pMv52\nK3Th3N5Qe5vCsmqGyEPXL2Y4ZMAdC6BNuekbQM+EmsZz8GAkckQZPqnOvlYAMguS33mUTLQ6PZ1V\nV1EX2MfRZmUOTJ0KZm8rPfpqdHqDaCkJwbZkIwA9+5QTk70Xw+Qgoyk+EDqeDBafz+LAflz2QaE6\n1N5eRrDNbwoAtkv+nQz8tP7j+0LWzwo5mdDN+6FOF9uy8wDo2vVM0tYMuWJdarZ5G6FTUt1wJg6y\nUbcl7vwEj8XOljT3Sx8yLMA6Lt6uaSZMuocByLQpo9JWiYxaG6gMtCYlt+M5ljczKKRocz75fAIk\nTx9jckZaTrefDkr0fQ6MxnZwbMXpnUSrXLKagq9tZZd1Mxv676b1vzYl1Zw+Hth8ndgz0vs8HQ/r\nsQC5I4kB8qkIjcYC6Jz5Vuh/0mduoGx8P3I0mvS1o8cGDuUUKiMYUAoarY4203qq3G8pwn/YNxQL\n/m2ltYKVJJ4lF9+IT9Yz+qLYYVyzoTDUx1hW+j5zFtStxyfrCXe+JVrKCbEEhxk3pG9L9HTJW3NF\nrBrwDbGWNkZfH6Pa+fMCULG4kd22LTQOP8hA15Gkr58ddRHMmPdDnS4LG85gTM4gfDSJHWveASZl\n3ZzPB0wFlVpNh/V0Fo3tIBjwJ2SN6NgQUVnCmpfeHtw+Sw2l4R5F2Z5OlaAnlnw256b3OZoNmoq1\nZEoBug/tSvhaE45Y3syUrwz7wPnk8wnQTQzgUM+3C4DyfJ+j7n6CshpbnjLaBxJJhtHE2pv/ys6V\nP6Yy0Ir2zrPY//I/RMuaEsGAn5LIAP7sGtFSks7ChjPxyXpC7WIsHY6HytuHFyNZ5vlWz7eJlK4n\nD5eQl09pYhgvmXOuK2BK1JxPDh7am94QrYTIaCchWU1+SfomNN/GYsujOW8LDa7ncQz1ipYzbVz2\nQax4kXPS95mj1enpMCwhd3SPaCnHRY5GyY+MEDSmf3w2VRbWn8YgeehanxSqwxYcZDxjPhnwNpUf\n/iFRJPof/nZS1w0G/FjxEjXOv2NOF41Wx1HjCkpcO5O2ptY3hEOVO+/PPUW0Sy4iS5rkyPbEdK+p\nJkZwSWY0Wl1Cjq8UVPlLMEghBrtSz3ojOj4CQHbufOXziShaeiYAjsNvJnytsCtmHWQrUsZ7zCnv\npJIkGSRJ2iFJUpMkSS2SJH3/2H+3SZL0vCRJbcf+1/qO7/ybJEntkiQdkSTpA/+fvfeOjus87/w/\nd3ovwKCDIAgQINhJkRKp3i3ZliW5O8UlZZ1fnKzjzeZ3NtlscbJJNifHW0+S3exvndjxOnZsx0Xu\nli3J6lQhxU6woNfpvc/c3x8X1FIUAQxm7swdct7POToiZ+593kdnNHfe9ynfp57/AfXClVsibhYb\nA2g+3WdjaoGgzodOr9falYZx82OfIvCLPyGqa2PPz3+Nl/7mn1PI57R2a00WJ05jlEoYu7dr7UrD\nMZrMXLDuoTvcuA3yephTCwR1otLmSjp33QPAwonGt7AbM36iOpEIuBbDtz5OWZYIHfuu1q5gik+z\nrOu44Q86l+l96DOYpCIXvv/ftHZlwyxPnATA2ntj/+YkOm9msDjZNEM5ryQaWsYq5W+4gdC1IOl0\nTHfdz470ayTjEU18KBbydMghCk7RaXOZzr4tHOv9MAeiTzJxqnGDh8N+JRCgc4oq9GrI9t9Ov7zI\n0syFhqxny/qJG4VESqVsu+09ZGUjqZP12b+ZskFiLbB3dm9WZiUFJpp7wPC10KUCxLDfsPJnatA7\nuI0wLnQLr9d/sfgiKdmCs0mKzypJ4+WA+2RZ3gvsAx6WJOkw8PvAz2RZHgF+tvJ3JEnaAXwE2Ak8\nDPy1JEnXXZTQV1omKyo3gObTfbZllogaW09PcPO2ffT83gscaXuUWxf/nqN/80mtXVqT4OQJADyb\nW2fY4JVk+m9nc3mW4MK01q4AlxNq4rBzJZu33UQMO/J04xNr1lyQhEG0cV4Lb0cP541jtC9q3zng\nzMwTNrfOXmDTyF7esB5m2+w/ks2ktHZnQ8TnzgDg27xLY0/qi3P0TvSSzNSxp7V25W2EFhSZGrNv\nUFtHmgz3Te/DJBUZf+6fNFnfPzeBQSqjbxvUZP1mZccHP0tSspH4fuOqn+MBZcih2SOqAquhc49y\nJp15vTGydu5ikIxFFKNVis3hZtx2EwPBZ+siaWfPB0mabvy9c9/ofgCyC6c09mTjGLIhYjqP1m40\nNZJOx4x1B53xk3Vfy5ReJKRvb5rujXW9kBWSK381rvwjA48BX1x5/YvA4yt/fgz4qizLOVmWJ4GL\nwC2qel1nkvEIblKUXaJyA5pP99lT9JNu0Y2Axebg0Ke/xKvuh9kd/CHpZExrl1Ylv3SGsizRt7U1\ng8/tu1YGozRog7we7eUAObtoub0SnV7PpHU33bFjDV/bWQyTMYtK9NWI9N/DaPG85vIPHcVFMvbW\nqhY03PYp2ohz8of/W2tXNkQ5cJ6cbKR74MaV3QDYsu9uirKO1EXtZWmuJr6kzKVwdg1q60iTMXrg\nfoJ44Kw23RzhBaVK1NbZHG23zYK7rYMzQ7/G3swrnH7xBw1ZMx1Sgs+29tZJaqrJ4PaDhHEhTT1b\n97XkchlfOUTBLhIFGyE79A565WWmx9WXh3IVw+TMN34lusPlZYkOjKHzWruyYSz5EEl9c1TZNjOZ\nrv1sLs8RiwTruo496ydubJ7zZkUhcEmS9JIkvQH4gSdlWT4CdMmyfHl08xJwORrYB1x5Wpxbee26\nITivVG4Y21rrwLkWzaL7XC6VlI2Ao7WDaPbDn8Am5Tjz1Fe0dmVVTOHzLOi6sNqdWruiCUO7biWO\nnfJE/TfI6yESaquT7bmFgfI8Yf98w9aUy2XayhGKtubZDDQbnTc9CsDES9/WzId4NISXBLJns2Y+\naMHO29/DhG4Q36m/1WQYZ7VY4hMs6PvQGwxau1JX7E4PE8atuAL1H1SzUfIhpdOnvXdYY0+aC73B\nwKX2u9meeEmTjoLM8gQA3r7Rhq/d7Oz7wL/CTxuGpz7bkOddLqocnV0tMLemHuj0eiYdN7E59lrd\nP69IcBGTVERyieDzRthy2/sBWHzlW6ralctl2uQIRVtrFKAtW7fQnrqktRsbxlGMkjW3ae1G0+MY\nuhWAmRP1jRMo3RvN0/lcUfBZluWSLMv7gH7gFkmSdl31voxSDV0xkiR9UpKk1yRJei0QCGzk1roT\nW6nccIgKgTdpFt3n8PIcJqmEzt3am7axW96hDLA5o+309LVoT08QtLbud0hvMHDJto++qPa6z6F5\n5eApEmpvxzN2FwBTx55q2JqpZAyblANHa2ygq2Fo12ElIHDpJ5r5EJhRBlGaOoY080ELJJ2O4O5f\nY0t5itMvaK+7XSntmWkittZIFITbb2I4d45cNq21K28lNkdaNuNpF8+2q7HufgyblOPcC080fO1S\neJqSLNHZ31rPskqw2BxM7f4dthXHOfbkl+u+XjmxBEBbpygGqJbi5jvpJMzsxRN1XSe8OAWASeyd\nN0Rn3xYu6ofxzqor1xmPBDBJJSRna0hvZtwj9JXmKBbyWruyIVzlKAXLjV+dXiub99xBWZZITtRv\n5kCpWMQnhyk6rrPg82VkWY4CT6NoOS9LktQDsPJv/8pl88CVT+n+ldeutvW/ZFk+KMvywY6O5qr+\nygaVyg1vr9ikXaZZdJ/DK4kBc9uApn5ojU6vZ6rvEXZmXm8aTeErKeRz9Jbmybhv7Pbn9chtuoM+\neZnF6XFN/XgzodYxqKkfzciWPbeTk43kJ+o/cfgykeUZAPSu5tkMNBuSTseU9zZGEq9qNlw1vqi0\nqrt6Wu85tufhXyOEm9KLf6W1KxWRy6bpKS+R87RGxa1p6A4sUoHJky9q7cpbMCXnCeg7mkZbsJkY\nu/XdxLFROPWdhq9tiM8QkHwYTeaGr309cNOjn2Ja10/7kT+ve6BHl1omgksM46qB3v0PAbD4Rn2T\n08mg0sjt6BDB540S6L2P0cI5QstzqtmM+JXPw+Bujb2zvnsHJqnI/MQZrV2pmEI+h5cEZZsIPq+H\ny9POjL4fm199eZrLhP1zGKRyUxVtrrs7lCSpQ5Ikz8qfrcCDwDngCeDjK5d9HLi8m3oC+IgkSWZJ\nkrYAI8ArajteT8qRGQqyHl93a1TQVEKz6D6nAkqg1dEpPpu+uz+BXpK5+NTfae3K21iYOI1JKmHo\n3q61K5rStfdBAGaPale9CZBZSah5RELtbZgtNi6Zx2gLNWDi8AqXBw5ZvM2zGWhGjNvfiVPKcP7V\nn2qyfs6vtDt2bh7TZH0tsVjtnN/0IfZmjjBzvvmnrS9NnsUglTF2btPalYawed+9AETPaj+U80oc\nuSViJlH1fC1MZgvnXbczEn2u4ZVs9swCIVNrBGyqwWA0ETr0+2wuz3H0ifom3EyZAFGd0EOthf6h\nnSzhwzjzXF3XyYWUYKe3e7Cu69yI+A48hk6SufSietIbyaCyd7a2yN7ZM7gXgNBk8+/BLhMLKp0d\nOkdrVKfXit+1m4HM2bpJCEWWlPO/uYm6NyopTegBnpYk6QTwKorm8/eAPwcelCTpAvDAyt+RZfk0\n8DXgDPAj4LdkWS7Vw/l6YUzOE9C13/C6gRulGXSfL28E2kUQjYHRfZw3jNIxqZ0m6mqEppRWOM/m\n3Rp7oi2DYwcaNhhlLcrRWYqyDl93a3cMrEas4wBDhYsNG+CZjSwA4BSaj2syeusj5GUDiZPf12R9\nKTpNBCcuz40/Wf1ajLz7d8jLBhZ//F+0dmVdQjNKZZB7YKfGnjSG9q5+pnSbcMxrP1PgStqKfrK2\n1p7JsRa6nY/hIcm5I40dRNxeWCRtFb83a7H/wV9i3DDG4Mn/TiaVqNs69nyQpLE1f1PUQtLpmHUf\nZEvyGOVS/UIM5fgCRVknJFKqYOue2xXptIs/Vs1mNqLopTt9rfEb0z+yj7IskVs4rbUrFRNbSRCY\n3CL4XBH9N+MlUbfq9mRA6bRtpu6NdYPPsiyfkGV5vyzLe2RZ3iXL8h+vvB6SZfl+WZZHZFl+QJbl\n8BX3/Kksy8OyLG+TZfmH9fwPqAf2zCIRo6jcuJqm0H2OzZGVjUJPcIXI1vcxXJpk4lT99IKqIbdw\nhrIs0T+yT2tXNEXS6Zh0HmjIYJS1MCTnCUrtGIwmzXxoZuxb78QglZl4ozFVhIWYsoH2dIgDzVrY\nnR7GLXvo8WsTYLOmZgkYWnfQkK97E8c997Ej+GNNhqRthNzSWQB6h1sn4bnYcz9j2RNEVyqNtCab\nSeEjSskpgpyrsf2Ox8nIJlJvqDuIay1y2TQ+OULRLZLPayHpdJTu/yydhHnjn/6ibuu4ihGyluaS\nm7wu2XIXXhJMnq7f+ceQXCQkeUUxWhVIOh2TbXewLfmqarMJivGVvXNn8wTS6onV7mRR14k5rK10\n40ZIR5T9iMUjOm0qwTd2OwBLZ+rTxZEPN1/3hhBluwbegp+0tXUPnKvRDLrPxtQiAZ3QE7zM6P2f\noCDr8T//Ra1deQumyHmWdJ1Y7U6tXdGc4sAddBJmbkK7zLUts0jEKLLQqzG4/17KskTifH1bOC8j\nJ/zkZT3uNvGZrEdq831sLs+yMHmu4Wu35RZItHi1oHn/R3BKGc48+02tXVkTQ/giftqwOz1au9Iw\nfAffj0Eqc/655hg8HFgZbGvwiiDnaljtTs46DrEl+ExdKzavxD93CZ0kY2gTcnXrsePWd3Lcegs7\nJz5PLBxQ3b5cLtMmRyjaRPC5VgYOPgxA4OSTdVvDklkmahDatdVi3vlu7FKW8ZdVqkNMLJORTThd\nrSNbE7AO0Zae0NqNisnFlgFwtLdGdXqtbB47QFo2U5p5tS725fgiedmA19c8cU0RwbuKYiGPTw5R\ndIqKtKtpBt1ne3aZmEkEbC7j7ejhlP0QQ0s/1FQO5WraUhP4LVu0dqMpuDwYZeGYeq1nG8Vb8JMS\nCbVVcXnamTRswbFcnx//qzGklwlLXpFEq4C+Wx4HYPaVxsoLlYpFusp+8s7WDqTtuP09hHHByeYI\ncK6GOzWJ39xan9XWvXcouqcXfqC1KwBEF5QDsq1T/PavRXnbu+kkzPljzzRkvei8MjjV3tUawzhr\nxfnuP8Ehpznz9c+qbjsW9mOSikhOURVYK139w8xKvVjn6jcs2lUIkDKLTttqGbv1ETKyicwpdaTT\nDJkAEV1r7Z0znlH6Sgvkc1mtXamIYlwJPrtbRBqlVvQGA5PmbbRFT9TFvjG1QFDXhk6vr4v9amid\nb2+FBBenMUhl9J7WaOnYKFrrPnuLfjIWsWm7Enn3h+gkzJkXv6u1K4CSwOkrzZHxbNXalaagf2gn\ny7RjmG5MVe3VlIpFfOUgBYfYCKxF0Luf4eyZhgyCsmQDxA1tdV/nRmDT1t1K0nOysUMHl+cuYZRK\n6NtbO5BmMJq44HuAHYkXScYjWrtzTeRyme7iHClna82CkHQ6pjruZXvq1Ybp1a9FNjgFgLentT6H\njTJy5wcpyHqir/1TQ9ZL+ycBaOsfach61ztDuw7xuudB9i/8I8tzl1S1HQ3MAWBwi3OMGiy03cLW\n9HEK+Vxd7LeVguRtIvhcLRabg/O2/WwKPa+K9KAlFySub629s7F7B0apxPylk1q7UhFyKkBONrZU\ndXqtxH37GCxMkE0nVbdtzS4TMzRXp40IPl9FeEHZaFg7BrV1pEnRUvdZqUoPU3SKINqV7LjnQ8Sx\nkXvty1q7AsDC5BlMUglD1w6tXWkKJJ2OGfcBtiSPaqL7HPbPYZJK6ERCbU0MW27DJuWYPPVy3ddy\nFMKkTKKVs1LmO+5kW+aNug6BuprwnKKxZ+sWSTTXzR/BIhU498xXtXblmoT8c7hIg29Ua1cajnPf\ne5XP5vnGaQivRjEyS1mW8PUOau1KU+P2+jhr3U//8s8asicoR6bIy3o6egbrvtaNQt97/wQdMtP/\n9G9VtZsIKMO4rN7WlnNSC8PwPdilLJeOq1/ckYxHcEoZcIkzZy1ktzxAr7zMzIXaKzsdhRAZc2sN\n6/QO7gEgPHlcY08qw5AJEZHcLVWdXiuWwUMYpRJTdYituQsB0pbmSqCJ/zOuIu2fAsDVLSo3roWW\nus/BpRn0kozOLSRRrsRitXOu7X52xJ4llYhq7Q6hlR9Iz+bWGfy0HvLgXbQRZ+rc6w1fO7SSULP4\nWqslfaNs2nc/AKEzz9R9LU85TN7aXJnoZsa+691YpALjL6vTulkJ6WXle9Pe33oBzavZdvABRd7h\nrPYBzmuxvFIRZOsd09iTxrPtlgeJ4KR8RvvOJ0NijqDkxWS2aO1K05MZfhf98hJTZ+sv9WRKzOHX\ndYihaRugd3AbR7vez4HwD5g+d1Q1u7noAgCuDhF8VoMtB5UzaeS0+p1RocVpAAwe8VnVwsChxwBY\nfLV26TRPOULe2lrSm30jeynJEvlF7eYGbQRTNkhC3zqzN9Rg0647AYheUDf4LJfL+MohCk3WvSGC\nz1dRDM8A0NkvtNGuhZa6z9FFpXVQBNHejvPQR7FJOc489Q9au0J24QwAvVv3aOxJ87BpJWmzfPwn\nDV87dTmh1tXa8gHr0dm3hQWpC9PCK3Vdp5DP4SVO2d5cm4FmZvSWB0nLZnJnVBpaUwGl0CQFWU9n\nn9gL6PR6profYkf6NaLBJa3deRvJeeU3p2NL6yU8DUYTFzx3Mhp/UXNNSGtmkbBBPNcqYfjOD1GW\nJZaOfKPuazky80RNQuZho2z74B+RwUL4iX+jms1ibBEAT6foRFODts4+Lum34FxU/0waX1aCzzZx\n5qyJns3bmNIN4Jx5qiY7uWwaD0nK9tYKPlusdhZ0PVgi57V2pSJshQhpU2tJo9SKr3czS3RgXFS3\nQC0W9mORCuBurgSaCD5fhZSYI4ILq92ptStNi1a6z6mAshFwdQ02dN3rgbGbH2RB6sJyRvuhUKbw\neRakTuxOkfm8TM/mbcxLXZhnn2/42oWVhFp7n5APWI951z4GU8fr2god9iuajzqnCNJUitliY9x+\nkM2hFxomXWNKzLCs6xTVgiv4bv0ljFKJ8aebQ97pSuTgBdKymc7e1kywmXY9ios0515qXGfAtfDk\nl0lZRZCzEnzdmzhn2knXXP0T0u3FZdI20TG4UbwdPZwc/Dj70y9w7lWVKmuTy6RlMw6xP1aNgO8Q\nI9nTquulZsOzALi7RPC5Vha77mI0d4p4NFS1jYhfkazRt+DeOWgbwpee0NqNinCWouRbTBpFDeYd\nO+lNqlvdHlqcAsDkba7ffxF8vgpLaoGQXrRDr4VWus+FiLIRaO8VkihXI+l0zPQ9ws7sMfzzk5r6\n4k1NELAMaupDMzLvuVmTpI0UmyMhW3F5xGZgPeRNh2kjzlwdB3vEVoLPZo/QEdwIheEH6SbQMOka\nZ2aesFl8RpcZ3n0rM7o+HBdqb51VG1t8ggVDf1NN824kY7c/Slo2kzn5Hc18KJdKdJYD5B3NVWHT\nzMQHH2KoPMXcxVN1WyOTSuAjSsktKm2rYc8H/oAgHso/+feqJD4N6QARnUfooaqIZfRezFKBi0dr\nq6y9mtKKREq70EqvGfeeRzBKJS6+XL08VDyoBJ9N3tbbl2W9o/SWF8lmUlq7siZyuUybHKVoFefN\njVLouYkeAgSXZlSzmQwotmy+5vr9F79+V+HOL5Gw9GjtRlOjme5zbJ6kCKKtSt89v4JOkpl46u80\n86FYyNNfmiPjFlPVr0Y3fDcuUg1P2phSCwT1rdWmVi1du+8DYOnkM3VbIx1WDjS2dhGk2Qhbbn0v\nAEuvPdGQ9TqLC2TszbVh0xJJp2O+711sz53UPMF5Nb7cNFHboNZuaIbFauec8zDDoZ83PLl5mXBg\nHpNUFINtN8DA7R8GYO6lr9VtDf+M0qptbG/NroBasTs9XNr+KXYUTnHimdo/J2suQNwgzjBqMnzw\nHRRlHYmz6p5JpcQ8EZxYrHZV7bYiowfvJ46d4rkfV20jHVL2zva21gs+m3p2opdk5i8099DBRDyC\nSSoiOcSZc6N4Rm4DYPbEs6rZzIaUok1P96BqNtVABJ+vQC6X6SgFyNlb78G2EbTSfTanFwnqfQ1d\n83pi09bdjBvG6JrUrvppceqscgDt2q6ZD83K4MGHAQidfLKh6zpzy8TNrdemVg0DI3uI4ISZ+j3b\nchExcKgaOnoHuagfxj2rbnXTtYhFgnhIInsH677W9UTfnb+sJDif+ZLWrrxJJpWguxyg4G1tWaHy\n2CP4iHLh9fp/P65FeEFpCTb7BjVZ/3qkd3AbF/XDeKerD8isR3RRGZzq6BIdg9Vy03s/w5zUg+v5\n/1hzcsdZDJExi3OMmjjdbVwyjuDxqzuvw5TxExZnTlUwGE1ccN7CUPRFyqVSVTZyUUUvvRX3zm1b\n9gIQmTqhsSdrEwsq5xuDUwSfN8rgrlvJy3qyU0dUsynH5inJEu1dzVUUIILPVxCPBLBLWRDtaeui\nhe6zI7dM3CSCaGsRHXkfW8pTXDr5sibrBycVuQLPZjFs8Gp83QNM6zZhnX+xoeu2l/xkbSKhVgmS\nTseUbTc9sTfqtkY5oQxsa+tsLg2u64FA912M5s8QCwfqu87MOADmDhGwuZKB0X1c1A/TNll966za\nLEycRifJmLq3ae2Kpoze8X7ysp7o0W9qsn5iSamGF4NtN0Zg0zvYVjxXt26CbEBJCvj6R+tivxUw\nmswsH/w9tpSnOPq9v6nJlqccoWAR0o5qE/EdZDg/rqruszO3TNIkPiu1KA8/iI8ol068UN39K3tn\nbwsGn/uGd1OQ9RSWzmjtypokV6rTzW4Rq9koFpuDaeMQrqB6509dcpGw5MFoMqtmUw1E8PkKgvNK\nhYCpXQwXWA8tdJ+9xQBZMcxmTbbd/3Hysp7A81/QZP3sgqJd2DeyV5P1m52ltpsZyZygkM81ZL10\nMoaXBGVX623WqiXXe4h+eVFV3a0r0aX8RHBiMlvqYv9GxrvvEQxSmYsv1be7I754AQBXj5APuprg\n4COMFs8zP6HuYJRqic4qfngHdmnsiba4PO2ctd7EJv9TDRvKeSWFsDIQur1vuOFrX8/0Hv4QAJPP\n10d6Q47MkJWNtHeLoppa2P/wr3BBv5XNb3yOaHCpKhvZdBIXaWSHOMeojWXkLkxSiUvHfq6aTU8p\nRM4qgmhqMXzb45RlieCx6pLXyt7Z1ZJ7Z5PZwry+F2v0vNaurEk2qjwbbS0ojaIGYc8etuTGVSvs\ntGSXiRiaL4Emgs9XEF9SKgScoj1tXRqt+5zLppWhKU4RRFsLj6+b0/ZDbF3+IcVCvuHrG8MXWKQD\nu5jkfU1MI/dgk3JcekM9Tae1CKxUUxm9IqFWKd6xuwCYOVafZ5sp4yeqa6uL7aDEkHEAACAASURB\nVBudkf33EMFF+Xz92tQB8ivVgh0DrV1Ney0G7/4oADPPNof0Rn5pnLIs0Tu0U2tXNCe39V30yctM\nnnm18YuvDLZ1e0Wb+kbYPHYT07p+7BM/qIt9U2IWv75TDLirEZ1ej/Tof8Mjx5n6/MerSvCEl5Vh\nw3qXCGiqzZb991OWJeLj6gSf87mscuZ0iCCaWrR19nHBOEr7wjNV3W/KBIjqvKr6dD0Rtg3RkZnQ\n2o01ycf8ALjbxey0atAP3IxNyjGt0mB1V95Pytx8EihiN3IFuZBS6dbWK4LP69Fo3efgglJVo/eK\nVvV12fsRfEQ580LjW6O9qUv4LYMNX/d6YcuBhyjLEpEzjUnaXE6o2ToHG7LejcDQntvJyCbyE9W1\nBq6HLR8iaRQDh6pBbzBwyXWIrbGX6yr5JEWniOAUw22vQffACGeNO+mZ+b7WrgBgjFxkSdeBxebQ\n2hXNGbrjg5RlieVXvtHwtc2peTHYtkoWuu9nLHui6oratXBmF4iaRABNDbbuvYOjY7/LvszLHPnq\nn234/nhAGf5k8orPQ23cbR1MGgZxLqujlxpaWjlzusVnpSbhvnvZWrhAaCURsxFs+SBJY+sWbuTa\nttFT9pNOxrR2ZVXKyZXgs090d1RD9447AQieU+f82VYOkW/C7g0RfL6SqNKe1tYhfmwqoZG6z9EV\nPUFru2gdXI8dd3+QGHbyR/+hoeuWikX6i3Nk3K09+GktPL5uJg1bcC42JmmTCSobaG+P0OGsFKPJ\nzIR5O77w0brYdxfDZC2iOrBqtj2ElzgX3lCvvfZqbMlZAgZRubEa8a2PMVieYfK0eoNRqsWTniJo\n3qy1G02Br3sT46YddM39pOFri8G21eO7+QMYpDLnn/u66rY7Sktk7KJjUC0OffgPOGa7jZvG/zMX\n3nhuQ/emw/MAONrF51EPgm0HGMqeVUXWLrYSfLaIM6eq+PY/ogwtfunbG77XVQyTbWG9dHPvTnSS\nzPyF41q7siq6dJAIzqbTGL5e6BvaoQy9n6u9ey0Zj+Ai3ZSymyL4fAWm1AIBXYdoT6uQRuo+Z4JK\nVboYZrM+ZouNc+0PsDP2LMl4pGHrLkydxSwV0HXvaNia1yMB3yFGsqfJZlJ1X6scmaUkS/h6Buu+\n1o1EvOtmthQnSMTCqtqVy2Xa5AhFm6gQrJaRw49SkiWib9Sv8tabXyBhFV02q7H1nl+iKOtYeuHL\nmvpRLpXoLc6RdolutcvEBh9iqDzF/MTZhq4rBttWz9a9d7CED9MFdZ9piVgYD0lkt5DdUgtJp2PL\nr/4dEcmD9Tu/vqE9QiGmVLa7xbDhumAcugOblGOiyoF2V5IKKVXqzk7x3VGT4d23EcSD/uLGEqTK\n3jlKydq6wef2LfsAiE6f0NiT1TFmg8R1QnazWiSdjhnrdjrjp2q2FVpUEmhGjwg+NzWO7CJRk2gV\nqJRG6j4XIspGoKNPBJ8rwX3oo1ilPGefalxwIDihZGPdm1p78NN6WEbvwSwVuHT0mbqvpU/ME5Ta\nRBZ6gzhG7kAvyUy98YyqduORACapiOQUvzPV4m7v4rxpB77FZ+piv1jI01UOkHeJQ+dqtHf1c8a6\nn82LP9JkuN1l/AuT2KQcUseoZj40GwO3fRiA2Rf/sWFr/t/BtiKoVg2STsdU531sT72masFAYFYZ\nnGr0DapmU6B0sIXf+T/oLvsZ/9+/XvEzsBxfoiRLeH0iSVMPBvY/AEDk7DM12ypEFFmINtE1qCo6\nvZ4Jz22MJF7ZUIV6PBbGLBXA2brdNX1DO8jLBkpLZ7R2ZVUsuTBJgwg+10K6Yz8Dpdmai58SfiX4\n3IyKASL4fAVtRT8Zm2i1rZRG6j7rEgvEsGNzuOu+1o3AtoP3Myd1Yz2rfhvnamQXlR/EvtH9DVvz\nemT44DsoyjoSZ+uftLFlFokYW3ezVi1b9t1DSZZIXthYW+16RPxKEs3gFsHnWoj238vW0qU3ZwGo\niX9+EqNUQt8mDp1rkd32XnrlZcaPPq2ZD4HJkwA4erdr5kOz0btljEv6IdzT9R3KeSWBuUsAGNtE\nwqZaXPvfh1kqMP78N1WzGVtQgs/ObiGFpjbbDz3Eq1t+g4OJn/Hqt/57Rffo034ikhu9wVBn71oT\nX/cmZnR9WBZUkIOKL5KWzbjcrasxXC+M2x/GKWU4/1rlZ6DostL9bHC3bozGYDQxr+/HGrugtSur\n4ihFyJrErJRacAwfRifJTJ+o7fyZWenecHc1nyydCD6vkM2klMm2rubLEDQzjdJ9NqcXCelat91m\no0g6HbP972FH9jjLKwfDemMMjbOED4erdacRV4LT3cYl4wju5fonbdyFZVIWEejcKA6XlwnDMC7/\na6raTQYVzUert/naoK4nug8+CsDES99S3XZ4bhwAW/ew6rZvJMbu/UVyspHoka9o5kNqXpGW6Bre\nrZkPzYi/70G25c8SXJppyHqxlZkcjk6RsKmWbTc/SBgXnP2eajZzwSkAOjaJzoB6cMsv/wmnzPvY\nfeJPmTq7/l7BnA0Q1YvATD1Zcu9nKHOi5jOpMbVISNcuZDjrwNbD7yEv60mcqPxZlwgpe2eLt3WD\nzwAh+zBdmUmt3VgVTzlK0SKecbUwsOcuABKXaosRFKNK94avd7BWl1RHPFVXCM4rX2aDVwSfN0Kj\ndJ+duWUSYpjNhth09yeUwQ5PfaEh63lSk/gt4vBZCeHOQ2zNj5NKROu2RrlUorMcJO8QLZ7VEGq/\niaHcOfK5rGo2s5EFAJyi7bYmBrffzBI+jBNPqm47vXQRgPZ+EbBZC5ennTOOQ2wNPNmQocPXQgpd\nII6NdqGh+ha6D70fnSRz6bmvNWS9TGAKAE+v0N6uFr3BwEXvXYzFX1RvHkR0mrRsxtMu9s71QG8w\n0P0rXyItWeHrv0ImlVjzens+REpUBdYVafB2XKQrSgashS3nJ24UBU/1wOlu47xlN93+Zyu+JxtZ\nVO5t8WGdhfZRugk0dJ5TpeRzWVykKNvF96YW3F4f07p+rMvHarKjSywSxYHF5lDJM/UQwecVoksT\nAFg7mq88vZlplO5zWylAVkiibIj+rbs4Z9xBz9S3667LWSoW6S/OkHaL9s5KcIzdh1Eqcen1+n1v\nwoF5TFIRnUck1KrBNHQ7VinPxMnah9dcphhTNtDeLtGeXguSTsd0++2MJl9TNTkAUApPkpf1dPaJ\nyuf1KO/8AD6inH35B5qsb09MsGjYJKrTrmJw+83MST1YL/2wIeuVo7MUZR2+bvFcqwXznsexS1nG\nX/quOvaScyzru8X3o474ugdYuPe/Mlie4cTnP7Xmte5SmJzZ1yDPWpP+ffcDEDj1VE12PIUAaatI\n2tSL5MB9DJZnWZgar+j6y3tnT2drn2csvcpMpfnztQUm60E0qHxGOocYqF4rftduNmfObEgX/WrM\nmWXCuub8vRE7khXSK5Ub3h4RPNsIjdB9zqQSeEkgO1s741kNsZH3MVie4dLJ+lamL82MY5EK6LuE\n9mYlbD3wAHlZT2q8tg3yWoQXlISauV0k1KphYOUQEz1XeXXGuiT9pGUzDqcYyFEr5u3vxC5lOf+K\nutq2pvgMy7ouoctZATvv+SAp2UL69cYNt7uSztwMcfugJms3M5JOx1zXfYxljhGPhuq+niE5T0Bq\nx2A01X2tG5mxW99NQraSO/EdVey5swvEzKJoo97svvt9vNT7MQ6Fn+D1H3z+mteUikXa5Cgluwho\n1pOezdtYogNTDWfScqlEuxymaBeSdfWi9+bHAJg98u3Kbkgsk5ONuDyt3TnQMbQPgNj0CY09eTvx\nFVlBk1s842rFuPtxvMR5/fOfrtqGI+cnYW7ORIAIPq9QisxSliU6+oRswEapt+5zcCWIpveK1tqN\nMnb/x8jLBoIvfLGu6wQuHQfAObCrruvcKFjtTi6ad+ALqDAYZRWSy4qUkLNLPNOqwde9iVmpF/PC\nK6rZNKT9RHQeUYmmAqOH30VONpI8pW7VrSs7T8QsZFEqwWJzcNZ9J9siT6tegb4eyXiETsIU20TB\nwLXwHHgfJqnE+ee+Ufe17GKwrSqYLTbG3bczEn2upoonALlcpqO0TM4h9s2N4OAnPsc5w3ZGj/wh\n8xNn3/Z+JLiAXpLROcX3pN7MufaxOXm86o7PcGABk1RC5xYFT/Vi09Y9zEndWKZ+WtH1+kyAsCT2\nzj2DY2RlI2X/258xWpMOLwFg9YqkTa3su/8jHOn4AIeXv7pqQnM9vKUguSbt3mjtb/EV6ONzBCUv\nJrNFa1euO+qt+xxbmgLA5hMVnBvF3d7Facdhtvp/TLGQr9s6mYXTAPRu3Ve3NW40Yl2HGSpcJBYJ\n1sV+PqwMm/IJ+YCqWXTvYzB9knKppIo9ay5I3NDalRtqYXO4Gbfuo28DuoGV0FFcJGMXAZtKMe77\nEG5SnHlO/eGPa7E4cQoAc7fotrkWozfdSwAvunPqDbBbDU9hmbRVHDjVwLjvw3hJ8Mb3/mdNduKR\nAE4pg+wRUiiNwGgy4/7oF5ElHel/+OjbknExvzL8yegRlej1pjxwG+3EmL1YXXVodHkaAJMoeKob\nkk7HnO9OtqWPrauVDmDJBogb2hrgWXOjNxiYMwxgi13Q2pW3kYstA+BsF884Ndj/63/FOcN2xo78\na6bPHd3QvblsmnZilJp05pMIPq9gyywQMTRneXqzU2/d53RQCaJ5egbrYv+GZ+8v4CPK6efVaeW8\nFobweZZpb/mWqI3g3nE/eklm8rWf1GeB2Bwp2SI+kxqQBg7jJcHs+TdUsecohsiYmlOD63okM3g/\nm+QF5i6eUsVeLBLEQxLZO6iKvVZg++2PEsVB8fjXG7pubEZJeLZv3tnQda8XdHo9E+13M5Y8Qjad\nrNs6pWKRjnKIglMEatRgzz0f4IJ+K30n/6qm6mf/7HkATD4xBLJR9GzexqVb/yMjxQsc/dvPvOW9\nZEhpSbe1iWraetO95z4Alk5UJ2uXDMwC4OgQiZt6Ytv5TixSgfNHvr/utY5CmLTYOwMQcQzTnZ3U\n2o23UUoowWe3GKiuCiazBe8nvkxOMsHXPkYqEa343tCiEjczeJrz90YEn1fw5JdJWkW2phrqrftc\niioVA75eIR9QDTvv/gBRHBSOfqVua3iTl1i2DNbN/o3I8P67ycgmsheerot9c2qBgL6j5dvUauHN\nQ8ypZ1Sx5y2HKVjFJGi16L/lcQDmXlUnsRaYOQeAqUNIOVSKyWxhvO0+dsSfJ52MNWzdgn+coqyj\nZ8uOhq15vWHb+zg2Kce5F56o2xrBpWmMUkkMtlUJSacjddv/S6+8XFP1c2LpEgCubhF8biT7H/o4\nR3zv4/DyVzj+1FfffD0XVYZxOX0iSVNvNm3dQwg3upkXq7o/F1aCz94u0W1bT0YPPUxaNpM9vf5g\nXE85Ql7snQEoto/RSbhuXbNVkwqSkU3YHW6tPblh6OofZuGBv6K/NMe5v/l4xVJCMb/SvWFua87f\nGxGVQBku0FEOUrCLbE21XNZ9roe0gz4xTwg3ZotNddutgMlsYbz9AXbFnyURC6tuv1wq0VecJe0e\nUd32jYzZYuOiZSedQfU0ha/EkV0ibhKt0LXQP7STEG70s7Un1rLpJC7SyA7xmahF39B2pnWbcE2u\nf3iphPiC0sro7hXPso3gOPARbFKOMz//WsPWNEcvsqjrFlJpazB2+F3EsVM4Xb/gc2RlJodFyKKp\nxt57P1Rz9XM+qFTGdQxsU9M1QQXs/bW/5JJ+iIFnfw//vPI5lGOKHmpbV3MGA24kJJ2Oacde+uPV\ndayVYwsUZD3ezuasGrxRsFjtjNsPMBB6Yc2gWiGfw0ucsl10pwNY+5Rur8XzG5NiqDf6TJCo5BYF\nTyqz645HeWX4n3Mg+QxHvvqnFd2TWlEMcDVpAk38HwKEA/OYpQKSV7TYVMtl3efJUy+rbtuSXiKs\nFxnPWnAf/igWqcDZp/6P6rYXp89jlfLoOsdUt32jk+y9jaHyFGH/vOq220t+MjbRzVELkk7HtH0v\nvYnjNdsKLysdHHpXcw6AuF5ZGHwvO/InN6yJdi3yASWQ1jkwWrOtVmLs0EP4aUN/+psNW9ObniZk\nbc6NdbNgNJk577qNkehzdZv5kAxMAeARFbaqoUb1sxSdIY4dt1e0qjcai9WO6SNfwCznCXzxo5SK\nRaTkEgnZitXu1Nq9liDfdyvdBFicHt/wvYbkIiHJi95gqINngivJb3mAHgJMj6++fwuv6KWLYZ0K\nnUPKbKXYzEmNPXkr5lyIhMGrtRs3JId/+Y84ZrudA+P/hbNHfrzu9cWI8p1p62lOxQARfAbCK5Ub\n5nZxkKmWN3WfT6uv++zKL5M0ix+dWth24D7mpB7sZ7+huu3ApBKYcw3sVt32jU7bzgcAVNd9zqaT\ntBGn7BKVG7WS77uFXtnP8tylmuzEV3QETV7RYaMmow/9BnlZz+LP/rpmW1JsmggunG4x2GYj6A0G\nJrrewc7UKw1pBS0Vi/SWFsi6RMBzPfQ734OHJOeO/Kgu9gshpcKmvU98FmpSa/WzJTVHQC/2zVqx\naWQvp2/6LDvzJ3nli7+PMRsgohe/K42iY5cimTZ/fOO6z5bsMjGDSNo0gsFbFem0pTWk0+IBpTjH\n7BF7Z4DugRHSshn8Z7R25S3YChHSRvGMqweSTsfwJ7/Esq4T3w9/g+DSzNo3xBdJy2acruZMBojg\nM5BYUtqihDZa9VzWfbbWQfe5vRQgbxcVnLUg6XTMbnqUnfnjLM2oOyU3M68MfurZuk9Vu63A8N47\nSMpWipeeUdVuYF4JlBpEN0fNtO+4B4DZKg4xV5KJLABgbxMbaDVp7+rnhOsedgS+X7PmsC05S8Ag\nZFGqoe3QL2KSipx/+st1X2tp5gJmqYCuQ1Sor8e22x8nI5tIvfHtutjXxeeIYcfRpIec65Vaq5/d\nuUXiFvFboyU3P/YpXnU/zKGZ/83m5HESBjH8uVEMbj9IHDvlqRc2fK+rECBlERIPjaCrf5gJ3SCu\nudVn36TCyt7Z1i6eZ6AME54zbsYev6i1K2/BVYqQN4vgc71wedrJv/+LOOQUy3/7i2t2s5nSiwT1\nvqaVQGlOrxpMIawIc7f3DWvsyfXNgvcgQ+kTqrZ3JmJhnFIGWVRw1szAPb8CwOTTf6eqXUNoHD9t\nor2zCgxGE5dse+iJvKqq3ejiFAC2jkFV7bYiW3YeIiVbKE1WN7zmMvmVgUOeLjGYS21st38SF2lO\n/bi2Z1tbfp6EVWhyVsPIvjuZk7qxjH+r7msFp5R2U1e/GDa4HjaHm3P2mxkMPlPxsJqNYE4tEBQV\ntnWh2upnuVyms+Qn5xDPMq3Z8et/w5y+l3ZiZM1ij9wo9AYDE9bddEc3LsfVXgqRt4kkdKNY7r6b\n0dzpVbum8iuFGy6fiANcJuYYpjs3pbUbbyKXy3jkGCWbeMbVk6Fdhzh94I/ZmT/Ja5//zKrX2bN+\n4sbmlasVwWdAis2SkK0ieFYj9dB9Dq1IohjaRMCmVvqGtnPWuJPe6SdUPYR6UhMsmwdVs9dqZPpv\nZ6A8/+ZgGjXIBqcA8HQ3p97T9YTBaGLCsoOu8Gs1fW/KiWVKsoTXJ6o31Gb7Le9gSjeA98yXqrZR\nLOTpKgfIu4T8VjVIOh2zfe9iR/aN9VsCaySzeBaA7uE9dV3nRqE4+m66CHHhjedUt+3OLRE3i0BN\nPai2+jkcWMAm5cAjnmVaY3d6KLz3b8nJRvIu0YnWSLI9tzBQnie4NFvxPYlYGIeUAZfYpzUK795H\nMEhlLr50bemNUmJZuU4MgHyTkm8MH1EigUWtXQEgHg1hkkpIDtExUG8OPvqbHPG9j8NLX+boj75w\nzWvcxSAZS/MWBYjgM2BKLRDUiy9MrdRD9zm+NAWA3Sc2bWoQH30/m8uzXDz+vCr2yqUSfYUZUu6t\nqthrRXy7FN3nmdfV0+QsRmYpyxK+XnH4VIP01nczWJ7h6I++WLUNfWqZiOQWQ2zqgKTTsbztlxgp\nXeT80Z9XZcM/N4FBKmNoFwmbaum5/ZfQSzIXn1Z/sO2VSKGLRHDh8YmgZyWM3vkBirKO0Gvqz3xo\nL/vJi8G2daOa6ufg7HkALB3iWdYMDO8+TOgTz7P3F/5Ya1daCs+KZNrMsZ9WfE94cQoAg0cEOhvF\nyIH7iOKgPH7tQWq6lJ8oDswWW4M9a15sfbsAWLhwTGNPFGJBRZfb4BSxtEaw79f/ivOGUUZf+n1m\nzr/xlvdKxSI+OUzR0bz7sus6+Hzk6/+Jl7/ypzXbceaWReWGCtRD9zkbVjLWnu5B1Wy2MmMPfJy0\nbCb6zF+qYm9p9iI2KYeuc7sq9lqRoV2HiWGnPPGsajb1iXlCkkds1lTiwOOf5pJ+iE2v/DGpRLQq\nG+ZsgKheaD7Wix0Pf1J5tj27cX1UgPDcOAC2LpFIq5bB7QeZ1A3iufREXddxJidZMgpJgUpxt3dx\nzrKHviV1B0LHoyFcpJE9ojOtXlRT/ZxYVmY+uHvFs6xZ6N0yhs3h1tqNlmJo9+2kZTOFicqLbeJ+\nRYbTJgqeGobeYOCi6zDDsZcol0pve9+YCRDViZkCV9K5MmMpOXtSY08UkiGlAtvsFrG0RmC22HB9\n/CsUJCPlr/7yW86lYf8cBqmMzt28CbTrNvicz2UZO/2fOHjuc2+L+m8UX2mZrKjcUAW1dZ9L0Tml\ngrNnUBV7rY7b6+Nk53vYG/0pgYWpmu0FJpSsq2vTrppttSo6vZ5L9pvoj72mmk1rZpGwQWSg1cJg\nNFF46C/oJMyJf/jDqmzY8yFSYhJ03XC62zjZ/hC7Iz8lFg5s+P70SsCmfZMYYlcLS5vfzVjxLAtT\n43Vboys/Q8Ihqjo3QmroXQyU55k+t3EN1NUIzSsDj4xtIlBTTzZa/VxYkd3q3DRSZ88EgubFZLYw\nYdmOL/x6xfdkQnMAuDtF12BD2fogbcS5cOztnWu2XJCkURRuXElX3xAJ2Qr+M1q7AkA2ugSAo10E\nnxtF96atzN33l2wqzXH2f/3qm7KQkSUlgWb2Nm+BxnUbfD77whO4SWGQyoS+U10wACCViOIhSdnV\nvB/S9YTaus/6xAJByYvRZFbFngD63/m7GChz8Xv/uWZbmXnlh69nZH/NtlqZwsAd9Mp+FibPqWLP\nk18mZRGbADUZu+VBXvG8i4MLX2H6bOWHmcu4S2FyluYdAHEj4LvnN7FKec7+aOPVz6XQJHlZT0ev\nCGrWwua7PgbA9LP1kd6IhQO0E6PcLgJrG2HLHR8CYPFl9aQ34svKnAJ756BqNgVvZ6PVz7rYDBFc\n2J2eBngnEDQvia5DbClOVZyQLkWV4HN7j0ioNZKttz1OSZYIH//+295zlcJiWOdVSDod88ZBnIlL\nWrsCQCHuB8DZLrTSG8nuux7j1S2f4mDiZxz5xz8HIBlQZq44Opv3GXbdBp/zx79BHDsv9/8a+1PP\nc+6VJ6uyE5xTvrjGdpHlVAO1dZ+tmUUiBhGwUZO+oZ284biDHQvfIJ2M1WRLHxwngBd3m/iMaqF7\nz4MAzB+7tubZRpDLZTrKAfJ2sQlQm62/+DkykoXkt/7FhoYPlopFvHKMkr15B0DcCAzvuY1xwxi9\nF7+y4eGQ5sQ0y7ouocldI71bxhg3jNE5/d262F+cOAGApUdIPW2Ezr4tjBu20T73E9VsZoPKIccn\n5B3qzkaqn63peQIGkXwWCFzb7kYnyUweq+xMqksuEcGFxWqvs2eCK/H4urlg2o5v4Zm3vC6Xy3jL\nEYpWcca8mrhzmJ78VE2D0NWinPRTliU87eKM02hu+eh/4A3brRw49znOvfIk+RW5Wm8Ty9Vel8Hn\nbCbFWPRZznnuZs9H/j0BvPDkv6vqCxhbUio3HB2DKnvZmqit++wu+Ek18cTO6xXbXZ/GTYqT3/8f\nNdlxpyZYMg+q41QLM7BtP0E8SFO16z5HgotYpAIIHU7Vaevs4+yOz7Azf5zXf/j5iu+LBBcVDS6n\neJbVm/iujzFQnuf0i9/b0H3OzDwRc/NqpF1PRIYfZbg0qarEw2Xis0q3jW+zkHraKOGBhxgpXmBp\n5oIq9sqRWfKynrYu0TlYb66sfj723bX3bd7cIkmLkBIUCIb3301e1pO9UNne2pxeIqwXVbZaEO27\nl5HSRYIL02++lohHsEp5EHvnt1HuGMNLgpB/XmtX0KWDRCUnBqNJa1daDp1ez5Z/9n/w63y0/eCT\n6JdPkJf1eH3Nuwe4LoPPZ5/7Fk4pg2XfB7A53Ezu/h3GCmc49uSXN2wrs6KN5u0bVtnL1kUt3We5\nXMZXCooKzjqw7eYHGDdso+/cFygVi1XZKJdK9BemSblE1VOtSDodU84DbI6/XnMWO7QwAYBZdHPU\nhYPv+10u6ofZ/OqfkoxHKron5lcy0UZP824GbhR2P/QJojjIv/z/bei+ztIiGYdI2KjB1ns/SkmW\nWHxefemNkv88eVlP92ahzb1R+m/9AABTL3xNFXvG5DwBnQ+dXq+KPcHa7L33Q1wwjNB/avXq53Kp\nRFfZT84pnmUCgcXm4JJpG95gZTNVHPkASZOostWCjgOPAjD58rfffC26snc2uMTe+Wrs/XsAWLqg\nfpJ/oxizIeI6IfOkFW6vj+x7v4BLTnBz9IcEde1NvS+7LoPPpZPfJIKT7bc9AsBNj/4WU7pNdLz8\nZxUN47iScnSWgqzH1y0CNWqhlu5zPBLAJuXAJarR1EbS6Uje9Bv0y4uceOqrVdlYnruITcohdY6p\n7F1rIm+5mw4inHu1OgmhyySWpwBwdg3W7pTgbegNBkrv/BwdRDj15T+o6J5UaAEAW5t4ltUbi9XO\nua73sDvxwlsqaNYiFg7gJoXsEfsANfB1D3DWspf++R+o3hJqiV1kQd8rKmyqYNPIXqZ0Azgnf6SK\nPXt2kahRyDs0CkmnI33b79Er+1etfg4uzWCSiui84lkmEABEO25mqHCxC3dQbAAAIABJREFUIplB\nbylI1iaeaVowtPMW/LShv/R/z0CJoLJ3tnhF8PlqerbuAyA5d0pjT8CaD5EUA9U1ZXjPbZzc/1kA\nYk0uV3vdBZ+z6SQ74s9zoe2eN4fQGYwmorf9IZvkBY5++79tyJ4xMUdA1y50HlXksu5z8ERt+rXB\nBUUSxdQmKjjqwd4HP8oiHZhfrU56w7+iveka2K2mWy3Lznd8ghBuSk/9WU128iEl4NbeK7o56sW2\ng/fxivcRDi79I5NnXl33+mxU2UA7faI9vRH0PfhbGKUSF3781xVd759RBn2aOsR3Ri3So4/TLy9y\n8fjzqtpty84Qtg6qarOVWOx9gLHcSSKBxZpttRWWSVtFUKCR7Lln7ern8JwiqWLtGGq0awJBU2If\nuQujVGLi2DNrXpfLppVhtg7xTNMCSadjqu12RpOvkc9lAchEFEkJh08UblxNe/cmYtiRAuoMqq8F\nRzFKziSCz1pz8+O/zUtDnya1+2Nau7Im6wafJUnaJEnS05IknZEk6bQkSb+z8nqbJElPSpJ0YeXf\n3ivu+QNJki5KkjQuSdJDajp85tlvYJNy2PZ/8C2v773vw5wx7Wbrmb+suBUawJZZImoUWkJq0tE7\nyFnjTkYm/09NA+0S/ikA7B2igqMeGIwmpkc+xo7CKc4f/fmG78/MK9nW3pXsq6A2bA43F0b/Gbty\nb3D6xR9Ubyg2R0Y2icEPdWbkFz9HUrKR/vb6wwdL8SUAoY3aIDZt3c1J8362TH+jIlmh+MJFANy9\nI/V2rWXYdu8vk5f1hF7euBzaahTyOXpLi+Q8IklQLR03vx+9JHPxudqkNwr5HD45TMkpggKNZL3q\n5+SyMkTd0yfk0AQCgC033UdJlkicX1v3ObSkSDzoPeKZphXGsYdxSBnOv6oMxi3GlL2zt1MUoV2N\npNMxb9yCO3FRa1fwlCMULO1auyEAbv3Yf+Dgo/+P1m6sSSWVz0XgX8qyvAM4DPyWJEk7gN8HfibL\n8gjws5W/s/LeR4CdwMPAX0uSpJ7wyKlvEsLN2OF3vuVlSafD8PCf0E6Mk1//k4rNtRWWSYnKDdWR\nHvgsPqIc/3r1VZy5kDJJva1XVHDUi52P/DYJ2Uri6f+64Xt1wfME8eAWQU7V2Pf4vyCAF+mZP6u6\nXd2Umieg70DSXXeNLdcV3o4exnf+LjvzJ3n9+2vrC+uSyyRkK1a7s0HeCYo3/QrdBDn59PpBtnxQ\n0Unv2ryt3m61DO62Dk7bD7N1+UdVzxW4msWpsxilEoYOofdcLcO7b2ORDowXakhwAsHFKfSSjM47\noI5jgopZq/q5EJoCoHOTSKQJBABOdxsThmFcy6+seV1sRbLO2iaKBLRi9NZHyMsGkieV3yc54Scv\n63F5m1tGQCsSrq30FqZUlzfbCNlMCqeUAXunZj4Iri/WjU7Isrwoy/LRlT8ngLNAH/AY8MWVy74I\nPL7y58eAr8qynJNleRK4CNyihrOpRJTtiZe46Lv/mnp/ozfdw+uOe9g786WKtB6LhTw+OUTRIbKc\najN26B0cs9/BnqkvEFqeq8pGOTpHQdbT1ik2AvXC6W7jdPfj7I0/w9LMhQ3d60leZMk8WB/HWhSL\nzcHE2G+wI3+S0y98tyobjuwSMdHN0RAOvvd3OG8YZfD1PyMRC696nTHjJ6IXLWmNZPd9v4CfNnSv\n/+261+qiU4Rx4XB5171WUDnyng/hI8qZF6t7ll1NaErptnEP7FTFXisi6XRMd97H9vTrG+oSvJrI\nymBbq+hMazhrVT/rYzME8GKx2jXyTiBoPkK+gwznzpLLple9Jh1UKp9dneKZphV2p4dz1r30BpQq\ndUPaT1jyimKa1egYw0WawGJl803qQTSoSHjpnCJBIKiMDX2bJUkaBPYDR4AuWZYvi8YtAZejHX3A\n7BW3za28drWtT0qS9JokSa8FAoGK1j/77NexSnmcBz606jXd7/szDBS59I1/s6694NIMBqmMXlRu\n1IX2x/4UM3kufv3fVnW/MblAUGoTetx1ZvDd/xKAqe//p4rvkctl+gozpFyitVNt9j72aZZpx/Ds\nn1eVzW4r+snYRDdHI9AbDPCuz9Emxzj95d9f9TprLkTCIFrSGonBaOLSpvezK/Ma8xNn17zWlpol\nYBDfGbXZcfcHiWMj+/pXVLGXXRoHoHtIzBmoBc+BD2CWCpz86r+r2kY6MAWAu3uLSl4JNsJq1c/2\n9DwhgxiYJhBciXn4TixSgck1ZhAUIkqhlLdnsEFeCa5FeuA+BsrzzE+cxpwLEDeIwo3VcGzaA8DS\nhaOa+XB5KKTJJYqeBJVRcfBZkiQH8E/AZ2RZjl/5nizLMiBvZGFZlv+XLMsHZVk+2NFRWbZEf/pb\nBPAydss7Vr2mb2gnRzvfx4HQ95g+t/aXMbKgaKNZfCLLWQ8GRvfxuu9Rbgp8h9kLxzd8vzW7RNQo\n2jjqTffACMdd97Bz6dtrVm9eyfLcJexSFjrG6uxd62Gx2pna+SnGCmc4+ey3NnRvLpvGR5SSU3QL\nNIrRm+7mVd+jHFz+OhOnjlzzGmcxRNbsa7BnguGHf4syEjNP/uWa17XlF0hYxXdGbSxWO+e897Ez\n+kxN8x8uow9fJIAXl0ckcmph7NA7ONL+GLcu/D1Hf/h3VdkohpUak85+kYDWgtWqn72FJZI20c0p\nEFzJ4P77AYice2b1ixKLpGUzTtEBpSn9tyiN9LNHvoMjHyJlEnvn1egZUWYupVdmMGlBOqLoclu9\nIukpqIyKgs+SJBlRAs9flmX5mysvL0uS1LPyfg/gX3l9HrhSGb5/5bWaSMTC7Ei9wqWOB9Dp15aQ\nHv3gH5HBTPiJP1zzutTKQDt3jxheUy+GP/gnFDAQ+Pb6lehX4yn4SVnEw6wROO/9DE4pw+nvrR2k\nuYz/kpJMcA6ICrR6sP/R32aRDizPb6z6ObgwCYDeK4ZzNJJtv/AXJCQ7ue9ce/hgWzlCwSYSaY2m\ns28LJx23Mbb4xKrttoV8jq5ygIJLdEDVA/vNv4RNynHm6a/WbMuVnMRvEs82Ndj3z/4n5wzbGXv5\nXzF19rUN3y/FZwnjwmJz1ME7QSVcXf1cLOTpLAcoiOSzQPAWvB09TOk2YV9cXffZlFokqPcJiQeN\n6d+6i1mpF9v0z3CXI+QtIvi8Gm2dfYRwow+s3d1XT3KxZQCc7b2a+SC4vlj3CStJkgR8Hjgry/J/\nvuKtJ4CPr/z548B3rnj9I5IkmSVJ2gKMAGur/FfA+M//EbNUwHPzh9e9tq2zj1NDv8r+9IuceflH\nq15XCCsaOR19om2wXvi6N3F88ye4KfUs5179acX3lUslOsohCg7RCt0IRm+6mzPGXWy+8PcUC/l1\nr08vnAagd+u+ervWkpjMFmZ3/zajxfMcr2Bg2mUii4oOp03ocDYUj6+bC7v/JdsLp3ntu//zLe8l\n4xFsUk4M49AIw6Ffx0uckz/5+2u+75+bUOS3fGKwbT3YfughlujAePrrNdmRy2V6ijMkneJzUgOz\nxUb7r36VtGTF8LVfJhauTP7uMtb0IiG9eKZpydXVz4GFSeVZ1jaotWsCQdOx7D3AUObUqmccWy5A\n3Ch0a5uB+c672JY5jleOUxZ75zVZMA/jTZzXbP1SQqk99XSIeI2gMipJ790OfBS4T5KkN1b+eRfw\n58CDkiRdAB5Y+TuyLJ8GvgacAX4E/JYsy6VaHTWc/TZL+Bg9cF9F1+/7wB/gpw39T//dqpWDuvg8\nEZzYHO5a3ROswZ4P/muCeJB/8m8rruIMBxYwSUV0blHB0ShyN/8mPQQ4/uSX1r1WFzhHCDcen6hM\nrxf73/ObzEtdOF78i4q/N5mAklDzdIsATaM5+PinGTdsY+jYnxOLBP//9u47Pq6rzvv49zcz6r3L\nsmzLVZar7DiNNCcE0iAJECAFSNgsZeFh4aEsS1meZ5elt2dZlgfILkt2QxIILSGBBBaSsCFxEtsp\nji3LtmzZKlbvvczZP2biyHGT5Zm5I83n/Xr5pdG5957zs6+lufO75/7Okfbu1kOSJH8OF2ZeWH3B\ntWq0ecrYcedxt3c1hi7aM0ooHxANPr9fB8qu1urhbepoaTj1ASfQ1d6sHA3KFSyPYHSJraisQh1X\n3aHiYJvqf3CTJicmpn1s9liL+lP5nea1qbOfOw7ukiSlFfH+D7yaf/EFyrRhHdh5/PJouePtGk6l\nbm08yFh9tVJsXD5z8mXxOfNkBvOqtHDi4FG1/2PJBts15FLIpWHaTpl8ds494Zwz59w651x1+M9v\nnHOdzrnXOueWO+cud851TTnmC865pc65Sufcb880yN6udq0aelb1Ja87ZcmNl6VlZOnguo+ocqJW\nzz1y/A+dqYNNzNyIgYysXNWt/mtVje/S8/9197SO6T4cKh+QnM8jtrGy7rIb1Wilytr+vVMmO3MG\n9qsluSI2gSWopOQUNa//sJZN1k3752aiO5TcKeRpjpjz+f3yv/GbynN9qrn7lcUHX16MIzWPOpxe\n8Pn9alx6o6rGdx33Q+dQ6z5JUsGCFbEOLWGUXXSrAhbUvkePP/t8OloPhGoappdVRSosKFT/+bnV\nn9L6kWf1zI8+Ma1jXDCo4sk2jWXwmK3Xps5+Dvz31yRJ+dThBo6xoDpU97lz56PHbAtOTqrAdWki\ng0RnPKg89woNulRJUnIuNzlPJlC2Vsk2ocZ9L3oz/nCHeny5noyN2WlWFDaqffweJduk8s+96bSO\n23jtB1XvW6jiZ76isdGRY7bnjLWqP4U3mlg46/oP6aCvXAVbvjitsg79baEZnFklFVGODC/zBwJq\nWvlurZjYo9qTlEhxwaDKxg9qIJta6dG24Zr3qMHKlLvlawpOnvoBEn9fozqUq9S0jBhEh1dbtv5C\nPVv0Jp3d9jPV7dgiSRruCi15kFlIosYrK698v0Zdktr++N1jtgW76jXmAipihfuoWVR1lvb5lyq/\n7lcz7mOgMTSrs7BiTaTCQtg5N3xMz+Rdo/Mbf6jtj5z6yae+7vZQKSGeTIsLL89+rhrfqUlnKprP\ntRnwaiXlS9VkJUpp2nLMtq72JiXZpHw5TBKIB8kpqdqTuUmSlJZP8vlkCpaF/p06953+2g2RkDLa\nqX4/yWdM36xIPqfW3q8mK9Hy6otO6zh/IKDeC/9O5e6wnvvlt47a5oJBFU22aTSTN5pYCCQlq+u8\nT2lhsEnbfvXtU+4/Fl5JPa+0IsqRYaq11/yVepWhoT+d+By1NR9Qlg1LxcxAi7ZAUrJaN35Ei4P1\neu6RU88aTB0+rK4AT3N4aeXNX1WfZWnsgf+t4OSkxnsPS5LyinmKwyu5haV6Mfcyrel4WAN93Udt\nS+mvV6uvWP5AwKPoEkPHkuu0YmKPDu15fkbHB9v3aMQlqXQBszojzXw+rXvvHdoTWKHKJz+ugzXb\nTrp/R1OdJCmlkLUF4sHLs58lqd0KlJyS6nFEQHxqztmoiqEXj5nM0d0SmvCUzBNqcWNy1fWhiQEL\nKr0OJa6VL1unMRfQRPMOT8ZPn+jWUHKBJ2Njdor75HN3+2GtGt6uQ/OumNEKtOs236Cdyeu1Yvd3\n1d97pDKI+no6lWEjzNyIoerLb1ZN0mot3fnPGuzvOfnOvY0adUnKL2K2YCylZ+ZoV9kNqh54Qk37\ndx53n9Z9oeRBZjkz0GJhw1W3q963QAVbv3HKmpw5Y60a4GkOT+XkF2nv+k+oanyXtj7wXbn+No05\nv3LyuSngpawL36sMG9HOh//1qPbs4SZ1pfCBM9qWXnqrJp2p+U8zK72R1lenpkD5tEuv4fSkpmUo\n990/1bClyvfTd6ivp/OE+/a1hBa2zSymvFO8WLf5bdqdtEotadycAU7ELXqN8tSvhlfdBB0IP22b\nWcwNtXhx1lW3a+hDO1VQQp7mZJKSU3QosEgZ3TWejJ892aPxlHxPxsbsFPfJ572P36OABVV07o0z\nOt58PiVf9Y/KU59e+uk/HGnvaNwrSUou4I0mVsznk13xeRWqRy/e94WT7ps0eFjtvoIZ3XDAmVn2\nho9qQj41/vabx90+1BRKSpct3xDLsBKWPxBQ56aPqSLYoOce/uEJ9ws9zdGusUxu2Hht07Uf1O5A\nlZa98FWl9e5Vl+Xxu8xjlWddpjr/YhXtvuuomvbFky0ayWRWerQVlVVoV+oGLWx6cNoLqE5VMHJI\nPekVkQ8MRxTPX6y2K7+v0mCr9n//5hOWehrtDC2iml/Gwnbxwnw+LfrI77TyQz/3OhQgbs1fH6r7\n3LLjj0e1j3WHyqPllZITiBfm87Go/TR1Z61Q2WhdzMcNTk4qz/VqMr0w5mNj9or7T8Ppe+9Xg5Vp\n6drzZ9zH8g0Xa2vWa1Xd+GO1N9dLkvpbQ1+ZuRFbKze9VtszL9b6g3eqo+XQCfdLH2lRbxIzBb1Q\nVFahF3Iv19q2X6u3q/2Y7b6OWnUpW3lF1OGKlQ1XvEsHfBUq2fatE9ZM7+1qow5nnPD5/Uq69pvK\ncf2qHnpKfQFmBXjNfD51rHyHlgTrVbv1D5JCixlna1Aur8Lb4BLESNUNKnOtJ11T4LjHDQ9qXrBV\nY7nUso22Veddqe2r/kbVw1v09I8+efydehs1wpNpcSctI0up6ZlehwHErbKKKrUpX/6Gp45qD/Y1\na9z5lV/EU1CYfSaLV6tAvSfNq0RDX3e7AhaUZZKvwfTFdfK5o6VBVSMvqHH+lWc8a6zszV+UX5M6\ncN9nJEkjHfWSpAIW5oi5ouu/qCRNqO6+vzvhPnnj7RpK446nV/Jf+xGl26h2PXhs7efs/jodTmZ2\nQCz5/H51n/txLXDNeu6hO467z5E6nAULYxkaTmDputdoa/FbJEmDycwKiAdrrvxLDbg09f/5B5Kk\ntkO7JUkpRVwHxMKq196iIZei3md+fFrHHT6wS35zSiqh9mMsnPPWv9GzuVfp/IY79Pzv7z5me/JA\no9p9RTzNAWBWMZ9PDVnVWtj/3FFP4AQGDqvT8inrhFkpa9FGSVJzzTMxHbe3o1mSFMgm+Yzpi+sr\nx7rH75bfnEpfc/MZ91W2eKW2l75VZ3U9pPqarczc8NCCZWu1veh6ndXxgA7WHrv40OTEhApdpyYo\nH+CZpeteo5dSqrV0/10aGx050u6CQZVNHNRA9nIPo0tMG153i/b5l2reC9/W+NjoMdv7Ww9I4mmO\neLLy5q+oTfkayaEOZzzIyMrVzqKrtK7nUfV0tKiveZ8kKaeM32exkJGVq105F2ll5++Pel85le6D\nL0mSchesjlZomMJ8Pq19379pb2C5lj3x0WOu0zJGWtSTXOJRdAAwcxMLzlexutRcX3ukLW2kVT1J\nRR5GBcxcedU5kqTBhhdiOu5AZ2hB9dQcrgcwfXGdfM6q+7XqfQu0eNXZEelv5Vv/XoOWpp4HPqOk\ngSZmbnho2Vv/QSNKUdf9nz5mW2drgwIWlI/yAZ6aPPeDKlaXXnzk34+0tR8+qGwNSUXMQIs18/k0\n8Jq/Ublr0fMPfu+Y7dThjD85eYXK+NhzOuf2b3kdCsKKL/uAUmxcux/+/xprDyWfixeu8DiqxJG0\n4UblaFA7H//ZtI8ZbQ0lCcqWsshtrKSmZSjr1ns1Zkmyn9x81ILd+RNtGk5ncgCA2adk7WWSpKYX\nXin/lD3erqEUks+YnXLyi9SiQiW174zpuCO9LZKkzAKuBzB9cZt5bW+u18rRl3S4/OqI9ZlbWKqd\nS/5S1cNbtHzgWWZueKigpFw7Ft+mDUN/1u6nf3fUtq7DoZXUUwtZBMpLay95iw76ypX7wh1HHk9r\nrQvNgMosX+tlaAlr/aVv057ACpW/+M/HzhzsbdQoT3PEnYysXPkDAa/DQNjiVWerJmm1yuvulb/n\ngDqVo8zsPK/DShirL7xOXcqWe/En0z4mqWufWlSo9MycKEaGVytdsEyHX/c9lU0e1r7v36Lg5KRG\nR4ZUpG5NZjE5AMDss3DFBnUrSzr4pKTQE52Fkx0ay2AdG8xeLWnLVDi4J6ZjTvS1SZKyC/jZwfTF\nbfK57vEfy2dOZRececmNqTbc8Em1qkDZGmTmhsfW3/AptStP+v3njqq9NdgWmsGZRfkAT/n8frWu\nul3LJuu086mHJEmDjaHHn0uXrfcytIRlPp9GLvik5qldzz3wnaO2JQ00qY2nOYBTGlx3q8pdi1Z2\nP6qOABfNsRRIStaeoiu0uv8p9XZ3TOuYnKF6tadQy94Lqy+4RltXflwbhp7U0//xaXU0h8o7+fOY\nHABg9vH5/apPX6uy3u2SpP6+7tBi3VlcC2D2Gs6vUvlkk0aGB2M2ZnCgTZPOlFvAGl2YvrjNUuTu\nf1D7fRVaVFkd0X5T0zN1qPqjksTMDY+lZ+bowNoPa+VEjZ7//X8eaR/vDiWfCygf4Ll1V79XXcrW\nxBOhRKevo1bdylZBCT87Xll7yZu1O1Clip3f1ejI0JH2zJEW9Saz6ANwKmtf9051KVvZGlJ/Or/L\nYi3//HcqxcZV+8e7TrmvCwZVNt6goWyuB7xy7ts/pWdzXq9z67+vhkf+WZKUXlzhbVAAMEOj889T\nuWtRW9MBdR+ulyQl5XEtgNkrpXy9AhZUQ+32mI3pG+pQt+WwUCdOS1wmn1sa9mnl+C61LbwmKv1v\nfMP79dSi92vh5luj0j+mb+O1H1S9b4EKt3z5lUXUeps05FKUnVvgbXBQanqmahe8XdXDW3Sw9nll\n9dfpcPIir8NKaObzaeKST6lEnXr+/m8fac+baNNQGk9zAKeSkpqu2nnXS5LGs5lRG2vLqy9Sg5Up\no/bUdZ87Wg4pw0akQupyeyW0AOG/a39gic5rvUeSlDePmwEAZqeCVZdKkg49/1/qazsoSUqn1CNm\nsaLlmyRJ3XXbYjZm8kiH+n25MRsPc0NcJp/rHw/Nhllw8S1R6d8fCOj8d39F85ewcrrXAknJ6rng\ns1rgmrX9l/9PkpQ8eFjtfsoHxIvl13xYoy5JLY98Q/PHD6o/a6nXISW81Re8UbuS12pJzfc0MjSg\nsdERFbpuTWbN9zo0YFZY9PoPasilKHXhWV6HknDM51Pjwmu1emyHWg7tPem+rftflCRlzK+KRWg4\ngdT0TGW8655QrVRJhWWURQMwOy1ec54GXaom9z+h4a5GSVJOMRNrMHvNX7xKQy5FrmVHzMZMG+vW\nQBJrpuD0xGV2L7/+Ie31LyM5nCDWX/o27Uxeq+U139FAX7cyR1vUl0T5gHhRWLpAL+S/Xhs7H1K2\nBqWilV6HlPDM55Pb/GkVqVvP/+pb6miul8+cAtThBKalbPFK+T65X9WXR3ZdCUzPwktukyQdePRH\nJ91vsKlGklS8mEVuvTZvUaXar71LW1Z8Qimp6V6HAwAzEkhKVl3aGpV0b9dkT5MkqWAeT0Fh9vL5\n/WpIWqys3tqYjZk52a3RFJ5Sx+mJu+Rz0/4arZjYo86K6JTcQPwxn09JV/6j8tWnl376eeVNtGs4\njeL18aT49R9Vkk1KkjLKuSkUD1a/5mq9lFKt5XvuUPuB0OzA1MIKb4MCZpHU9EyesPHI/CVVqkla\npXkH7z9qweFjdOzRoEtV0TxmpcWDFRs367ybP+t1GABwRoZKz1VF8JBSOnepS9ncUMOs15NTqfKx\nupNfU0VQXrBHE6kkn3F64u5T16H/DpXcWHhRdEpuID6t2LhZ27Iu1bqGu1TgeigfEGcqqjbpxdSz\nJUmlyyK7CChmLnDZZ1SgXmX8+cuSpNx5Fd4GBADT1Lf8zaoINmj/S1tOuE963341Jy3gJgEAIGJy\nqi6RJK3qf0pd/iKPowEioGStsjWkloaTlzOLhOHBfmXYiFwGPzs4PXF3NV906LeqDVSqrKLS61AQ\nY6Vv+oICmpDPnPy5rDocb3Lf/HVtWf4xFZbyaFq8WHnu6/Vi6iYtm6yTJBXNpx43gNmh8rJ3asz5\n1f7n/zjhPkWjDepNr4hdUACAOW/J+os06pKUauMaSCaBhtkvZ/EGSVJL7bNRH6uno1mSFMiiTCpO\nT1wlnxv27dCyyTp1L36D16HAA/OXrNb2krdIktIKSXDGm4UrqnXeLZ/zOgy8Ssrln5EkdSlbqemZ\nHkcDANOTW1iqnRnnamnrw5qcmDhm+9BAr0rVrvE8bqoBACInJTVd+1JCa9iMplPqEbPfgpWbFHSm\nkcYXoz5Wf+dhSVJSTknUx8LcElfJ58ZwyY3Fl1ByI1FV3fQlPbXwfVp+zhVehwLMCpWbLtP2zEvU\nmLrC61AA4LS4tW9Tkbq168mHjtnWXPeSJCmllEVuAQCR1V98jiQpmEnyGbNfRlaumn2lSuncFfWx\nhrpbJEnpefOiPhbmlrhKPpc2/FY1SatVUs4sl0SVk1eo8//iq0pNy/A6FGDWWP+RX2jNJ37ndRgA\ncFpWbX6b+l2aRrb9+JhtPQ07JUl5i9bEOiwAwByXsSJU95lSj5gr2tKXq3go+jWfx3tbJUlZBdy4\nwemJm+TzwZptWhw8qL6lb/Q6FACYVfyBgHx+v9dhAMBpSU3LUE3+ZVrV87iGBnqP2jbeukeTzjRv\n8SqPogMAzFVV51+lLUv+WpWbb/I6FCAiRgtXqdy1aKCvO6rjTPSHks95RfOjOg7mnrhJPjc/ebeC\nzrR0MyU3AAAAEkHGpluUYSPa9dhPjmpP7tmnFl8xT0IBACIukJSs8971eeXkFXodChARaQuqJUmN\nu7dGdRwb7NCAS2OtIZy2uEk+lzU9rJqUtSosZaE5AACARFB13pVqUaGSdt53VHvuUL06Uhd5FBUA\nAMDsUbpikySp98D2qI4TGOlUjy8nqmNgboqL5PPo8KAWBRs1sOxar0MBAABAjPj8fh0ou1qrh7aq\ns7VRkhScnFTZRJOGs1kDBAAA4FRKypeqTxlS60tRHSd1tEMD/ryojoG5KS6SzxODXZpwPi3ffLPX\noQAAACCG5l10qwIW1N4//ockqbVxn9JsTL6iFR5HBgAAEP/M51MwQghMAAATjUlEQVRD8hLl9tVG\ndZyM8R4NJ+dHdQzMTXGRfE4a61VNarXyiylaDgAAkEgqqjapzr9E+XW/lCS1HwjN2smcX+VlWAAA\nALNGf26VFozXa3JiImpjZAV7NJZaELX+MXfFRfI5WeMaXnGd12EAAADAA+2Lr9OKiT1q2PuChppr\nJEklS9Z6HBUAAMDs4Ju3Vuk2quYDO6PS/+TEhPJcr1x6UVT6x9wWF8lnJ1Pl5pu8DgMAAAAeWHrZ\nbQo6U9Pjd8o696pXGcovKvM6LAAAgFkhf8lGSVLb3q1R6b+3q1V+c7JMks84fXGRfJ4orFJOQYnX\nYQAAAMADRWUV2plarYVNDyqzf78OBxbKfHFxmQoAABD3ylds0ITzaazpxaj039d5WJIUyC6OSv+Y\n2+Liqj4pOcXrEAAAAOChkaobVOZaVTn6kvozK7wOBwAAYNZITctQo79c6V01Uel/oLM5NE7uvKj0\nj7ktLpLPAAAASGwrL71Zwy5ZAQtqIn+51+EAAADMKh2ZK1Q6vC8qfY/0tkqSMvNLo9I/5jaSzwAA\nAPBcVk6+dmVfKElKLa30OBoAAIDZZaJotUrUqd7O1sj3HU4+5xSyJgdOH8lnAAAAxIW0C96nLmWr\nfM2FXocCAAAwq2QsrJYkNex+JuJ9u8F2jTu/svNYcBCnj+QzAAAA4sKq865U/v9tUFFZhdehAAAA\nzCrzKs+WJA3UPxfxvtO7dqnVVySf3x/xvjH3kXwGAAAAAAAAZrHC0gXqUK78bTsj2m9PR4tWDW1T\nQ+nlEe0XiYPkMwAAAAAAADDLNacuVf7Anoj2ueexu5Vkkyo+/5aI9ovEQfIZAAAAAAAAmOUG86q0\nYOKQxsdGI9Zn+t77dcg3X0vWnBexPpFYSD4DAAAAAAAAs1xS2Tol24Qa9z4fkf46mg9q1cgLapp/\ntcxHChEzw/8cAAAAAAAAYJYrXHaWJKlj37aI9Lfv8bvkM6eyC98Rkf6QmEg+AwAAAAAAALNc+bJ1\nGnVJmmx+MSL95db9WnX+JVpUWR2R/pCYSD4DAAAAAAAAs1wgKVkNgYXK6Nl9xn0119dq5USN2ha9\nIQKRIZGdMvlsZj80szYze2lKW76Z/d7M9oa/5k3Z9ikz22dmtWZ2RbQCBwAAAAAAAPCKrqxKzR+t\nkwsGz6ifg3+6S5K06GJKbuDMTGfm848kXfmqtr+V9Afn3HJJfwh/LzNbJelGSavDx3zXzPwRixYA\nAAAAAADAcQVL1ihffepsaTijfooPPqjdgSqVVVRGKDIkqlMmn51zf5LU9arm6yTdGX59p6Trp7Tf\n65wbdc4dkLRP0jkRihUAAAAAAADACWQt2iBJaq59dsZ9HKx9Xksn96tn6RsjFRYS2ExrPpc45w6H\nX7dIKgm/ni9p6q2VxnDbMczsvWa21cy2tre3zzAMAAAAAAAAAJJUvvJsSdLgoedm3EfzE3cp6EzL\nLqHkBs7cGS846JxzktwMjvuBc26Tc25TUVHRmYYBAAAAAAAAJLSc/CK1qEjJHbtmdLwLBjW/6Teq\nSVmnwrJFEY4OiWimyedWM5snSeGvbeH2JkkLpuxXHm4DAAAAAAAAEGWH05ercHDvjI6t2/GUFgab\nNLji+lPvDEzDTJPPD0i6Nfz6Vkn3T2m/0cxSzGyxpOWSnjmzEAEAAAAAAABMx2h+lconGzUyNHDa\nx7ZvuVvjzq8Vm2+OQmRIRKdMPpvZPZKeklRpZo1mdrukL0t6nZntlXR5+Hs553ZK+qmkXZIelvRB\n59xktIIHAAAAAAAA8Irk8nXym1ND7fbTOs4Fg1p8+BHtSj9LuYWlUYoOiSZwqh2cczedYNNrT7D/\nFyR94UyCAgAAAAAAAHD6ipdtkrZI3fu3SRsunvZxtVv/oJVqV2PVx6IYHRLNGS84CAAAAAAAACA+\nlC2u0qBLlTu847SO6332Xo24JFVe8vYoRYZERPIZAAAAAAAAmCN8fr8akpcoq7d22sdMTkxoaft/\naVfm+crKyY9idEg0JJ8BAAAAAACAOaQ3e4XKx/fLBYPT2r9my29UqB5p7VuiHBkSDclnAAAAAAAA\nYC4pXatsDenwob3T2n1o20806FK16uIbohwYEg3JZwAAAAAAAGAOyVm8QZLUuufZU+47Njqiyu5H\nVZNzkVLTM6MdGhIMyWcAAAAAAABgDlm4cpOCzjTS+MIp963586+Uo0ElVTPrGZFH8hkAAAAAAACY\nQ9Izc9Tkm6fUzl2n3Hf8+fvUo0xVXXB9DCJDoiH5DAAAAAAAAMwx7RnLVTx08prPw4P9qup9Qnvy\nL1VySmqMIkMiIfkMAAAAAAAAzDGjhas037Wqv7frhPvU/OlnyrARpW98WwwjQyIh+QwAAAAAAADM\nMWkLqiVJTbu3nninl36uDuWq6ryrYxQVEg3JZwAAAAAAAGCOKV2xSZLUW7/9uNv7e7u0emCL9hW9\nTv5AIJahIYGQfAYAAAAAAADmmJL5S9SjTFnrS8fdvvuxe5Vi48o958YYR4ZEQvIZAAAAAAAAmGPM\n51NT8lLl9tUed3tyzS90WEWqPOuyGEeGRELyGQAAAAAAAJiD+nNXasF4vSYnJo5q724/rFXD21U/\n7yqZj/Qgoof/XQAAAAAAAMAc5Ju3Vmk2pqb9R5fe2PPY3UqySRWff5NHkSFRkHwGAAAAAAAA5qD8\nJRslSe37th3Vnrn3Vzrkm68la87zIiwkEJLPAAAAAAAAwBy0oHKDxp1fY40vHGlrb65X1egONZVf\nQ8kNRB3/wwAAAAAAAIA5KCU1XY3+BUrvrjnSVvfYXfKZU9kFt3gYGRIFyWcAAAAAAABgjurMXK55\nw/uOfJ+3/wHV+ZdoUWW1h1EhUZB8BgAAAAAAAOaoieLVKlaXejpa1HxgtyonatW+6A1eh4UEEfA6\nAAAAAAAAAADRkbGwWtonNe5+Rv11T6tM0sKL3+F1WEgQzHwGAAAAAAAA5qiyyrMlSQMHn1PxoYe0\nO1ClsopKj6NCoiD5DAAAAAAAAMxRBSXlalee8g88qKWTB9Sz9I1eh4QEQvIZAAAAAAAAmMMOpy7T\niok9mnSmZZe+0+twkEBIPgMAAAAAAABz2GBelSSpJnW9CksXehwNEgnJZwAAAAAAAGAOS5q/VpI0\ntPw6jyNBogl4HQAAAAAAAACA6Fm1+e16qr1O1Ve9x+tQkGBIPgMAAAAAAABzWHpmjs5/91e8DgMJ\niLIbAAAAAAAAAICII/kMAAAAAAAAAIg4ks8AAAAAAAAAgIgj+QwAAAAAAAAAiDiSzwAAAAAAAACA\niCP5DAAAAAAAAACIOJLPAAAAAAAAAICII/kMAAAAAAAAAIg4ks8AAAAAAAAAgIgj+QwAAAAAAAAA\niDhzznkdg8ysX1Kt13GchhxJvV4HgePi3MQvzk384tzEr0JJHV4HgWPwMxO/ODfxi3MTv2Z6bniP\nii5+ZuIX5yZ+cW7iVyKdm9n2/jjTc1PpnMuazo6BGXQeDbXOuU1eBzFdZvYD59x7vY4Dx+LcxC/O\nTfzi3MQvM9s6m94fEwU/M/GLcxO/ODfxa6bnhveo6OJnJn5xbuIX5yZ+JdK5mW3vj2dyHTDdfSm7\nMTO/9joAnBDnJn5xbuIX5wY4PfzMxC/OTfzi3MQvzk184rzEL85N/OLcxC/OTfyK+rmJl7Ibs+qu\nAAAAscD7IwAgXvEeBQDAsRLl/fF0/p7xMvP5B14HAABAHOL9EQAQr3iPAgDgWIny/jjtv2dczHwG\nAAAAAAAAAMwt8TLzGQAAAAAAAAAwh8Q0+WxmA7EcDwCAeGVmk2b2/JQ/FSfZd7OZPRi76AAAic7M\nnJndNeX7gJm1834EAEh0ZnZ9+H1ypdexzAbMfAYAwBvDzrnqKX/qvQ4IAIApBiWtMbO08Pevk9R0\nOh2YWSDiUQEA4L2bJD0R/jptZuaPTjjxLebJZzPLNLM/mNl2M9thZteF2yvMrMbM7jCznWb2uykX\nOgAAzHlm5jezr5nZs2b2opm9b8rmbDN7yMxqzex7ZsYNZABAtP1G0jXh1zdJuuflDWZ2jpk9ZWbP\nmdmTZlYZbr/NzB4wsz9K+kPsQwYAIHrMLFPShZJul3RjuG2zmf3peJ/XzGzAzL5hZi9IOt+7yL3j\nxQfXEUlvcs5tlHSppG+YmYW3LZf0L8651ZJ6JL3Fg/gAAIiFtCklN34ZbrtdUq9z7mxJZ0t6j5kt\nDm87R9KHJK2StFTSm2MeMQAg0dwr6UYzS5W0TtLTU7btlnSRc26DpM9J+uKUbRsl3eCcuyRmkQIA\nEBvXSXrYObdHUqeZnRVuP9HntQxJTzvn1jvnnoh5tHHAi8egTNIXzexiSUFJ8yWVhLcdcM49H369\nTVJF7MMDACAmhp1z1a9qe72kdWZ2Q/j7HIVuzI5JesY5t1+SzOwehe62/yxWwQIAEo9z7sXwmgQ3\nKTQLeqocSXea2XJJTlLSlG2/d851xSRIAABi6yZJ/xR+fW/4+wd14s9rk5J+7kGcccOL5PMtkook\nneWcGzezekmp4W2jU/ablETZDQBAIjFJH3LOPXJUo9lmhT7YT/Xq7wEAiIYHJH1d0mZJBVPaPy/p\nUefcm8IJ6sembBuMUWwAAMSMmeVLukzSWjNzkvwKfS57SCf+vDbinJuMXZTxx4uyGzmS2sKJ50sl\nLfIgBgAA4tEjkv7KzJIkycxWmFlGeNs5ZrY4XDvs7QotcAEAQLT9UNLfO+d2vKo9R68sQHhbTCMC\nAMAbN0j6T+fcIudchXNugaQDki4Sn9dOKGbJ5/BKx6OSfixpk5ntkPQuhWqFAQAA6V8l7ZK03cxe\nkvR9vfKU0rOSviOpRqELnF8etwcAACLIOdfonPv2cTZ9VdKXzOw5efNELQAAsXaTjv0c9vNwO5/X\nTsCci81Tu2a2XtIdzrlzYjIgAAAAAAAAAERRuEzix51zb/A6lngUk5nPZvZ+SfdI+mwsxgMAAAAA\nAAAAeCtmM58BAAAAAAAAAInDiwUHAQAAAAAAAABzXFSSz2a2wMweNbNdZrbTzD4cbs83s9+b2d7w\n17xwe0F4/wEz+86r+ko2sx+Y2R4z221mb4lGzAAAAAAAAACAyIlK2Q0zmydpnnNuu5llSdom6XpJ\nt0nqcs592cz+VlKec+6TZpYhaYOkNZLWOOf+15S+/l6S3zn3WTPzScp3znVEPGgAAAAAAAAAQMQE\notGpc+6wpMPh1/1mViNpvqTrJG0O73anpMckfdI5NyjpCTNbdpzu/kLSynBfQUkkngEAAAAAAAAg\nzkW95rOZVSg0q/lpSSXhxLQktUgqOcWxueGXnzez7WZ2n5md9BgAAAAAAAAAgPeimnw2s0xJP5f0\nEedc39RtLlTv41Q1PwKSyiU96ZzbKOkpSV+PRqwAAAAAAAAAgMiJWvLZzJIUSjz/2Dn3i3Bza7ge\n9Mt1odtO0U2npCFJLx9/n6SNUQgXAAAAAAAAABBBUUk+m5lJ+jdJNc65b07Z9ICkW8Ovb5V0/8n6\nCc+O/rVeqRP9Wkm7IhosAAAAAAAAACDiLJTfjXCnZhdK+m9JOyQFw82fVqju808lLZR0UNLbnHNd\n4WPqJWVLSpbUI+n1zrldZrZI0n9KypXULundzrlDEQ8aAAAAAAAAABAxUUk+AwAAAAAAAAASW1QX\nHAQAAAAAAAAAJCaSzwAAAAAAAACAiCP5DAAAAAAAAACIOJLPAAAAAAAAAICII/kMAAAAAAAAAIg4\nks8AAABIKGaWa2YfCL8uM7OfRXGsajO7Olr9AwAAAPGM5DMAAAASTa6kD0iSc67ZOXdDFMeqlkTy\nGQAAAAnJnHNexwAAAADEjJndK+k6SbWS9kqqcs6tMbPbJF0vKUPScklfl5Qs6Z2SRiVd7ZzrMrOl\nkv5FUpGkIUnvcc7tNrO3Svo/kiYl9Uq6XNI+SWmSmiR9SdIBSf8kKVXSsKR3O+dqT2PsxyS9IOkS\nSQFJf+GceyY6/1IAAADAmWHmMwAAABLN30qqc85VS/rEq7atkfRmSWdL+oKkIefcBklPSXpXeJ8f\nSPqQc+4sSR+X9N1w++ckXeGcWy/pWufcWLjtJ865aufcTyTtlnRRuM/PSfriaY4tSenh2D8g6Ydn\n9k8BAAAARE/A6wAAAACAOPKoc65fUr+Z9Ur6dbh9h6R1ZpYp6TWS7jOzl49JCX/9s6QfmdlPJf3i\nBP3nSLrTzJZLcpKSpjv2lP3ukSTn3J/MLNvMcp1zPTP8+wIAAABRQ/IZAAAAeMXolNfBKd8HFbp2\n9knqCc88Popz7v1mdq6kayRtM7OzjtP/5xVKMr/JzCokPXYaYx8Z6tVDn+TvAwAAAHiGshsAAABI\nNP2SsmZyoHOuT9KBcH1nWcj68OulzrmnnXOfk9QuacFxxspRqP6zJN02s/D19vB4F0rqdc71zrAf\nAAAAIKpIPgMAACChOOc6Jf3ZzF6S9LUZdHGLpNvN7AVJOxVavFCSvmZmO8L9PqnQwoCPSlplZs+b\n2dslfVXSl8zsOc38KcSR8PHfk3T7DPsAAAAAos6c4yk9AAAAYDYws8ckfdw5t9XrWAAAAIBTYeYz\nAAAAAAAAACDimPkMAAAAAAAAAIg4Zj4DAAAAAAAAACKO5DMAAAAAAAAAIOJIPgMAAAAAAAAAIo7k\nMwAAAAAAAAAg4kg+AwAAAAAAAAAijuQzAAAAAAAAACDi/gfX9bRJrmdLjQAAAABJRU5ErkJggg==\n",
      "text/plain": [
       "<matplotlib.figure.Figure at 0x7f1da90fbd30>"
      ]
     },
     "metadata": {},
     "output_type": "display_data"
    }
   ],
   "source": [
    "#this_pred.ix[\"data\",datetime(2016,1,1):datetime(2016,4,5), 'this_data'].plot(figsize=(25,5))\n",
    "\n",
    "# this is how to reference the data in the panels...\n",
    "this_pred.loc[\"data\",datetime(2016,1,1):datetime(2016,4,5), 'this_data'].plot(figsize=(25,5))\n",
    "grid()\n"
   ]
  },
  {
   "cell_type": "markdown",
   "metadata": {},
   "source": [
    "\n",
    "So, to build error metric, we need to compare:\n",
    "    the 0th-day value with the p0 forecast\n",
    "    the 1st-day value with the p1 forecast\n",
    "    the 2nd-day value with the p2 forecast\n",
    "    the 3rd-day value with the p3 forecast\n",
    "    the 4th-day value with the p4 forecast\n",
    "    the 5th-day value with the p5 forecast\n",
    "    the 6th-day value with the p6 forecast\n",
    "\n",
    "\n",
    "    \n",
    "    "
   ]
  },
  {
   "cell_type": "code",
   "execution_count": 22,
   "metadata": {
    "collapsed": true
   },
   "outputs": [],
   "source": [
    "# here's a function which calculates the rmse.  \n",
    "# it assumes that the series are aligned in time.\n",
    "\n",
    "def rmse(actual_series, forecast_series):\n",
    "    return np.sqrt(((actual_series.sub(forecast_series)) ** 2).mean())\n"
   ]
  },
  {
   "cell_type": "code",
   "execution_count": 23,
   "metadata": {
    "collapsed": true
   },
   "outputs": [],
   "source": [
    "# so, here's the raw data that we need to compare to the forecast:\n",
    "this_pred.loc['data', datetime(2016,4,1): datetime(2016,4,8) , 'this_data']\n",
    "# we need to generalize this structure depending on how the rest of the function takes shape...\n",
    "\n",
    "def get_raw_weekly(this_prediction_panel, starting_datetime = datetime(2016, 1,1)):\n",
    "    \"\"\"this grabs a week (ok, 8 days worth of RAW data).\n",
    "    Needs to be supplied the panel containing the information and \n",
    "    needs know the starting datetime index.\n",
    "    remember, all raw data objects are the same, so just grabbing from 'data'.\n",
    "    \"\"\"\n",
    "    # create a datetime index delta object to supply to the new index:\n",
    "    #dt_delta = date_range()\n",
    "    new_datetime_index = date_range(starting_datetime, starting_datetime + timedelta(days=7), freq='1d')\n",
    "    raw_data = this_prediction_panel.loc['data', new_datetime_index, 'this_data']\n",
    "    return raw_data"
   ]
  },
  {
   "cell_type": "code",
   "execution_count": 24,
   "metadata": {},
   "outputs": [
    {
     "data": {
      "image/png": "iVBORw0KGgoAAAANSUhEUgAAAX0AAAETCAYAAADah9Z7AAAABHNCSVQICAgIfAhkiAAAAAlwSFlz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\n",
      "text/plain": [
       "<matplotlib.figure.Figure at 0x7f9e4e4aaa58>"
      ]
     },
     "metadata": {},
     "output_type": "display_data"
    }
   ],
   "source": [
    "# testing...passed.\n",
    "get_raw_weekly(this_pred, datetime(2016,4,4)).plot()\n",
    "get_raw_weekly(this_pred,  datetime(2016,4,15)).plot()\n",
    "grid()"
   ]
  },
  {
   "cell_type": "code",
   "execution_count": 25,
   "metadata": {},
   "outputs": [
    {
     "data": {
      "text/html": [
       "<div>\n",
       "<style>\n",
       "    .dataframe thead tr:only-child th {\n",
       "        text-align: right;\n",
       "    }\n",
       "\n",
       "    .dataframe thead th {\n",
       "        text-align: left;\n",
       "    }\n",
       "\n",
       "    .dataframe tbody tr th {\n",
       "        vertical-align: top;\n",
       "    }\n",
       "</style>\n",
       "<table border=\"1\" class=\"dataframe\">\n",
       "  <thead>\n",
       "    <tr style=\"text-align: right;\">\n",
       "      <th></th>\n",
       "      <th>this_data</th>\n",
       "      <th>p0</th>\n",
       "      <th>p1</th>\n",
       "      <th>p2</th>\n",
       "      <th>p3</th>\n",
       "      <th>p4</th>\n",
       "      <th>p5</th>\n",
       "      <th>p6</th>\n",
       "      <th>p7</th>\n",
       "    </tr>\n",
       "    <tr>\n",
       "      <th>timestamp</th>\n",
       "      <th></th>\n",
       "      <th></th>\n",
       "      <th></th>\n",
       "      <th></th>\n",
       "      <th></th>\n",
       "      <th></th>\n",
       "      <th></th>\n",
       "      <th></th>\n",
       "      <th></th>\n",
       "    </tr>\n",
       "  </thead>\n",
       "  <tbody>\n",
       "    <tr>\n",
       "      <th>2016-04-04</th>\n",
       "      <td>482.0</td>\n",
       "      <td>426.802839</td>\n",
       "      <td>417.827803</td>\n",
       "      <td>408.364646</td>\n",
       "      <td>382.633717</td>\n",
       "      <td>388.390453</td>\n",
       "      <td>279.068621</td>\n",
       "      <td>233.352921</td>\n",
       "      <td>389.031916</td>\n",
       "    </tr>\n",
       "    <tr>\n",
       "      <th>2016-04-05</th>\n",
       "      <td>461.0</td>\n",
       "      <td>440.361294</td>\n",
       "      <td>352.259004</td>\n",
       "      <td>349.585042</td>\n",
       "      <td>363.000813</td>\n",
       "      <td>225.044152</td>\n",
       "      <td>203.859372</td>\n",
       "      <td>446.547811</td>\n",
       "      <td>419.668915</td>\n",
       "    </tr>\n",
       "    <tr>\n",
       "      <th>2016-04-06</th>\n",
       "      <td>448.0</td>\n",
       "      <td>397.985467</td>\n",
       "      <td>384.760118</td>\n",
       "      <td>374.624887</td>\n",
       "      <td>285.400732</td>\n",
       "      <td>237.281038</td>\n",
       "      <td>394.396779</td>\n",
       "      <td>444.960119</td>\n",
       "      <td>402.564532</td>\n",
       "    </tr>\n",
       "    <tr>\n",
       "      <th>2016-04-07</th>\n",
       "      <td>750.0</td>\n",
       "      <td>395.470718</td>\n",
       "      <td>351.028533</td>\n",
       "      <td>259.601114</td>\n",
       "      <td>244.158434</td>\n",
       "      <td>394.523888</td>\n",
       "      <td>441.372953</td>\n",
       "      <td>429.232568</td>\n",
       "      <td>395.811599</td>\n",
       "    </tr>\n",
       "    <tr>\n",
       "      <th>2016-04-08</th>\n",
       "      <td>530.0</td>\n",
       "      <td>765.217328</td>\n",
       "      <td>356.760980</td>\n",
       "      <td>292.228006</td>\n",
       "      <td>492.497463</td>\n",
       "      <td>410.070698</td>\n",
       "      <td>415.222404</td>\n",
       "      <td>779.729172</td>\n",
       "      <td>837.286156</td>\n",
       "    </tr>\n",
       "  </tbody>\n",
       "</table>\n",
       "</div>"
      ],
      "text/plain": [
       "            this_data          p0          p1          p2          p3  \\\n",
       "timestamp                                                               \n",
       "2016-04-04      482.0  426.802839  417.827803  408.364646  382.633717   \n",
       "2016-04-05      461.0  440.361294  352.259004  349.585042  363.000813   \n",
       "2016-04-06      448.0  397.985467  384.760118  374.624887  285.400732   \n",
       "2016-04-07      750.0  395.470718  351.028533  259.601114  244.158434   \n",
       "2016-04-08      530.0  765.217328  356.760980  292.228006  492.497463   \n",
       "\n",
       "                    p4          p5          p6          p7  \n",
       "timestamp                                                   \n",
       "2016-04-04  388.390453  279.068621  233.352921  389.031916  \n",
       "2016-04-05  225.044152  203.859372  446.547811  419.668915  \n",
       "2016-04-06  237.281038  394.396779  444.960119  402.564532  \n",
       "2016-04-07  394.523888  441.372953  429.232568  395.811599  \n",
       "2016-04-08  410.070698  415.222404  779.729172  837.286156  "
      ]
     },
     "execution_count": 25,
     "metadata": {},
     "output_type": "execute_result"
    }
   ],
   "source": [
    "# now we need to be able to reference the predictions and properly align them to this raw data.\n",
    "# let's start with looking at a df from the panel..\n",
    "this_pred.loc['cycle_series', datetime(2016,4,4):datetime(2016,4,8), 'this_data':'p7']"
   ]
  },
  {
   "cell_type": "code",
   "execution_count": 26,
   "metadata": {
    "collapsed": true
   },
   "outputs": [],
   "source": [
    "# so, the raw from the 0th day needs to compared to the p0 prediction here...\n",
    "# (also remember we need a function that will do this for other prediction models...)\n",
    "# if we look at the values across the columns, we see that they're already in the order we need...they just so happen\n",
    "# to be associated with the wrong timeseries index.  (all forecasts for the 4th of april are on that same day.)\n",
    "# so, all we have to do is grab all 8 predictions and then REINDEX the data.\n",
    "\n",
    "def get_weekly_forecast_data(this_prediction_panel, this_tab = 'data', starting_datetime = datetime(2016, 1,1)):\n",
    "    \"\"\"\n",
    "    \n",
    "    \"\"\"\n",
    "    wrong_indexed_forecast_data = this_prediction_panel.loc[this_tab, starting_datetime, 'p0':'p7']\n",
    "    # and now create the new index...\n",
    "    new_datetime_index = date_range(starting_datetime, starting_datetime+timedelta(days=7), freq='1d')\n",
    "    # and now change the index to match the data from the raw...\n",
    "    correctly_indexed_forecast_data_df = DataFrame(wrong_indexed_forecast_data).set_index(new_datetime_index)\n",
    "    # rename according to source\n",
    "    correctly_indexed_forecast_data_df.columns = [this_tab]\n",
    "    # should return a series for comparison\n",
    "    correctly_indexed_forecast_data_series = correctly_indexed_forecast_data_df[this_tab]\n",
    "    \n",
    "    return correctly_indexed_forecast_data_series"
   ]
  },
  {
   "cell_type": "code",
   "execution_count": 27,
   "metadata": {},
   "outputs": [
    {
     "data": {
      "text/plain": [
       "2016-04-01    246.512331\n",
       "2016-04-02     91.464942\n",
       "2016-04-03    142.038688\n",
       "2016-04-04    397.266514\n",
       "2016-04-05    487.313853\n",
       "2016-04-06    472.156399\n",
       "2016-04-07    431.464410\n",
       "2016-04-08    281.096991\n",
       "Freq: D, Name: data, dtype: float64"
      ]
     },
     "execution_count": 27,
     "metadata": {},
     "output_type": "execute_result"
    }
   ],
   "source": [
    "get_weekly_forecast_data(this_pred, 'data', datetime(2016,4,1))"
   ]
  },
  {
   "cell_type": "code",
   "execution_count": 28,
   "metadata": {},
   "outputs": [
    {
     "data": {
      "text/plain": [
       "185.40406914492328"
      ]
     },
     "execution_count": 28,
     "metadata": {},
     "output_type": "execute_result"
    }
   ],
   "source": [
    "# now all we have to do is feed it into the error function:\n",
    "this_data_forecast = get_weekly_forecast_data(this_pred, 'data', datetime(2016,4,1))\n",
    "this_data_raw = get_raw_weekly(this_pred, datetime(2016,4,4))\n",
    "\n",
    "# so this is the RMSE for the next 7 days (including today's as well...)\n",
    "\n",
    "rmse(this_data_raw, this_data_forecast)"
   ]
  },
  {
   "cell_type": "code",
   "execution_count": null,
   "metadata": {
    "collapsed": true
   },
   "outputs": [],
   "source": []
  },
  {
   "cell_type": "markdown",
   "metadata": {},
   "source": [
    "# but, we also need to store these values as we iterate through the whole set(s), right?...check this out.\n"
   ]
  },
  {
   "cell_type": "code",
   "execution_count": 29,
   "metadata": {
    "collapsed": true
   },
   "outputs": [],
   "source": [
    "# this following assumes it knows of the index of any panel...(it should have been loaded by now)"
   ]
  },
  {
   "cell_type": "code",
   "execution_count": 30,
   "metadata": {},
   "outputs": [
    {
     "data": {
      "text/plain": [
       "DatetimeIndex(['2016-01-01', '2016-01-02', '2016-01-03', '2016-01-04',\n",
       "               '2016-01-05', '2016-01-06', '2016-01-07', '2016-01-08',\n",
       "               '2016-01-09', '2016-01-10',\n",
       "               ...\n",
       "               '2016-10-22', '2016-10-23', '2016-10-24', '2016-10-25',\n",
       "               '2016-10-26', '2016-10-27', '2016-10-28', '2016-10-29',\n",
       "               '2016-10-30', '2016-10-31'],\n",
       "              dtype='datetime64[ns]', name='timestamp', length=305, freq=None)"
      ]
     },
     "execution_count": 30,
     "metadata": {},
     "output_type": "execute_result"
    }
   ],
   "source": [
    "this_pred.major_axis"
   ]
  },
  {
   "cell_type": "code",
   "execution_count": 31,
   "metadata": {
    "collapsed": true
   },
   "outputs": [],
   "source": [
    "# we can iterate through these object thusly:\n",
    "\n",
    "def get_weekly_error_for_all_days(this_prediction_panel):\n",
    "    # create a blank holder for the error results...done for ONE FEED (depending on which panel you give it...)\n",
    "    # we're setting this up based on info from previous panels...but this is a dataframe.\n",
    "    this_error_df = DataFrame(index = this_pred.major_axis, columns = this_pred.items)\n",
    "    \n",
    "    # now iterate through all tabs of panels and then the timeseries indices...\n",
    "    for this_tab in this_prediction_panel.items:\n",
    "        #print(this_tab)\n",
    "        for this_date in this_prediction_panel.major_axis:\n",
    "            # get the needed feeds:\n",
    "            this_data_forecast = get_weekly_forecast_data(this_prediction_panel, this_tab, this_date)\n",
    "            this_data_raw = get_raw_weekly(this_prediction_panel, this_date) # all the same\n",
    "            # now assign this error to this tab's column for this day (pretty cool method)\n",
    "            this_error_df.loc[this_date][this_tab] = rmse(this_data_raw, this_data_forecast)\n",
    "            #print('\\t' + str(rmse(this_data_raw, this_data_forecast)))\n",
    "    return this_error_df\n"
   ]
  },
  {
   "cell_type": "code",
   "execution_count": 32,
   "metadata": {
    "scrolled": false
   },
   "outputs": [
    {
     "data": {
      "text/html": [
       "<div>\n",
       "<style>\n",
       "    .dataframe thead tr:only-child th {\n",
       "        text-align: right;\n",
       "    }\n",
       "\n",
       "    .dataframe thead th {\n",
       "        text-align: left;\n",
       "    }\n",
       "\n",
       "    .dataframe tbody tr th {\n",
       "        vertical-align: top;\n",
       "    }\n",
       "</style>\n",
       "<table border=\"1\" class=\"dataframe\">\n",
       "  <thead>\n",
       "    <tr style=\"text-align: right;\">\n",
       "      <th></th>\n",
       "      <th>data</th>\n",
       "      <th>cycle_series</th>\n",
       "      <th>differenced_1_data</th>\n",
       "      <th>differenced_1_cycle</th>\n",
       "      <th>differenced_2_data</th>\n",
       "      <th>differenced_2_cycle</th>\n",
       "    </tr>\n",
       "    <tr>\n",
       "      <th>timestamp</th>\n",
       "      <th></th>\n",
       "      <th></th>\n",
       "      <th></th>\n",
       "      <th></th>\n",
       "      <th></th>\n",
       "      <th></th>\n",
       "    </tr>\n",
       "  </thead>\n",
       "  <tbody>\n",
       "    <tr>\n",
       "      <th>2016-01-01</th>\n",
       "      <td>NaN</td>\n",
       "      <td>NaN</td>\n",
       "      <td>NaN</td>\n",
       "      <td>NaN</td>\n",
       "      <td>NaN</td>\n",
       "      <td>NaN</td>\n",
       "    </tr>\n",
       "    <tr>\n",
       "      <th>2016-01-02</th>\n",
       "      <td>NaN</td>\n",
       "      <td>NaN</td>\n",
       "      <td>NaN</td>\n",
       "      <td>NaN</td>\n",
       "      <td>NaN</td>\n",
       "      <td>NaN</td>\n",
       "    </tr>\n",
       "    <tr>\n",
       "      <th>2016-01-03</th>\n",
       "      <td>NaN</td>\n",
       "      <td>NaN</td>\n",
       "      <td>NaN</td>\n",
       "      <td>NaN</td>\n",
       "      <td>NaN</td>\n",
       "      <td>NaN</td>\n",
       "    </tr>\n",
       "    <tr>\n",
       "      <th>2016-01-04</th>\n",
       "      <td>NaN</td>\n",
       "      <td>NaN</td>\n",
       "      <td>NaN</td>\n",
       "      <td>NaN</td>\n",
       "      <td>NaN</td>\n",
       "      <td>NaN</td>\n",
       "    </tr>\n",
       "    <tr>\n",
       "      <th>2016-01-05</th>\n",
       "      <td>NaN</td>\n",
       "      <td>NaN</td>\n",
       "      <td>NaN</td>\n",
       "      <td>NaN</td>\n",
       "      <td>NaN</td>\n",
       "      <td>NaN</td>\n",
       "    </tr>\n",
       "    <tr>\n",
       "      <th>2016-01-06</th>\n",
       "      <td>NaN</td>\n",
       "      <td>NaN</td>\n",
       "      <td>NaN</td>\n",
       "      <td>NaN</td>\n",
       "      <td>NaN</td>\n",
       "      <td>NaN</td>\n",
       "    </tr>\n",
       "    <tr>\n",
       "      <th>2016-01-07</th>\n",
       "      <td>NaN</td>\n",
       "      <td>NaN</td>\n",
       "      <td>NaN</td>\n",
       "      <td>NaN</td>\n",
       "      <td>NaN</td>\n",
       "      <td>NaN</td>\n",
       "    </tr>\n",
       "    <tr>\n",
       "      <th>2016-01-08</th>\n",
       "      <td>NaN</td>\n",
       "      <td>NaN</td>\n",
       "      <td>NaN</td>\n",
       "      <td>NaN</td>\n",
       "      <td>NaN</td>\n",
       "      <td>NaN</td>\n",
       "    </tr>\n",
       "    <tr>\n",
       "      <th>2016-01-09</th>\n",
       "      <td>NaN</td>\n",
       "      <td>NaN</td>\n",
       "      <td>NaN</td>\n",
       "      <td>NaN</td>\n",
       "      <td>NaN</td>\n",
       "      <td>NaN</td>\n",
       "    </tr>\n",
       "    <tr>\n",
       "      <th>2016-01-10</th>\n",
       "      <td>NaN</td>\n",
       "      <td>NaN</td>\n",
       "      <td>NaN</td>\n",
       "      <td>NaN</td>\n",
       "      <td>NaN</td>\n",
       "      <td>NaN</td>\n",
       "    </tr>\n",
       "    <tr>\n",
       "      <th>2016-01-11</th>\n",
       "      <td>NaN</td>\n",
       "      <td>NaN</td>\n",
       "      <td>NaN</td>\n",
       "      <td>NaN</td>\n",
       "      <td>NaN</td>\n",
       "      <td>NaN</td>\n",
       "    </tr>\n",
       "    <tr>\n",
       "      <th>2016-01-12</th>\n",
       "      <td>NaN</td>\n",
       "      <td>NaN</td>\n",
       "      <td>NaN</td>\n",
       "      <td>NaN</td>\n",
       "      <td>NaN</td>\n",
       "      <td>NaN</td>\n",
       "    </tr>\n",
       "    <tr>\n",
       "      <th>2016-01-13</th>\n",
       "      <td>NaN</td>\n",
       "      <td>NaN</td>\n",
       "      <td>NaN</td>\n",
       "      <td>NaN</td>\n",
       "      <td>NaN</td>\n",
       "      <td>NaN</td>\n",
       "    </tr>\n",
       "    <tr>\n",
       "      <th>2016-01-14</th>\n",
       "      <td>NaN</td>\n",
       "      <td>NaN</td>\n",
       "      <td>NaN</td>\n",
       "      <td>NaN</td>\n",
       "      <td>NaN</td>\n",
       "      <td>NaN</td>\n",
       "    </tr>\n",
       "    <tr>\n",
       "      <th>2016-01-15</th>\n",
       "      <td>NaN</td>\n",
       "      <td>NaN</td>\n",
       "      <td>NaN</td>\n",
       "      <td>NaN</td>\n",
       "      <td>NaN</td>\n",
       "      <td>NaN</td>\n",
       "    </tr>\n",
       "    <tr>\n",
       "      <th>2016-01-16</th>\n",
       "      <td>91.5994</td>\n",
       "      <td>30.4517</td>\n",
       "      <td>937.538</td>\n",
       "      <td>603.071</td>\n",
       "      <td>1856.29</td>\n",
       "      <td>293.285</td>\n",
       "    </tr>\n",
       "    <tr>\n",
       "      <th>2016-01-17</th>\n",
       "      <td>52.2132</td>\n",
       "      <td>42.963</td>\n",
       "      <td>93.0346</td>\n",
       "      <td>61.9703</td>\n",
       "      <td>174.64</td>\n",
       "      <td>160.272</td>\n",
       "    </tr>\n",
       "    <tr>\n",
       "      <th>2016-01-18</th>\n",
       "      <td>57.7701</td>\n",
       "      <td>67.0056</td>\n",
       "      <td>163.947</td>\n",
       "      <td>161.744</td>\n",
       "      <td>254.043</td>\n",
       "      <td>234.553</td>\n",
       "    </tr>\n",
       "    <tr>\n",
       "      <th>2016-01-19</th>\n",
       "      <td>71.7713</td>\n",
       "      <td>52.1872</td>\n",
       "      <td>95.2705</td>\n",
       "      <td>289.446</td>\n",
       "      <td>287.83</td>\n",
       "      <td>275.603</td>\n",
       "    </tr>\n",
       "    <tr>\n",
       "      <th>2016-01-20</th>\n",
       "      <td>76.7023</td>\n",
       "      <td>63.9016</td>\n",
       "      <td>3187.55</td>\n",
       "      <td>1314.22</td>\n",
       "      <td>105.665</td>\n",
       "      <td>140.331</td>\n",
       "    </tr>\n",
       "    <tr>\n",
       "      <th>2016-01-21</th>\n",
       "      <td>81.2607</td>\n",
       "      <td>1845.87</td>\n",
       "      <td>99.5778</td>\n",
       "      <td>70.3739</td>\n",
       "      <td>418.202</td>\n",
       "      <td>93.2961</td>\n",
       "    </tr>\n",
       "    <tr>\n",
       "      <th>2016-01-22</th>\n",
       "      <td>79.7065</td>\n",
       "      <td>54.8296</td>\n",
       "      <td>101.814</td>\n",
       "      <td>57.1311</td>\n",
       "      <td>101.982</td>\n",
       "      <td>118.443</td>\n",
       "    </tr>\n",
       "    <tr>\n",
       "      <th>2016-01-23</th>\n",
       "      <td>71.9297</td>\n",
       "      <td>56.2878</td>\n",
       "      <td>99.8584</td>\n",
       "      <td>57.2345</td>\n",
       "      <td>100.937</td>\n",
       "      <td>104.751</td>\n",
       "    </tr>\n",
       "    <tr>\n",
       "      <th>2016-01-24</th>\n",
       "      <td>60.765</td>\n",
       "      <td>54.1555</td>\n",
       "      <td>78.5983</td>\n",
       "      <td>52.1086</td>\n",
       "      <td>97.3216</td>\n",
       "      <td>85.084</td>\n",
       "    </tr>\n",
       "    <tr>\n",
       "      <th>2016-01-25</th>\n",
       "      <td>86.3219</td>\n",
       "      <td>83.4851</td>\n",
       "      <td>104.35</td>\n",
       "      <td>95.5224</td>\n",
       "      <td>155.36</td>\n",
       "      <td>2943.46</td>\n",
       "    </tr>\n",
       "    <tr>\n",
       "      <th>2016-01-26</th>\n",
       "      <td>75.5348</td>\n",
       "      <td>75.9591</td>\n",
       "      <td>77.7882</td>\n",
       "      <td>57.4987</td>\n",
       "      <td>258.915</td>\n",
       "      <td>205.466</td>\n",
       "    </tr>\n",
       "    <tr>\n",
       "      <th>2016-01-27</th>\n",
       "      <td>70.8454</td>\n",
       "      <td>66.2023</td>\n",
       "      <td>255.596</td>\n",
       "      <td>43.1964</td>\n",
       "      <td>102.336</td>\n",
       "      <td>131.161</td>\n",
       "    </tr>\n",
       "    <tr>\n",
       "      <th>2016-01-28</th>\n",
       "      <td>74.2127</td>\n",
       "      <td>59.161</td>\n",
       "      <td>82.853</td>\n",
       "      <td>42.3528</td>\n",
       "      <td>115.544</td>\n",
       "      <td>120.898</td>\n",
       "    </tr>\n",
       "    <tr>\n",
       "      <th>2016-01-29</th>\n",
       "      <td>75.0301</td>\n",
       "      <td>72.7656</td>\n",
       "      <td>103.761</td>\n",
       "      <td>45.342</td>\n",
       "      <td>118.52</td>\n",
       "      <td>137.095</td>\n",
       "    </tr>\n",
       "    <tr>\n",
       "      <th>2016-01-30</th>\n",
       "      <td>73.0917</td>\n",
       "      <td>79.1621</td>\n",
       "      <td>92.7028</td>\n",
       "      <td>46.7705</td>\n",
       "      <td>119.397</td>\n",
       "      <td>124.807</td>\n",
       "    </tr>\n",
       "    <tr>\n",
       "      <th>...</th>\n",
       "      <td>...</td>\n",
       "      <td>...</td>\n",
       "      <td>...</td>\n",
       "      <td>...</td>\n",
       "      <td>...</td>\n",
       "      <td>...</td>\n",
       "    </tr>\n",
       "    <tr>\n",
       "      <th>2016-10-02</th>\n",
       "      <td>37.7967</td>\n",
       "      <td>38.3953</td>\n",
       "      <td>42.259</td>\n",
       "      <td>59.7271</td>\n",
       "      <td>128.441</td>\n",
       "      <td>129.301</td>\n",
       "    </tr>\n",
       "    <tr>\n",
       "      <th>2016-10-03</th>\n",
       "      <td>39.9652</td>\n",
       "      <td>41.228</td>\n",
       "      <td>48.9515</td>\n",
       "      <td>56.6369</td>\n",
       "      <td>125.524</td>\n",
       "      <td>121.489</td>\n",
       "    </tr>\n",
       "    <tr>\n",
       "      <th>2016-10-04</th>\n",
       "      <td>50.9761</td>\n",
       "      <td>53.8614</td>\n",
       "      <td>52</td>\n",
       "      <td>59.7947</td>\n",
       "      <td>171.976</td>\n",
       "      <td>165.995</td>\n",
       "    </tr>\n",
       "    <tr>\n",
       "      <th>2016-10-05</th>\n",
       "      <td>57.0668</td>\n",
       "      <td>56.4813</td>\n",
       "      <td>61.1297</td>\n",
       "      <td>59.8835</td>\n",
       "      <td>165.553</td>\n",
       "      <td>164.708</td>\n",
       "    </tr>\n",
       "    <tr>\n",
       "      <th>2016-10-06</th>\n",
       "      <td>58.8185</td>\n",
       "      <td>57.419</td>\n",
       "      <td>53.8991</td>\n",
       "      <td>49.2295</td>\n",
       "      <td>158.519</td>\n",
       "      <td>152.987</td>\n",
       "    </tr>\n",
       "    <tr>\n",
       "      <th>2016-10-07</th>\n",
       "      <td>53.4834</td>\n",
       "      <td>61.0934</td>\n",
       "      <td>54.5457</td>\n",
       "      <td>55.1396</td>\n",
       "      <td>128.215</td>\n",
       "      <td>435.332</td>\n",
       "    </tr>\n",
       "    <tr>\n",
       "      <th>2016-10-08</th>\n",
       "      <td>66.3658</td>\n",
       "      <td>66.3002</td>\n",
       "      <td>63.4408</td>\n",
       "      <td>63.0145</td>\n",
       "      <td>121.955</td>\n",
       "      <td>122.149</td>\n",
       "    </tr>\n",
       "    <tr>\n",
       "      <th>2016-10-09</th>\n",
       "      <td>62.7744</td>\n",
       "      <td>68.375</td>\n",
       "      <td>62.1736</td>\n",
       "      <td>62.9133</td>\n",
       "      <td>130.166</td>\n",
       "      <td>130.803</td>\n",
       "    </tr>\n",
       "    <tr>\n",
       "      <th>2016-10-10</th>\n",
       "      <td>56.5118</td>\n",
       "      <td>57.4737</td>\n",
       "      <td>58.8624</td>\n",
       "      <td>65.0038</td>\n",
       "      <td>169.254</td>\n",
       "      <td>175.517</td>\n",
       "    </tr>\n",
       "    <tr>\n",
       "      <th>2016-10-11</th>\n",
       "      <td>68.4556</td>\n",
       "      <td>73.8853</td>\n",
       "      <td>108.626</td>\n",
       "      <td>83.3805</td>\n",
       "      <td>215.32</td>\n",
       "      <td>227.387</td>\n",
       "    </tr>\n",
       "    <tr>\n",
       "      <th>2016-10-12</th>\n",
       "      <td>72.4992</td>\n",
       "      <td>82.6626</td>\n",
       "      <td>115.04</td>\n",
       "      <td>119.696</td>\n",
       "      <td>92.8709</td>\n",
       "      <td>102.184</td>\n",
       "    </tr>\n",
       "    <tr>\n",
       "      <th>2016-10-13</th>\n",
       "      <td>72.5049</td>\n",
       "      <td>76.4387</td>\n",
       "      <td>72.0637</td>\n",
       "      <td>83.8328</td>\n",
       "      <td>78.0747</td>\n",
       "      <td>79.4769</td>\n",
       "    </tr>\n",
       "    <tr>\n",
       "      <th>2016-10-14</th>\n",
       "      <td>67.9567</td>\n",
       "      <td>68.3753</td>\n",
       "      <td>82.1461</td>\n",
       "      <td>92.3067</td>\n",
       "      <td>81.9559</td>\n",
       "      <td>83.3595</td>\n",
       "    </tr>\n",
       "    <tr>\n",
       "      <th>2016-10-15</th>\n",
       "      <td>78.5232</td>\n",
       "      <td>76.6789</td>\n",
       "      <td>81.7283</td>\n",
       "      <td>70.4723</td>\n",
       "      <td>61.7841</td>\n",
       "      <td>70.4075</td>\n",
       "    </tr>\n",
       "    <tr>\n",
       "      <th>2016-10-16</th>\n",
       "      <td>82.1922</td>\n",
       "      <td>94.3137</td>\n",
       "      <td>350.358</td>\n",
       "      <td>79.2147</td>\n",
       "      <td>72.3985</td>\n",
       "      <td>78.2868</td>\n",
       "    </tr>\n",
       "    <tr>\n",
       "      <th>2016-10-17</th>\n",
       "      <td>99.6988</td>\n",
       "      <td>97.9035</td>\n",
       "      <td>87.7435</td>\n",
       "      <td>90.3816</td>\n",
       "      <td>174.425</td>\n",
       "      <td>177.254</td>\n",
       "    </tr>\n",
       "    <tr>\n",
       "      <th>2016-10-18</th>\n",
       "      <td>49.9096</td>\n",
       "      <td>49.4699</td>\n",
       "      <td>25.4146</td>\n",
       "      <td>26.531</td>\n",
       "      <td>182.017</td>\n",
       "      <td>170.384</td>\n",
       "    </tr>\n",
       "    <tr>\n",
       "      <th>2016-10-19</th>\n",
       "      <td>49.3183</td>\n",
       "      <td>48.4067</td>\n",
       "      <td>30.3918</td>\n",
       "      <td>30.4888</td>\n",
       "      <td>167.235</td>\n",
       "      <td>165.291</td>\n",
       "    </tr>\n",
       "    <tr>\n",
       "      <th>2016-10-20</th>\n",
       "      <td>50.6135</td>\n",
       "      <td>46.48</td>\n",
       "      <td>37.7198</td>\n",
       "      <td>28.4103</td>\n",
       "      <td>117.715</td>\n",
       "      <td>123.726</td>\n",
       "    </tr>\n",
       "    <tr>\n",
       "      <th>2016-10-21</th>\n",
       "      <td>50.4315</td>\n",
       "      <td>39.8984</td>\n",
       "      <td>41.2604</td>\n",
       "      <td>28.3605</td>\n",
       "      <td>1534.09</td>\n",
       "      <td>132.706</td>\n",
       "    </tr>\n",
       "    <tr>\n",
       "      <th>2016-10-22</th>\n",
       "      <td>52.5888</td>\n",
       "      <td>37.6839</td>\n",
       "      <td>51.3613</td>\n",
       "      <td>24.5438</td>\n",
       "      <td>89.1174</td>\n",
       "      <td>92.2838</td>\n",
       "    </tr>\n",
       "    <tr>\n",
       "      <th>2016-10-23</th>\n",
       "      <td>52.2754</td>\n",
       "      <td>157.014</td>\n",
       "      <td>44.9019</td>\n",
       "      <td>35.1105</td>\n",
       "      <td>121.292</td>\n",
       "      <td>125.874</td>\n",
       "    </tr>\n",
       "    <tr>\n",
       "      <th>2016-10-24</th>\n",
       "      <td>44.3622</td>\n",
       "      <td>38.5695</td>\n",
       "      <td>34.8988</td>\n",
       "      <td>31.1095</td>\n",
       "      <td>151.839</td>\n",
       "      <td>140.961</td>\n",
       "    </tr>\n",
       "    <tr>\n",
       "      <th>2016-10-25</th>\n",
       "      <td>34.5755</td>\n",
       "      <td>47.3506</td>\n",
       "      <td>32.2016</td>\n",
       "      <td>37.1212</td>\n",
       "      <td>232.161</td>\n",
       "      <td>157.821</td>\n",
       "    </tr>\n",
       "    <tr>\n",
       "      <th>2016-10-26</th>\n",
       "      <td>32.8692</td>\n",
       "      <td>27.3201</td>\n",
       "      <td>15.9257</td>\n",
       "      <td>26.0774</td>\n",
       "      <td>201.343</td>\n",
       "      <td>218.556</td>\n",
       "    </tr>\n",
       "    <tr>\n",
       "      <th>2016-10-27</th>\n",
       "      <td>52.4727</td>\n",
       "      <td>21.7878</td>\n",
       "      <td>34.1896</td>\n",
       "      <td>100.3</td>\n",
       "      <td>194.49</td>\n",
       "      <td>223.94</td>\n",
       "    </tr>\n",
       "    <tr>\n",
       "      <th>2016-10-28</th>\n",
       "      <td>49.1184</td>\n",
       "      <td>39.2512</td>\n",
       "      <td>52.9689</td>\n",
       "      <td>90.6185</td>\n",
       "      <td>120.712</td>\n",
       "      <td>151.397</td>\n",
       "    </tr>\n",
       "    <tr>\n",
       "      <th>2016-10-29</th>\n",
       "      <td>51.2589</td>\n",
       "      <td>21.9531</td>\n",
       "      <td>81.9371</td>\n",
       "      <td>59.7773</td>\n",
       "      <td>120.745</td>\n",
       "      <td>132.022</td>\n",
       "    </tr>\n",
       "    <tr>\n",
       "      <th>2016-10-30</th>\n",
       "      <td>35.4459</td>\n",
       "      <td>79.055</td>\n",
       "      <td>25.96</td>\n",
       "      <td>43.2521</td>\n",
       "      <td>132.315</td>\n",
       "      <td>183.024</td>\n",
       "    </tr>\n",
       "    <tr>\n",
       "      <th>2016-10-31</th>\n",
       "      <td>22.538</td>\n",
       "      <td>25.0336</td>\n",
       "      <td>119.98</td>\n",
       "      <td>48.9981</td>\n",
       "      <td>27.9613</td>\n",
       "      <td>58.332</td>\n",
       "    </tr>\n",
       "  </tbody>\n",
       "</table>\n",
       "<p>305 rows × 6 columns</p>\n",
       "</div>"
      ],
      "text/plain": [
       "               data cycle_series differenced_1_data differenced_1_cycle  \\\n",
       "timestamp                                                                 \n",
       "2016-01-01      NaN          NaN                NaN                 NaN   \n",
       "2016-01-02      NaN          NaN                NaN                 NaN   \n",
       "2016-01-03      NaN          NaN                NaN                 NaN   \n",
       "2016-01-04      NaN          NaN                NaN                 NaN   \n",
       "2016-01-05      NaN          NaN                NaN                 NaN   \n",
       "2016-01-06      NaN          NaN                NaN                 NaN   \n",
       "2016-01-07      NaN          NaN                NaN                 NaN   \n",
       "2016-01-08      NaN          NaN                NaN                 NaN   \n",
       "2016-01-09      NaN          NaN                NaN                 NaN   \n",
       "2016-01-10      NaN          NaN                NaN                 NaN   \n",
       "2016-01-11      NaN          NaN                NaN                 NaN   \n",
       "2016-01-12      NaN          NaN                NaN                 NaN   \n",
       "2016-01-13      NaN          NaN                NaN                 NaN   \n",
       "2016-01-14      NaN          NaN                NaN                 NaN   \n",
       "2016-01-15      NaN          NaN                NaN                 NaN   \n",
       "2016-01-16  91.5994      30.4517            937.538             603.071   \n",
       "2016-01-17  52.2132       42.963            93.0346             61.9703   \n",
       "2016-01-18  57.7701      67.0056            163.947             161.744   \n",
       "2016-01-19  71.7713      52.1872            95.2705             289.446   \n",
       "2016-01-20  76.7023      63.9016            3187.55             1314.22   \n",
       "2016-01-21  81.2607      1845.87            99.5778             70.3739   \n",
       "2016-01-22  79.7065      54.8296            101.814             57.1311   \n",
       "2016-01-23  71.9297      56.2878            99.8584             57.2345   \n",
       "2016-01-24   60.765      54.1555            78.5983             52.1086   \n",
       "2016-01-25  86.3219      83.4851             104.35             95.5224   \n",
       "2016-01-26  75.5348      75.9591            77.7882             57.4987   \n",
       "2016-01-27  70.8454      66.2023            255.596             43.1964   \n",
       "2016-01-28  74.2127       59.161             82.853             42.3528   \n",
       "2016-01-29  75.0301      72.7656            103.761              45.342   \n",
       "2016-01-30  73.0917      79.1621            92.7028             46.7705   \n",
       "...             ...          ...                ...                 ...   \n",
       "2016-10-02  37.7967      38.3953             42.259             59.7271   \n",
       "2016-10-03  39.9652       41.228            48.9515             56.6369   \n",
       "2016-10-04  50.9761      53.8614                 52             59.7947   \n",
       "2016-10-05  57.0668      56.4813            61.1297             59.8835   \n",
       "2016-10-06  58.8185       57.419            53.8991             49.2295   \n",
       "2016-10-07  53.4834      61.0934            54.5457             55.1396   \n",
       "2016-10-08  66.3658      66.3002            63.4408             63.0145   \n",
       "2016-10-09  62.7744       68.375            62.1736             62.9133   \n",
       "2016-10-10  56.5118      57.4737            58.8624             65.0038   \n",
       "2016-10-11  68.4556      73.8853            108.626             83.3805   \n",
       "2016-10-12  72.4992      82.6626             115.04             119.696   \n",
       "2016-10-13  72.5049      76.4387            72.0637             83.8328   \n",
       "2016-10-14  67.9567      68.3753            82.1461             92.3067   \n",
       "2016-10-15  78.5232      76.6789            81.7283             70.4723   \n",
       "2016-10-16  82.1922      94.3137            350.358             79.2147   \n",
       "2016-10-17  99.6988      97.9035            87.7435             90.3816   \n",
       "2016-10-18  49.9096      49.4699            25.4146              26.531   \n",
       "2016-10-19  49.3183      48.4067            30.3918             30.4888   \n",
       "2016-10-20  50.6135        46.48            37.7198             28.4103   \n",
       "2016-10-21  50.4315      39.8984            41.2604             28.3605   \n",
       "2016-10-22  52.5888      37.6839            51.3613             24.5438   \n",
       "2016-10-23  52.2754      157.014            44.9019             35.1105   \n",
       "2016-10-24  44.3622      38.5695            34.8988             31.1095   \n",
       "2016-10-25  34.5755      47.3506            32.2016             37.1212   \n",
       "2016-10-26  32.8692      27.3201            15.9257             26.0774   \n",
       "2016-10-27  52.4727      21.7878            34.1896               100.3   \n",
       "2016-10-28  49.1184      39.2512            52.9689             90.6185   \n",
       "2016-10-29  51.2589      21.9531            81.9371             59.7773   \n",
       "2016-10-30  35.4459       79.055              25.96             43.2521   \n",
       "2016-10-31   22.538      25.0336             119.98             48.9981   \n",
       "\n",
       "           differenced_2_data differenced_2_cycle  \n",
       "timestamp                                          \n",
       "2016-01-01                NaN                 NaN  \n",
       "2016-01-02                NaN                 NaN  \n",
       "2016-01-03                NaN                 NaN  \n",
       "2016-01-04                NaN                 NaN  \n",
       "2016-01-05                NaN                 NaN  \n",
       "2016-01-06                NaN                 NaN  \n",
       "2016-01-07                NaN                 NaN  \n",
       "2016-01-08                NaN                 NaN  \n",
       "2016-01-09                NaN                 NaN  \n",
       "2016-01-10                NaN                 NaN  \n",
       "2016-01-11                NaN                 NaN  \n",
       "2016-01-12                NaN                 NaN  \n",
       "2016-01-13                NaN                 NaN  \n",
       "2016-01-14                NaN                 NaN  \n",
       "2016-01-15                NaN                 NaN  \n",
       "2016-01-16            1856.29             293.285  \n",
       "2016-01-17             174.64             160.272  \n",
       "2016-01-18            254.043             234.553  \n",
       "2016-01-19             287.83             275.603  \n",
       "2016-01-20            105.665             140.331  \n",
       "2016-01-21            418.202             93.2961  \n",
       "2016-01-22            101.982             118.443  \n",
       "2016-01-23            100.937             104.751  \n",
       "2016-01-24            97.3216              85.084  \n",
       "2016-01-25             155.36             2943.46  \n",
       "2016-01-26            258.915             205.466  \n",
       "2016-01-27            102.336             131.161  \n",
       "2016-01-28            115.544             120.898  \n",
       "2016-01-29             118.52             137.095  \n",
       "2016-01-30            119.397             124.807  \n",
       "...                       ...                 ...  \n",
       "2016-10-02            128.441             129.301  \n",
       "2016-10-03            125.524             121.489  \n",
       "2016-10-04            171.976             165.995  \n",
       "2016-10-05            165.553             164.708  \n",
       "2016-10-06            158.519             152.987  \n",
       "2016-10-07            128.215             435.332  \n",
       "2016-10-08            121.955             122.149  \n",
       "2016-10-09            130.166             130.803  \n",
       "2016-10-10            169.254             175.517  \n",
       "2016-10-11             215.32             227.387  \n",
       "2016-10-12            92.8709             102.184  \n",
       "2016-10-13            78.0747             79.4769  \n",
       "2016-10-14            81.9559             83.3595  \n",
       "2016-10-15            61.7841             70.4075  \n",
       "2016-10-16            72.3985             78.2868  \n",
       "2016-10-17            174.425             177.254  \n",
       "2016-10-18            182.017             170.384  \n",
       "2016-10-19            167.235             165.291  \n",
       "2016-10-20            117.715             123.726  \n",
       "2016-10-21            1534.09             132.706  \n",
       "2016-10-22            89.1174             92.2838  \n",
       "2016-10-23            121.292             125.874  \n",
       "2016-10-24            151.839             140.961  \n",
       "2016-10-25            232.161             157.821  \n",
       "2016-10-26            201.343             218.556  \n",
       "2016-10-27             194.49              223.94  \n",
       "2016-10-28            120.712             151.397  \n",
       "2016-10-29            120.745             132.022  \n",
       "2016-10-30            132.315             183.024  \n",
       "2016-10-31            27.9613              58.332  \n",
       "\n",
       "[305 rows x 6 columns]"
      ]
     },
     "execution_count": 32,
     "metadata": {},
     "output_type": "execute_result"
    }
   ],
   "source": [
    "get_weekly_error_for_all_days(this_pred)"
   ]
  },
  {
   "cell_type": "code",
   "execution_count": 33,
   "metadata": {
    "collapsed": true
   },
   "outputs": [],
   "source": [
    "# now from here, we need to identify the best prediction (idxmin to the rescue!)\n"
   ]
  },
  {
   "cell_type": "code",
   "execution_count": 34,
   "metadata": {},
   "outputs": [
    {
     "data": {
      "text/plain": [
       "timestamp\n",
       "2016-01-01                    NaN\n",
       "2016-01-02                    NaN\n",
       "2016-01-03                    NaN\n",
       "2016-01-04                    NaN\n",
       "2016-01-05                    NaN\n",
       "2016-01-06                    NaN\n",
       "2016-01-07                    NaN\n",
       "2016-01-08                    NaN\n",
       "2016-01-09                    NaN\n",
       "2016-01-10                    NaN\n",
       "2016-01-11                    NaN\n",
       "2016-01-12                    NaN\n",
       "2016-01-13                    NaN\n",
       "2016-01-14                    NaN\n",
       "2016-01-15                    NaN\n",
       "2016-01-16           cycle_series\n",
       "2016-01-17           cycle_series\n",
       "2016-01-18                   data\n",
       "2016-01-19           cycle_series\n",
       "2016-01-20           cycle_series\n",
       "2016-01-21    differenced_1_cycle\n",
       "2016-01-22           cycle_series\n",
       "2016-01-23           cycle_series\n",
       "2016-01-24    differenced_1_cycle\n",
       "2016-01-25           cycle_series\n",
       "2016-01-26    differenced_1_cycle\n",
       "2016-01-27    differenced_1_cycle\n",
       "2016-01-28    differenced_1_cycle\n",
       "2016-01-29    differenced_1_cycle\n",
       "2016-01-30    differenced_1_cycle\n",
       "                     ...         \n",
       "2016-10-02                   data\n",
       "2016-10-03                   data\n",
       "2016-10-04                   data\n",
       "2016-10-05           cycle_series\n",
       "2016-10-06    differenced_1_cycle\n",
       "2016-10-07                   data\n",
       "2016-10-08    differenced_1_cycle\n",
       "2016-10-09     differenced_1_data\n",
       "2016-10-10                   data\n",
       "2016-10-11                   data\n",
       "2016-10-12                   data\n",
       "2016-10-13     differenced_1_data\n",
       "2016-10-14                   data\n",
       "2016-10-15     differenced_2_data\n",
       "2016-10-16     differenced_2_data\n",
       "2016-10-17     differenced_1_data\n",
       "2016-10-18     differenced_1_data\n",
       "2016-10-19     differenced_1_data\n",
       "2016-10-20    differenced_1_cycle\n",
       "2016-10-21    differenced_1_cycle\n",
       "2016-10-22    differenced_1_cycle\n",
       "2016-10-23    differenced_1_cycle\n",
       "2016-10-24    differenced_1_cycle\n",
       "2016-10-25     differenced_1_data\n",
       "2016-10-26     differenced_1_data\n",
       "2016-10-27           cycle_series\n",
       "2016-10-28           cycle_series\n",
       "2016-10-29           cycle_series\n",
       "2016-10-30     differenced_1_data\n",
       "2016-10-31                   data\n",
       "Length: 305, dtype: object"
      ]
     },
     "execution_count": 34,
     "metadata": {},
     "output_type": "execute_result"
    }
   ],
   "source": [
    "get_weekly_error_for_all_days(this_pred).idxmin(axis=1) #for the chosen model create and array that leaves a 1 in the index of the model that was chosen ([0,1,0,0,0,0,0,])"
   ]
  },
  {
   "cell_type": "code",
   "execution_count": 35,
   "metadata": {
    "collapsed": true
   },
   "outputs": [],
   "source": [
    "# would be nice to see which model (for this feed) produced the best (8-day) forecast:\n",
    "best_methods_for_this_feed = get_weekly_error_for_all_days(this_pred).idxmin(axis=1)\n"
   ]
  },
  {
   "cell_type": "code",
   "execution_count": 36,
   "metadata": {},
   "outputs": [
    {
     "data": {
      "text/plain": [
       "Counter({'cycle_series': 74,\n",
       "         'data': 55,\n",
       "         'differenced_1_cycle': 76,\n",
       "         'differenced_1_data': 81,\n",
       "         'differenced_2_cycle': 1,\n",
       "         'differenced_2_data': 3})"
      ]
     },
     "execution_count": 36,
     "metadata": {},
     "output_type": "execute_result"
    }
   ],
   "source": [
    "from collections import Counter\n",
    "Counter(best_methods_for_this_feed.dropna())"
   ]
  },
  {
   "cell_type": "code",
   "execution_count": 37,
   "metadata": {},
   "outputs": [
    {
     "data": {
      "text/plain": [
       "<matplotlib.text.Text at 0x7f9e4e375da0>"
      ]
     },
     "execution_count": 37,
     "metadata": {},
     "output_type": "execute_result"
    },
    {
     "data": {
      "image/png": "iVBORw0KGgoAAAANSUhEUgAAAokAAAFtCAYAAABr6vAoAAAABHNCSVQICAgIfAhkiAAAAAlwSFlz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\nThLNzMzMrImTRDMzMzNr8r+C38RQhfrjfgAAAABJRU5ErkJggg==\n",
      "text/plain": [
       "<matplotlib.figure.Figure at 0x7f9e4e3a27b8>"
      ]
     },
     "metadata": {},
     "output_type": "display_data"
    }
   ],
   "source": [
    "DataFrame.from_dict(Counter(best_methods_for_this_feed.dropna()), orient='index').plot(kind='pie', subplots=True, figsize=(6,6),legend=False, fontsize=18)\n",
    "ylabel('')\n",
    "title(\"this feed's composition of best forecasts\", fontsize=20)"
   ]
  },
  {
   "cell_type": "markdown",
   "metadata": {},
   "source": [
    "# END NOTES from 9/26/2017"
   ]
  },
  {
   "cell_type": "code",
   "execution_count": null,
   "metadata": {
    "collapsed": true
   },
   "outputs": [],
   "source": []
  },
  {
   "cell_type": "code",
   "execution_count": null,
   "metadata": {
    "collapsed": true
   },
   "outputs": [],
   "source": []
  },
  {
   "cell_type": "code",
   "execution_count": 38,
   "metadata": {
    "collapsed": true
   },
   "outputs": [],
   "source": [
    "def bias_generator(results_df, forecast_term):\n",
    "    shift_term = int(forecast_term[1:])\n",
    "    this_forecast_bias = forecast_bias(results_df['this_data'], results_df[forecast_term].shift(shift_term) )\n",
    "    return this_forecast_bias\n",
    "\n",
    "def forecast_bias(actual_series, forecast_series):\n",
    "    \"\"\"\n",
    "    fc_bias given by ((actual-forecast)/actual)*100\n",
    "    \"\"\"\n",
    "    forecast_bias_series = (actual_series.sub(forecast_series)).div(actual_series)*100\n",
    "    return forecast_bias_series\n",
    "\n",
    "def rmse(actual_series, forecast_series):\n",
    "    return np.sqrt(((actual_series.sub(forecast_series)) ** 2).mean())\n",
    "\n"
   ]
  },
  {
   "cell_type": "code",
   "execution_count": 39,
   "metadata": {},
   "outputs": [
    {
     "data": {
      "text/plain": [
       "timestamp\n",
       "2016-04-01          NaN\n",
       "2016-04-02    62.969659\n",
       "2016-04-03    28.900020\n",
       "2016-04-04    21.849223\n",
       "2016-04-05    19.727502\n",
       "2016-04-06    26.781655\n",
       "2016-04-07    66.352195\n",
       "dtype: float64"
      ]
     },
     "execution_count": 39,
     "metadata": {},
     "output_type": "execute_result"
    }
   ],
   "source": [
    "bias_generator(this_pred.loc['data',datetime(2016,4,1):datetime(2016,4,7), :], 'p1')"
   ]
  },
  {
   "cell_type": "code",
   "execution_count": null,
   "metadata": {
    "collapsed": true
   },
   "outputs": [],
   "source": []
  },
  {
   "cell_type": "code",
   "execution_count": null,
   "metadata": {
    "collapsed": true
   },
   "outputs": [],
   "source": []
  },
  {
   "cell_type": "code",
   "execution_count": 40,
   "metadata": {},
   "outputs": [
    {
     "data": {
      "text/plain": [
       "array([ 134.        ,  221.        ,  167.        ,  415.        ,\n",
       "        423.        ,  320.        ,  392.        ,  325.        ,\n",
       "        207.        ,  153.        ,  414.        ,  351.        ,\n",
       "        429.        ,  326.        ,  304.        ,  223.        ,\n",
       "        157.        ,  335.        ,  382.        ,  385.        ,\n",
       "        390.        ,  325.        ,  210.        ,  152.        ,\n",
       "        404.        ,  425.        ,  436.        ,  350.        ,\n",
       "        350.        ,  225.        ,  176.        ,  483.        ,\n",
       "        421.        ,  437.        ,  394.        ,  337.        ,\n",
       "        236.        ,  164.        ,  385.        ,  396.        ,\n",
       "        414.        ,  358.        ,  291.        ,  206.        ,\n",
       "        124.        ,  314.        ,  411.        ,  379.        ,\n",
       "        418.        ,  293.        ,  200.        ,  163.        ,\n",
       "        412.        ,  375.        ,  381.        ,  376.        ,\n",
       "        335.29602198,  243.        ,  184.        ,  416.        ,\n",
       "        435.        ,  385.        ,  342.        ,  321.        ,\n",
       "        266.        ,  226.        ,  533.        ,  480.        ,\n",
       "        462.        ,  418.        ,  385.        ,  271.        ,\n",
       "        149.        ,  424.        ,  405.        ,  439.        ,\n",
       "        379.        ,  385.        ,  287.        ,  186.        ,\n",
       "        497.        ,  457.        ,  408.        ,  371.        ,\n",
       "        196.5306487 ,   36.44520173,  122.        ,  460.        ,\n",
       "        464.        ,  411.        ,  387.        ,  383.        ,\n",
       "        247.        ,  209.        ,  482.        ,  461.        ,\n",
       "        448.        ,  750.        ,  530.        ,  290.        ,\n",
       "        242.        ,  557.        ,  459.        ,  401.        ,\n",
       "        496.        ,  619.        ,  315.        ,  224.        ,\n",
       "        537.        ,  533.        ,  445.        ,  431.        ,\n",
       "        332.        ,  235.        ,  170.        ,  428.        ,\n",
       "        455.        ,  357.        ,  383.        ,  355.        ,\n",
       "        213.        ,  135.        ,  487.        ,  504.        ,\n",
       "        396.        ,  363.        ,  343.        ,  229.        ,\n",
       "        173.        ,  458.        ,  377.        ,  387.        ,\n",
       "        369.        ,  321.        ,  209.        ,  166.        ,\n",
       "        423.        ,  397.        ,  392.        ,  339.        ,\n",
       "        308.        ,  225.        ,  175.        ,  425.        ,\n",
       "        443.        ,  355.        ,  369.        ,  322.        ,\n",
       "        200.        ,  128.        ,  193.        ,  497.        ,\n",
       "        477.        ,  416.        ,  377.        ,  228.        ,\n",
       "        165.        ,  407.        ,  406.        ,  394.        ,\n",
       "        380.        ,  330.        ,  188.        ,  203.        ,\n",
       "        401.        ,  411.        ,  373.        ,  366.        ,\n",
       "        329.        ,  217.        ,  165.        ,  256.        ,\n",
       "        347.        ,  366.        ,  330.        ,  258.        ,\n",
       "        197.        ,  158.        ,  350.        ,  340.        ,\n",
       "        308.        ,  356.        ,  259.        ,  194.        ,\n",
       "        160.        ,  157.        ,  311.        ,  335.        ,\n",
       "        376.        ,  329.        ,  194.        ,  155.        ,\n",
       "        324.        ,  354.        ,  309.        ,  302.        ,\n",
       "        328.        ,  203.        ,  181.        ,  339.        ,\n",
       "        353.        ,  324.        ,  303.        ,  258.        ,\n",
       "        214.        ,  160.        ,  330.        ,  447.        ,\n",
       "        389.        ,  340.        ,  296.        ,  199.        ,\n",
       "        195.        ,  334.        ,  418.        ,  423.        ,\n",
       "        382.        ,  368.        ,  205.        ,  153.        ,\n",
       "        360.        ,  448.        ,  372.        ,  371.        ,\n",
       "        320.        ,  215.        ,  169.        ,  368.        ,\n",
       "        404.        ,  374.        ,  347.        ,  294.        ,\n",
       "        217.        ,  160.        ,  365.        ,  446.        ,\n",
       "        400.        ,  342.        ,  365.        ,  239.        ,\n",
       "        154.        ,  410.        ,  428.        ,  437.        ,\n",
       "        396.        ,  354.        ,  202.        ,  162.        ,\n",
       "        191.        ,  424.        ,  430.        ,  397.        ,\n",
       "        384.        ,  233.        ,  176.        ,  410.        ,\n",
       "        421.        ,  382.        ,  363.        ,  334.        ,\n",
       "        210.        ,  152.        ,  398.        ,  383.        ,\n",
       "        338.        ,  404.        ,  318.        ,  202.        ,\n",
       "        156.        ,  440.        ,  406.        ,  389.        ,\n",
       "        370.        ,  338.        ,  225.        ,  183.        ,\n",
       "        432.        ,  411.        ,  359.        ,  346.        ,\n",
       "        277.        ,  188.        ,  153.        ,  324.        ,\n",
       "        356.        ,  406.        ,  407.        ,  343.        ,\n",
       "        202.        ,  199.        ,  491.        ,  436.        ,\n",
       "        394.        ,  406.        ,  375.        ,  252.        ,\n",
       "        186.        ,  503.        ,  488.        ,  396.        ,\n",
       "        379.        ,  356.        ,  284.        ,  195.        ,  410.        ])"
      ]
     },
     "execution_count": 40,
     "metadata": {},
     "output_type": "execute_result"
    }
   ],
   "source": [
    "this_pred.loc[\"data\",:, 'this_data'].values\n"
   ]
  },
  {
   "cell_type": "code",
   "execution_count": null,
   "metadata": {
    "collapsed": true
   },
   "outputs": [],
   "source": []
  },
  {
   "cell_type": "code",
   "execution_count": 41,
   "metadata": {
    "collapsed": true
   },
   "outputs": [],
   "source": [
    "def pickles_puller(source_id):\n",
    "    \"\"\"\n",
    "    given the source_id int, this loads and returns the \n",
    "    prediction and provenance results stored on the fs in\n",
    "    the hard-coded path, also hardcoded are the batch params:\n",
    "    (t_60_f_14).\n",
    "    \n",
    "    needs alerts_df.columns for mapping...global scope for now.\n",
    "    \"\"\"\n",
    "    try:\n",
    "        this_prediction_panel = read_pickle(prediction_path + alerts_df.columns[source_id] + '_t_60_f_14_forecast.pickle')\n",
    "        this_provenance_panel = read_pickle(prediction_path + alerts_df.columns[source_id] + '_t_60_f_14_provenance.pickle')\n",
    "    except IOError as ioe:\n",
    "        print('\"' + alerts_df.columns[source_id] + '\" not found.')\n",
    "        return Panel(data=None), Panel(data=None)\n",
    "    \n",
    "    return this_prediction_panel, this_provenance_panel"
   ]
  },
  {
   "cell_type": "code",
   "execution_count": 42,
   "metadata": {},
   "outputs": [
    {
     "ename": "NameError",
     "evalue": "name 'prediction_path' is not defined",
     "output_type": "error",
     "traceback": [
      "\u001b[0;31m---------------------------------------------------------------------------\u001b[0m",
      "\u001b[0;31mNameError\u001b[0m                                 Traceback (most recent call last)",
      "\u001b[0;32m<ipython-input-42-dbce241e6fa3>\u001b[0m in \u001b[0;36m<module>\u001b[0;34m()\u001b[0m\n\u001b[0;32m----> 1\u001b[0;31m \u001b[0mthis_pred\u001b[0m\u001b[0;34m,\u001b[0m \u001b[0mthis_prov\u001b[0m \u001b[0;34m=\u001b[0m \u001b[0mpickles_puller\u001b[0m\u001b[0;34m(\u001b[0m\u001b[0;36m0\u001b[0m\u001b[0;34m)\u001b[0m\u001b[0;34m\u001b[0m\u001b[0m\n\u001b[0m",
      "\u001b[0;32m<ipython-input-41-34416ef887bf>\u001b[0m in \u001b[0;36mpickles_puller\u001b[0;34m(source_id)\u001b[0m\n\u001b[1;32m      9\u001b[0m     \"\"\"\n\u001b[1;32m     10\u001b[0m     \u001b[0;32mtry\u001b[0m\u001b[0;34m:\u001b[0m\u001b[0;34m\u001b[0m\u001b[0m\n\u001b[0;32m---> 11\u001b[0;31m         \u001b[0mthis_prediction_panel\u001b[0m \u001b[0;34m=\u001b[0m \u001b[0mread_pickle\u001b[0m\u001b[0;34m(\u001b[0m\u001b[0mprediction_path\u001b[0m \u001b[0;34m+\u001b[0m \u001b[0malerts_df\u001b[0m\u001b[0;34m.\u001b[0m\u001b[0mcolumns\u001b[0m\u001b[0;34m[\u001b[0m\u001b[0msource_id\u001b[0m\u001b[0;34m]\u001b[0m \u001b[0;34m+\u001b[0m \u001b[0;34m'_t_60_f_14_forecast.pickle'\u001b[0m\u001b[0;34m)\u001b[0m\u001b[0;34m\u001b[0m\u001b[0m\n\u001b[0m\u001b[1;32m     12\u001b[0m         \u001b[0mthis_provenance_panel\u001b[0m \u001b[0;34m=\u001b[0m \u001b[0mread_pickle\u001b[0m\u001b[0;34m(\u001b[0m\u001b[0mprediction_path\u001b[0m \u001b[0;34m+\u001b[0m \u001b[0malerts_df\u001b[0m\u001b[0;34m.\u001b[0m\u001b[0mcolumns\u001b[0m\u001b[0;34m[\u001b[0m\u001b[0msource_id\u001b[0m\u001b[0;34m]\u001b[0m \u001b[0;34m+\u001b[0m \u001b[0;34m'_t_60_f_14_provenance.pickle'\u001b[0m\u001b[0;34m)\u001b[0m\u001b[0;34m\u001b[0m\u001b[0m\n\u001b[1;32m     13\u001b[0m     \u001b[0;32mexcept\u001b[0m \u001b[0mIOError\u001b[0m \u001b[0;32mas\u001b[0m \u001b[0mioe\u001b[0m\u001b[0;34m:\u001b[0m\u001b[0;34m\u001b[0m\u001b[0m\n",
      "\u001b[0;31mNameError\u001b[0m: name 'prediction_path' is not defined"
     ]
    }
   ],
   "source": [
    "this_pred, this_prov = pickles_puller(0)\n"
   ]
  },
  {
   "cell_type": "code",
   "execution_count": null,
   "metadata": {
    "collapsed": true
   },
   "outputs": [],
   "source": [
    "this_pred.loc[\"data\", :, :].head(55)"
   ]
  },
  {
   "cell_type": "code",
   "execution_count": null,
   "metadata": {
    "collapsed": true
   },
   "outputs": [],
   "source": [
    "this_pred.loc[\"data\", :, \"this_data\"].plot(figsize=(35,5))\n",
    "this_pred.loc[\"data\", :, \"p14\"].shift(14).plot(figsize=(35,5))\n",
    "grid()"
   ]
  },
  {
   "cell_type": "code",
   "execution_count": null,
   "metadata": {
    "collapsed": true
   },
   "outputs": [],
   "source": [
    "this_pred.loc[\"data\", :, \"this_data\"].plot(figsize=(35,5))\n",
    "#this_pred.ix[\"data\", :, \"p14\"].shift(14).plot(figsize=(35,5))"
   ]
  },
  {
   "cell_type": "code",
   "execution_count": null,
   "metadata": {
    "collapsed": true
   },
   "outputs": [],
   "source": []
  },
  {
   "cell_type": "code",
   "execution_count": null,
   "metadata": {
    "collapsed": true
   },
   "outputs": [],
   "source": [
    "# for my work, i was pulling them simultaneously:\n",
    "\n",
    "this_pred, this_prov = pickles_puller('0')"
   ]
  },
  {
   "cell_type": "code",
   "execution_count": null,
   "metadata": {
    "collapsed": true
   },
   "outputs": [],
   "source": [
    "this_prov[0]"
   ]
  },
  {
   "cell_type": "code",
   "execution_count": null,
   "metadata": {
    "collapsed": true
   },
   "outputs": [],
   "source": [
    "for this_index in this_provenance_results_df.index[111:112]:\n",
    "    print(this_index)\n",
    "    print(this_prov.loc[:, this_index, 'h_exp_input_data'])#.abs().idxmin()\n",
    "    print('\\n')\n",
    "    print(this_provenance_results_df.loc[this_index]['input_source'])"
   ]
  },
  {
   "cell_type": "code",
   "execution_count": null,
   "metadata": {
    "collapsed": true
   },
   "outputs": [],
   "source": [
    "(this_prov.loc[:, this_index, 'h_exp_input_data']<0) & (this_prov.ix[:, this_index, 'h_exp_input_data'])#.abs().idxmin()) #.abs().sort_values()"
   ]
  },
  {
   "cell_type": "code",
   "execution_count": null,
   "metadata": {
    "collapsed": true
   },
   "outputs": [],
   "source": [
    "#...continue this toward an adf_score...something to compare the winning forecast to the rest...see how selective it is.:\n",
    "    \n",
    
  },
  {
   "cell_type": "code",
   "execution_count": null,
   "metadata": {
    "collapsed": true
   },
   "outputs": [],
   "source": []
  },
  {
   "cell_type": "code",
   "execution_count": null,
   "metadata": {
    "collapsed": true
   },
   "outputs": [],
   "source": [
    "training_length = 60\n",
    "this_col_int = 1\n",
    "this_index = alerts_df.index[144]\n",
    "this_column_name = alerts_df.columns[this_col_int]\n",
    "\n",
    "this_pred, this_prov = pickles_puller(this_col_int)\n",
    "this_provenance_results_df = read_csv(prediction_path + this_column_name + '_t_' + str(training_length) \\\n",
    "                                          + '_compilation_provenance_diags.csv', index_col = 0, parse_dates=True)\n",
    "\n",
    "winning_source = this_provenance_results_df.loc[this_index]['input_source']\n",
    "\n",
    "\n",
    "print(this_prov.ix[:, this_index, 'n_choice'].dropna())\n",
    "print('\\n best method: ' + str(winning_source))"
   ]
  },
  {
   "cell_type": "markdown",
   "metadata": {},
   "source": [
    "# basic plotting"
   ]
  },
  {
   "cell_type": "code",
   "execution_count": null,
   "metadata": {
    "collapsed": true
   },
   "outputs": [],
   "source": [
    "this_pred.ix[:, this_index, 1:].set_index(future_data.index).plot(figsize=(25,5), grid=True)"
   ]
  },
  {
   "cell_type": "markdown",
   "metadata": {
    "collapsed": true
   },
   "source": [
    "# this is a sample app of the methods with some plotting thrown in."
   ]
  },
  {
   "cell_type": "code",
   "execution_count": null,
   "metadata": {
    "collapsed": true,
    "scrolled": false
   },
   "outputs": [],
   "source": [
    "select_path = '/Users/cclarke/hg_reps/sandbox_clarke/Alerting/predictions/decomposition/selection optimization/figures/'\n",
    "forecast_length=14\n",
    "golden_thimble = [27, 4, 95, 2, 92, 9, 6, 28, 93, 97]\n",
    "this_col_int = 0\n",
    "training_length = 60\n",
    "len_golden_thimble = len(golden_thimble)\n",
    "time_set = alerts_df.index[15:285]\n",
    "len_time_set = len(time_set)\n",
    "\n",
    "winn_sug_holder_df = DataFrame(index=range(len_time_set*len_golden_thimble), columns=['winner', 'sugg_1' , 'sugg_2', 'sugg_3', 'sugg_4', 'sugg_5', 'sugg_6'])\n",
    "fake_int = 0\n",
    "for this_col_int in golden_thimble:\n",
    "    fake_int+=1\n",
    "    #this_index = alerts_df.index[55]\n",
    "    suggested_len_holder = []\n",
    "    for this_index in time_set:\n",
    "        #fake_int+=1\n",
    "        this_pred, this_prov = pickles_puller(this_col_int)\n",
    "        winner, suggested = 
    "        winner_forecast = this_pred.loc[winner, this_index, 1:]\n",
    "        suggested_forecast = this_pred.loc[suggested[0], this_index, 1:]\n",
    "        least_rmse_choice = this_prov.loc[:,this_index,'rms_in_sample_error'].idxmin()\n",
    "        least_error_forecast = this_pred.loc[least_rmse_choice, this_index, 1:]\n",
    "        future_data_df = alerts_df[alerts_df.columns[this_col_int]].loc[this_index:this_index+relativedelta(days=+forecast_length)]\n",
    "        past_data_df = alerts_df[alerts_df.columns[this_col_int]].loc[this_index+relativedelta(days=-7):this_index]\n",
    "        winner_forecast_df = DataFrame(winner_forecast).set_index(future_data_df.index)\n",
    "        suggested_forecast_df = DataFrame(suggested_forecast).set_index(future_data_df.index)\n",
    "        least_error_forecast_df = DataFrame(least_error_forecast).set_index(future_data_df.index)\n",
    "        \n",
    "        #print(DataFrame(winner_forecast).set_index(future_data.index))\n",
    "        #winn_sug_holder_df.iloc[fake_int] = pad_stack(winner, suggested, 7)\n",
    "\n",
    "        f=figure(figsize=(25,5))\n",
    "        ax0=f.add_subplot(111)\n",
    "        winner_forecast_df.columns=['best forecast (' + winner + ')']\n",
    "        suggested_forecast_df.columns=['suggested forecast (' + suggested[0] +')']\n",
    "        future_data_df.columns=['future data']\n",
    "        least_error_forecast_df.columns=['least error (' + least_rmse_choice + ')']\n",
    "        \n",
    "        future_data_df.plot(figsize=(20,7), ax=ax0, label='future data', lw=4, alpha=0.5, c='k', ls='--')\n",
    "        winner_forecast_df.plot(ax=ax0, label= 'best forecast', lw=4, alpha=0.5, c='g')\n",
    "        suggested_forecast_df.plot(lw=4, alpha=0.5, ax=ax0, c='orange')\n",
    "        least_error_forecast_df.plot(lw=6, alpha=0.35, ax=ax0, c='r')\n",
    "        past_data_df.plot(lw=4, alpha=0.5, c='k', ls='--')\n",
    "        grid()\n",
    "        title('Forecast selection comparisons: \\n' + alerts_df.columns[this_col_int] , fontsize=20)\n",
    "        legend(loc='best')\n",
    "        #len_series = Series(suggested_len_holder).dropna()    \n",
    "        #hist(len_series)  \n",
    "        #clean_win_df = winn_sug_holder_df[notnull(winn_sug_holder_df['winner'])] #.dropna()\n",
    "        #clean_win_df\n",
    "        plt.tight_layout()\n",
    "        #f.savefig(select_path + 'forecast_selection_comp_' + alerts_df.columns[this_col_int] + '_' + str(this_index)[:10] + '.png')\n",
    "        pylab.close(f)\n",
    "        clf()\n",
    "        cla()\n",
    "        close('all')"
   ]
  },
  {
   "cell_type": "code",
   "execution_count": null,
   "metadata": {
    "collapsed": true
   },
   "outputs": [],
   "source": []
  },
  {
   "cell_type": "code",
   "execution_count": null,
   "metadata": {
    "collapsed": true
   },
   "outputs": [],
   "source": [
    "clean_win_df.groupby('winner').describe()"
   ]
  },
  {
   "cell_type": "markdown",
   "metadata": {},
   "source": [
    "# this iterates through the full subset and returns the counts of the winners, losers and global odds of selecting a winner.\n",
    "\n",
    "# how many times does this recommend NO method?  that's a job for testing.\n"
   ]
  },
  {
   "cell_type": "code",
   "execution_count": null,
   "metadata": {
    "collapsed": true
   },
   "outputs": [],
   "source": [
    "golden_thimble = [27, 4, 95, 2, 92, 9, 6, 28, 93, 97]\n",
    "training_length = 60\n",
    "print('start: ' + str(datetime.now().strftime('%b %d, %Y: %H:%M')))\n",
    "\n",
    "this_source_id_holder_df = DataFrame(index=range(105), columns=['winners','losers', 'overall_win_odds'])\n",
    "for this_col_int in golden_thimble:#range(105): #brass_bucket:#golden_bucket:#range(105):\n",
    "    try:\n",
    "        win_count=lose_count=0\n",
    "        set_odds_holder = []\n",
    "        for this_index in  alerts_df.index[37:67]:\n"
    "            if notnull(winner):\n",
    "                set_len = len(selected)\n",
    "                if winner in selected:\n",
    "                    win_count +=1\n",
    "                    #print('DING')\n",
    "                    these_odds = 1/set_len\n",
    "                else:\n",
    "                    #print('DONG')\n",
    "                    lose_count+=1\n",
    "                    these_odds = 0\n",
    "                if len(selected) ==0:\n",
    "                    print('fired a blank!')\n",
    "            set_odds_holder.append(these_odds)\n",
    "        this_source_id_df = DataFrame(index=[this_col_int],data=[[win_count, lose_count, mean(set_odds_holder)]], columns=['winners','losers', 'overall_win_odds']) \n",
    "        this_source_id_holder_df.loc[this_col_int] = this_source_id_df.values\n",
    "    except Exception as wtfe:\n",
    "        print(wtfe)\n",
    "        pass\n",
    "str('end: ' + str(datetime.now()))#.strftime('%b %d, %Y: %H:%M'))    "
   ]
  },
  {
   "cell_type": "code",
   "execution_count": null,
   "metadata": {
    "collapsed": true
   },
   "outputs": [],
   "source": [
    "len(alerts_df.index[37:65])\n",
    "[1,1,2,3,4]*0"
   ]
  },
  {
   "cell_type": "markdown",
   "metadata": {},
   "source": [
    "# this performs the optimization"
   ]
  },
  {
   "cell_type": "code",
   "execution_count": null,
   "metadata": {
    "collapsed": true
   },
   "outputs": [],
   "source": []
  },
  {
   "cell_type": "markdown",
   "metadata": {},
   "source": [
    "## single shot for testing"
   ]
  },
  {
   "cell_type": "code",
   "execution_count": null,
   "metadata": {
    "collapsed": true
   },
   "outputs": [],
   "source": [
    "adf_var = rmse_var = swp_var = slip_var = he_var = bias_var = 1\n",
   
  },
  {
   "cell_type": "code",
   "execution_count": null,
   "metadata": {
    "collapsed": true
   },
   "outputs": [],
   "source": [
    "select_path"
   ]
  },
  {
   "cell_type": "code",
   "execution_count": null,
   "metadata": {
    "collapsed": true
   },
   "outputs": [],
   "source": [
    "def joblib_loop():\n",
    "    \"\"\"\n",
    "    defines parallel job over the highest-level iterator.  \n",
    "    beneath this level, all others are stepped through\n",
    "    --handled by Parallel function by mapping.\n",
    "    \"\"\"\n",
    "    sequence = list(range(0,5)) # usually (50,105)\n",
    "    # 5 is the limit here\n",
    "    Parallel(n_jobs=5)(delayed(parallel_sweep)(i) for i in sequence) "
   ]
  },
  {
   "cell_type": "markdown",
   "metadata": {},
   "source": [
    "# call it"
   ]
  },
  {
   "cell_type": "code",
   "execution_count": null,
   "metadata": {
    "collapsed": true
   },
   "outputs": [],
   "source": [
    "joblib_loop()"
   ]
  },
  {
   "cell_type": "code",
   "execution_count": null,
   "metadata": {
    "collapsed": true
   },
   "outputs": [],
   "source": [
    "figure(figsize=(25,5))\n",
    "plot(sort(global_holder_df['mean_overall_win_odds']), lw=4, alpha=0.5, label='mean success odds')\n",
    "plot(sort(global_holder_df['std_overall_win_odds']), lw=4, alpha=0.5, label='std() of success odds')\n",
    "\n",
    "plot(sort(global_holder_df['max_overall_win_odds']), lw=4, alpha=0.5, label='max() of success odds of combination')\n",
    "\n",
    "grid()\n",
    "legend(loc='best')\n",
    "title('independently sorted results from brute force optimization \\n golden thimble set (more selective promoters)', fontsize=20)"
   ]
  },
  {
   "cell_type": "code",
   "execution_count": null,
   "metadata": {
    "collapsed": true
   },
   "outputs": [],
   "source": [
    "clean_outcomes_df"
   ]
  },
  {
   "cell_type": "code",
   "execution_count": null,
   "metadata": {
    "collapsed": true
   },
   "outputs": [],
   "source": [
    "this_loc_str = global_holder_df['max_overall_win_odds'].idxmax()\n",
    "adf_var = this_loc_str[0]\n",
    "rmse_var = this_loc_str[2]\n",
    "swp_var = this_loc_str[4]\n",
    "slip_var = this_loc_str[6]\n",
    "he_var = this_loc_str[8]\n",
    "bias_var = this_loc_str[10]\n",
    "\n",
    "this_input_str = 'adf_' + str(adf_var) + '_rmse_' + str(rmse_var) + '_swp_' + str(swp_var) + '_slip_' + str(slip_var) + '_he_' + str(he_var) + '_bias_' + str(bias_var)\n",
    "\n",
    "this_source_id_holder_df = read_csv(select_path + 'selection_golden_thimble_' + this_input_str + '.csv', index_col = 0)\n",
    "clean_outcomes_df = this_source_id_holder_df.dropna().copy()\n",
    "clean_outcomes_df['win_ratio'] = clean_outcomes_df['winners'].div(clean_outcomes_df['losers'].add(clean_outcomes_df['winners']))\n",
    "#clean_outcomes_df['win_ratio'].plot()\n",
    "clean_outcomes_df\n",
    "figure(figsize=(10,6))\n",
    "plot(clean_outcomes_df.sort_values(by='overall_win_odds')['overall_win_odds'].values, lw=4, alpha=0.5, c='r')\n",
    "title('Overall odds of picking optimal forecast method \\n Golden Thimble ensemble', fontsize=18) #  \\n Golden Bucket ensemble\n",
    "grid()\n",
    "#ylim(0,.5)"
   ]
  },
  {
   "cell_type": "code",
   "execution_count": null,
   "metadata": {
    "collapsed": true
   },
   "outputs": [],
   "source": []
  },
  {
   "cell_type": "code",
   "execution_count": null,
   "metadata": {
    "collapsed": true
   },
   "outputs": [],
   "source": [
    "this_pred, this_prov = pickles_puller(this_col_int)\n",
    "this_prov.loc['cycle_series', this_index, :]\n",
    "#this_prov.ix[:, this_index, 'sw_p_input_data']\n"
   ]
  },
  {
   "cell_type": "code",
   "execution_count": null,
   "metadata": {
    "collapsed": true
   },
   "outputs": [],
   "source": [
    "singles_list = []\n",
    "iterable_list_of_singletons = gb_stats_df[gb_stats_df['suggestions_len']==1]['winning_method']\n",
    "for diz_source in iterable_list_of_singletons:\n",
    "    singles_list.append(diz_source[0])\n",
    "    \n",
    "\n",
    "DataFrame.from_dict(Counter(singles_list), orient='index').plot(kind='pie', subplots=True, figsize=(6,6),legend=False, fontsize=18)\n",
    "ylabel('')\n",
    "title('Golden Thimble Ensemble \\n Composition of \"chosen one\" category', fontsize=20)"
   ]
  },
  {
   "cell_type": "code",
   "execution_count": null,
   "metadata": {
    "collapsed": true
   },
   "outputs": [],
   "source": [
    "singles_list = []\n",
    "iterable_list_of_singletons = gb_stats_df['winning_method']\n",
    "#for diz_source in iterable_list_of_singletons:\n",
    "#    singles_list.append(diz_source)\n",
    "    \n",
    "\n",
    "DataFrame.from_dict(Counter(gb_stats_df['best_method']), orient='index').plot(kind='pie', subplots=True, figsize=(6,6),legend=False, fontsize=18)\n",
    "ylabel('')\n",
    "title('Golden Thimble Ensemble \\n Composition of best method category', fontsize=20)"
   ]
  },
  {
   "cell_type": "code",
   "execution_count": null,
   "metadata": {
    "collapsed": true
   },
   "outputs": [],
   "source": [
    "from collections import Counter"
   ]
  },
  {
   "cell_type": "code",
   "execution_count": null,
   "metadata": {
    "collapsed": true
   },
   "outputs": [],
   "source": []
  },
  {
   "cell_type": "code",
   "execution_count": null,
   "metadata": {
    "collapsed": true
   },
   "outputs": [],
   "source": [
    "loser_len = len(combo_win_lose_df['losers'].dropna())\n",
    "winner_len = len(combo_win_lose_df['winners'].dropna())\n",
    "total_len = loser_len + winner_len\n",
    "winner_pct = winner_len/total_len\n",
    "loser_pct = loser_len/total_len\n",
    "\n",
    "\n",
    "f=figure(figsize=(20,10))\n",
    "\n",
    "ax0=f.add_subplot(121)\n",
    "\n",
    "DataFrame.from_dict(Counter(combo_win_lose_df['winners'].dropna()), orient='index').plot(kind='pie', subplots=True, figsize=(6,6),legend=False, fontsize=18, ax=ax0)\n",
    "#title('winners', fontsize=20)\n",
    "ylabel('')\n",
    "xlabel('Success (' + str(round(winner_pct*100,2)) + '%)', fontsize=20)\n",
    "ax1=f.add_subplot(122)\n",
    "\n",
    "DataFrame.from_dict(Counter(combo_win_lose_df['losers'].dropna()), orient='index').plot(kind='pie', subplots=True, figsize=(6,6),legend=False, fontsize=18, ax=ax1)\n",
    "xlabel('Failure (' + str(round(loser_pct*100,2)) + '%)', fontsize=20)\n",
    "ylabel('')\n",
    "plt.tight_layout()\n",
    "f.suptitle('Post Smart Selection Method \\n(# in Surviving Set)', fontsize=20)"
   ]
  },
  {
   "cell_type": "code",
   "execution_count": null,
   "metadata": {
    "collapsed": true
   },
   "outputs": [],
   "source": [
    "# example of function to filter the data...might not be considered cheating to NOT always supply 6 models...right?\n",
    "\n",
    "def adf_underoos_df(provenance_panel, this_item):\n",
    "    \"\"\"\n",
    "    for a given panel and input source (this_item) this version does eval\n",
    "    across all times for given item and indicates the highest confidence \n",
    "    interval breached...along with lower levels.  \n",
    "    behaves well under nans (returns 0s).\n",
    "    \n",
    "    returns a df indexed by timestamp and columned by \n",
    "    [exceeds_1, exceeds_5, exceeds_10]\n",
    "    \"\"\"\n",
    "    this_adf_exceeds_1 =  provenance_panel.loc[this_item,:,'adf_ts_input_data'] < provenance_panel.loc[this_item,:,'adf_1%_input_data']\n",
    "    this_adf_exceeds_5 =  provenance_panel.loc[this_item,:,'adf_ts_input_data'] < provenance_panel.loc[this_item,:,'adf_5%_input_data']  \n",
    "    this_adf_exceeds_10 = provenance_panel.loc[this_item,:,'adf_ts_input_data'] < provenance_panel.loc[this_item,:,'adf_10%_input_data'] \n",
    "\n",
    "    # assemble.  must type at the end to get it to stick after joining\n",
    "    final_exceeds_df = DataFrame(this_adf_exceeds_1, columns=['exceeds_1']).\\\n",
    "                         join(DataFrame(this_adf_exceeds_5, columns=['exceeds_5']).\\\n",
    "                         join(DataFrame(this_adf_exceeds_10, columns=['exceeds_10']))).astype(int)\n",
    "    \n",
    "    return final_exceeds_df"
   ]
  },
  {
   "cell_type": "code",
   "execution_count": null,
   "metadata": {
    "collapsed": true
   },
   "outputs": [],
   "source": [
    "# which h_exp_input_data is closest to zero??? must get from full prov pickle...\n",
    "\n",
    "this_h_choice = this_prov.loc[:, this_index, 'h_exp_input_data'].abs().idxmin()\n",
    "sum(h_choice_holder)/(305-14)\n",
    "\n",
    "h_choices_df = DataFrame(index = this_provenance_results_df.index, data = h_choice_holder, columns=['best_hurst'])\n",
    "h_choices_df.iloc[49]\n",
    "this_provenance_results_df.iloc[49]"
   ]
  },
  {
   "cell_type": "markdown",
   "metadata": {
    "collapsed": true
   },
   "source": [
    "# example methods to determine best prediction (should only be used for historical values!)"
   ]
  },
  {
   "cell_type": "code",
   "execution_count": null,
   "metadata": {
    "collapsed": true
   },
   "outputs": [],
   "source": [
    "def forecast_bias(actual_series, forecast_series):\n",
    "    \"\"\"\n",
    "    fc_bias given by ((actual-forecast)/actual)*100\n",
    "    \"\"\"\n",
    "    forecast_bias_series = (actual_series.sub(forecast_series)).div(actual_series)*100\n",
    "    return forecast_bias_series\n",
    "\n",
    "\n",
    "def mean_weekly_biases_df(this_pred_panel, this_panel_item):\n",
    "    \"\"\"\n",
    "    given this_pred_panel, and item, this returns a df\n",
    "    indexed by prediction panel's major index (timeseries), columned by \n",
    "    ['mean_out_sample_1w_bias','mean_out_sample_2w_bias']\n",
    "    \"\"\"\n",
    "    # start with this slice\n",
    "    this_item_df = this_pred_panel.loc[this_panel_item,:,:]\n",
    "    # identify index to run through, needs gating (14+1 from the back)\n",
    "    this_time_index = this_item_df.index[:-15]\n",
    "    \n",
    "    # need to hold the intermediate values and assign to holder_df:\n",
    "    holder_cols = ['mean_out_sample_1w_bias','mean_out_sample_2w_bias']\n",
    "    per_index_biases_holder_df = DataFrame(index=this_time_index, columns = holder_cols)\n",
    "    \n",
    "    # this needs to loop through the index to assemble the biases as the indices are orthogonal\n",
    "    for this_date in this_time_index:\n",
    "        # reference the index to which we will write\n",
    "        this_spans_tomorrow = this_date + relativedelta(days=1) # convert to ts, universal value\n",
    "        # reset the intermediate mean_out_sample_xw_bias variable df\n",
    "        mean_out_sample_xw_bias = DataFrame(columns=[7,14])\n",
    "        # iterate through the 2 periods for biases (1 week, 2 weeks)\n",
    "        \n",
    "        for this_bias_length in [7,14]: # could float this up, but don't...\n",
    "            column_names = this_item_df.columns[2 : this_bias_length + 2]\n",
    "            #print(str(this_date) + '\\n')\n",
    "            #for this_bias_length in [7, 14]:\n",
    "            this_spans_rd = relativedelta(days=(this_bias_length-1)) # give up to p7|p14\n",
    "            # identify the data we're biasing off of.\n",
    "            this_df_data = this_item_df[this_spans_tomorrow: this_spans_tomorrow + this_spans_rd]['this_data'].values\n",
    "            #this_df_data_T_values = this_df\n",
    "            # plus one to remove today's prediction, but still need the the result indexed by today...\n",
    "            this_days_future_df = DataFrame(index=[this_date], data=[this_df_data], columns=column_names).T \n",
    "            # now with the future determined, let's look up the forecast:\n",
    "            \n",
    "            this_days_forecast_df = DataFrame(this_item_df.loc[this_date][column_names])\n",
    "            this_w_ave_bias = forecast_bias(this_days_future_df, this_days_forecast_df).mean()\n",
    "            this_w_ave_bias_df = DataFrame(data=this_w_ave_bias, columns=[this_bias_length])\n",
    "            \n",
    "            mean_out_sample_xw_bias[this_bias_length] = this_w_ave_bias\n",
    "        #print(mean_out_sample_xw_bias)\n",
    "        mean_out_sample_xw_bias.columns=holder_cols\n",
    "            #this_index_biases_df = mean_out_sample_xw_bias.join(mean_out_sample_2w_bias) \n",
    "        per_index_biases_holder_df.loc[this_date] = mean_out_sample_xw_bias.values#this_index_biases_df.values\n",
    "        \n",
    "    return per_index_biases_holder_df\n",
    " \n",
    "\n",
    "\n",
    "def adf_underoos(provenance_panel, day_int):\n",
    "    \"\"\"\n",
    "    for a given panel and day_int (integer tracking the day of the series), \n",
    "    this indicates the highest confidence interval breached...along with \n",
    "    lower levels.  behaves well under nans (returns 0s).\n",
    "    \n",
    "    returns a df indexed by inut feed, and columned by \n",
    "    [exceeds_1, exceeds_5, exceeds_10]\n",
    "    \"\"\"\n",
    "    this_adf_exceeds_1 =  provenance_panel.ix[:,day_int,'adf_ts_input_data'] < provenance_panel.ix[:,day_int,'adf_1%_input_data']\n",
    "    this_adf_exceeds_5 =  provenance_panel.ix[:,day_int,'adf_ts_input_data'] < provenance_panel.ix[:,day_int,'adf_5%_input_data']  \n",
    "    this_adf_exceeds_10 = provenance_panel.ix[:,day_int,'adf_ts_input_data'] < provenance_panel.ix[:,day_int,'adf_10%_input_data'] \n",
    "\n",
    "    # assemble.  must type at the end to get it to stick after joining\n",
    "    final_exceeds_df = DataFrame(this_adf_exceeds_1, columns=['exceeds_1']).\\\n",
    "                         join(DataFrame(this_adf_exceeds_5, columns=['exceeds_5']).\\\n",
    "                         join(DataFrame(this_adf_exceeds_10, columns=['exceeds_10']))).astype(int)\n",
    "    \n",
    "    return final_exceeds_df\n",
    "        \n",
    "def adf_underoos_df(provenance_panel, this_item):\n",
    "    \"\"\"\n",
    "    for a given panel and input source (this_item) this version does eval\n",
    "    across all times for given item and indicates the highest confidence \n",
    "    interval breached...along with lower levels.  \n",
    "    behaves well under nans (returns 0s).\n",
    "    \n",
    "    returns a df indexed by timestamp and columned by \n",
    "    [exceeds_1, exceeds_5, exceeds_10]\n",
    "    \"\"\"\n",
    "    this_adf_exceeds_1 =  provenance_panel.ix[this_item,:,'adf_ts_input_data'] < provenance_panel.ix[this_item,:,'adf_1%_input_data']\n",
    "    this_adf_exceeds_5 =  provenance_panel.ix[this_item,:,'adf_ts_input_data'] < provenance_panel.ix[this_item,:,'adf_5%_input_data']  \n",
    "    this_adf_exceeds_10 = provenance_panel.ix[this_item,:,'adf_ts_input_data'] < provenance_panel.ix[this_item,:,'adf_10%_input_data'] \n",
    "\n",
    "    # assemble.  must type at the end to get it to stick after joining\n",
    "    final_exceeds_df = DataFrame(this_adf_exceeds_1, columns=['exceeds_1']).\\\n",
    "                         join(DataFrame(this_adf_exceeds_5, columns=['exceeds_5']).\\\n",
    "                         join(DataFrame(this_adf_exceeds_10, columns=['exceeds_10']))).astype(int)\n",
    "    \n",
    "    return final_exceeds_df\n",
    "    \n",
    "    \n",
    "    \n",
    "def hurst_exponent_ranger(provenance_panel, day_int):\n",
    "    \"\"\"\n",
    "    for a given panel and day_int (integer tracking the day of the series), \n",
    "    this indicates the range given by modified hurst exponent calculation, \n",
    "    within he_threshold tolerance.  these bands are mutually-exclusive, \n",
    "    and he->[-1,1].  behaves well under nans (returns 0s).\n",
    "    \n",
    "    returns a df indexed by inut feed, and columned by \n",
    "    [he_<_0, he_~_0, he_>_0]\n",
    "    \"\"\"\n",
    "    he_threshold = 0.05\n",
    "    # comparison to non-df means we must rename resultant df\n",
    "    this_he_under_0 =  DataFrame(provenance_panel.ix[:,day_int,'h_exp_input_data'] <= (0 - he_threshold))\n",
    "    this_he_approx_0 =  DataFrame((provenance_panel.ix[:,day_int,'h_exp_input_data'] > (0 - he_threshold)) & \\\n",
    "                        (provenance_panel.ix[:,day_int,'h_exp_input_data'] < (0 + he_threshold)))  \n",
    "    this_he_over_0 = DataFrame(provenance_panel.ix[:,day_int,'h_exp_input_data'] >= (0 + he_threshold))\n",
    "    \n",
    "    # must rename as comparison isn't with like type\n",
    "    this_he_under_0.columns=['he_<_0']\n",
    "    this_he_approx_0.columns=['he_~_0']\n",
    "    this_he_over_0.columns=['he_>_0']\n",
    "    \n",
    "    # assemble.  must type at the end to get it to stick after joining. \n",
    "    final_range_df = this_he_under_0.append(this_he_approx_0)#.join(this_he_over_0))#.astype(int)\n",
    "    \n",
    "    return (this_he_under_0.join(this_he_approx_0).join(this_he_over_0)).astype(int)\n",
    "       \n",
    "    \n",
    "def hurst_exponent_ranger_df(provenance_panel, this_item):\n",
    "    \"\"\"\n",
    "    for a given panel and input feed (this_item), \n",
    "    this indicates the range given by modified hurst exponent calculation, \n",
    "    within he_threshold tolerance.  these bands are mutually-exclusive, \n",
    "    and he->[-1,1].  behaves well under nans (returns 0s).\n",
    "    \n",
    "    returns a df indexed by timestamp, and columned by \n",
    "    \n",
    "    [he_<_0, he_~_0, he_>_0]\n",
    "    \"\"\"\n",
    "    he_threshold = 0.05\n",
    "    # comparison to non-df means we must rename resultant df\n",
    "    this_he_under_0 =  DataFrame(provenance_panel.ix[this_item,:,'h_exp_input_data'] <= (0 - he_threshold))\n",
    "    this_he_approx_0 =  DataFrame((provenance_panel.ix[this_item,:,'h_exp_input_data'] > (0 - he_threshold)) & \\\n",
    "                        (provenance_panel.ix[this_item,:,'h_exp_input_data'] < (0 + he_threshold)))  \n",
    "    this_he_over_0 = DataFrame(provenance_panel.ix[this_item,:,'h_exp_input_data'] >= (0 + he_threshold))\n",
    "    \n",
    "    # must rename as comparison isn't with like type\n",
    "    this_he_under_0.columns=['he_<_0']\n",
    "    this_he_approx_0.columns=['he_~_0']\n",
    "    this_he_over_0.columns=['he_>_0']\n",
    "    \n",
    "    # assemble.  must type at the end to get it to stick after joining. \n",
    "    final_hurst_df = (this_he_under_0.join(this_he_approx_0).join(this_he_over_0)).astype(int)\n",
    "    \n",
    "    return final_hurst_df\n",
    "     \n",
    "def mean_weekly_errors_df(this_pred_panel, this_panel_item):\n",
    "    \"\"\"\n",
    "    given this_pred_panel, and item, this returns a df\n",
    "    indexed by prediction panel's major index (timeseries), columned by \n",
    "    ['mean_out_sample_1w_bias','mean_out_sample_2w_bias', 'rms_out_sample_1w_error', 'rms_out_sample_2w_error']\n",
    "    \"\"\"\n",
    "    # start with this slice\n",
    "    this_item_df = this_pred_panel.ix[this_panel_item,:,:]\n",
    "    # identify index to run through, needs gating (14+1 from the back)\n",
    "    this_time_index = this_item_df.index[:-15]\n",
    "    \n",
    "    # need to hold the intermediate values and assign to holder_df:\n",
    "    holder_cols = ['mean_out_sample_1w_bias','rms_out_sample_1w_error',\\\n",
    "                   'mean_out_sample_2w_bias','rms_out_sample_2w_error']\n",
    "    \n",
    "    per_index_errors_holder_df = DataFrame(index=this_time_index, columns = holder_cols)\n",
    "    \n",
    "    # this needs to loop through the index to assemble the biases as the indices are orthogonal\n",
    "    # truncated above, so run the span here:\n",
    "    for this_date in this_time_index:\n",
    "        # reference the index to which we will write\n",
    "        this_spans_tomorrow = this_date + relativedelta(days=1) # convert to ts, universal value\n",
    "        # reset the intermediate mean_out_sample_xw_bias variable df\n",
    "        mean_out_sample_xw_bias = DataFrame(columns=['7_fb', '7_rmse', '14_fb' ,'14_rmse'])\n",
    "        # iterate through the 2 periods for biases (1 week, 2 weeks)\n",
    "        \n",
    "        for this_bias_length in [7,14]: # could float this up, but don't...\n",
    "            # line up column names to make series math simple and reliable.\n",
    "            column_names = this_item_df.columns[2 : this_bias_length + 2]\n",
    "            \n",
    "            #print(str(this_date) + '\\n')\n",
    "            #for this_bias_length in [7, 14]:\n",
    "            this_spans_rd = relativedelta(days=(this_bias_length-1)) # give up to p7|p14\n",
    "            # identify the data we're biasing off of.\n",
    "            this_df_data = this_item_df[this_spans_tomorrow: this_spans_tomorrow + this_spans_rd]['this_data'].values\n",
    "            #this_df_data_T_values = this_df\n",
    "            \n",
    "            # plus one to remove today's prediction, but still need the the result indexed by today...\n",
    "            this_days_future_df = DataFrame(index=[this_date], data=[this_df_data], columns=column_names).T \n",
    "            # now with the future determined, let's look up the forecast:\n",
    "            \n",
    "            this_days_forecast_df = DataFrame(this_item_df.loc[this_date][column_names])\n",
    "            \n",
    "            this_w_ave_bias = forecast_bias(this_days_future_df, this_days_forecast_df).mean()\n",
    "            this_w_ave_bias_df = DataFrame(data=this_w_ave_bias, columns=[str(this_bias_length) + '_fb'])\n",
    "            this_w_rmse = rmse(this_days_future_df, this_days_forecast_df)\n",
    "            this_w_rmse_df = DataFrame(data=this_w_rmse, columns=[str(this_bias_length) + '_rmse'])\n",
    "            this_w_combo = this_w_ave_bias_df.join(this_w_rmse_df)\n",
    "            \n",
    "            # iterate here to slot these in: (inherits index...)\n",
    "            mean_out_sample_xw_bias[[str(this_bias_length) + '_fb', str(this_bias_length) + '_rmse']] = \\\n",
    "                        this_w_combo[[str(this_bias_length) + '_fb', str(this_bias_length) + '_rmse']]#[[this_w_ave_bias], [this_w_rmse]]\n",
    " \n",
    "        per_index_errors_holder_df.loc[this_date] = mean_out_sample_xw_bias.values#.loc[this_date]#[mean_out_sample_xw_bias.values]#this_index_biases_df.values\n",
    "       \n",
    "    return per_index_errors_holder_df\n",
    "    \n",
    "    \n"
   ]
  },
  {
   "cell_type": "markdown",
   "metadata": {},
   "source": [
    "# functionalizing the processing script that takes the best forecasts and strings them together for all source_ids"
   ]
  },
  {
   "cell_type": "code",
   "execution_count": null,
   "metadata": {
    "collapsed": true
   },
   "outputs": [],
   "source": [
    "\n",
    "\n",
    "def create_bcs_forecasts(source_id_list, pickle_path, this_error_metric='rms_out_sample_1w_error', this_forecast_length=7):\n",
    "    \"\"\"\n",
    "    used to select best forecasts and string them\n",
    "    together to create new benchmark.  does for either forecast_bias or rmse.\n",
    "    uses an 'on the fly' error comparer--not relying on preprocessed files.  \n",
    "    source_id_header = range(105) # these will be the names of the items in the panel\n",
    "    \n",
    "    this_error_metric -> {'rms_out_sample_1w_error', 'mean_out_sample_1w_bias'}\n",
    "    this_forecast_length -> period for which error is being measured, [3, 7,14, etc.]\n",
    "    pickle_path: read and write to this path.\n",
    "    \n",
    "    alerts_df, prediction_path,  needed as globals.\n",
    "    \n",
    "    \"\"\"\n",
    "    \n",
    "    # helpers\n",
    "    def future_forecast_df_col_builder_plus_source(forecast_length):\n",
    "        \"\"\"\n",
    "        with a given integer forecast_length, this returns a \n",
    "        familiar index to use to label columns.\n",
    "        \"\"\"\n",
    "        f_list=['this_data']\n",
    "        for fl in range(0,forecast_length+1):\n",
    "            f_list.append('p'+str(fl))\n",
    "        #f_list.append('source')\n",
    "        return f_list\n",
    "\n",
    "    def rmse(actual_series, forecast_series):\n",
    "        \"\"\"\n",
    "        given the actual and forecast series, this returns the rmse.\n",
    "\n",
    "        \"\"\"\n",
    "        return np.sqrt(((actual_series.sub(forecast_series)) ** 2).mean())\n",
    "\n",
    "    \n",
    "    def pickles_puller(source_id):\n",
    "        \"\"\"\n",
    "        given the source_id int, this loads and returns the \n",
    "        prediction and provenance results stored on the fs in\n",
    "        the hard-coded path, also hardcoded are the batch params:\n",
    "        (t_60_f_14).\n",
    "\n",
    "        needs alerts_df.columns for mapping...global scope for now.\n",
    "        \"\"\"\n",
    "        try:\n",
    "            this_prediction_panel = read_pickle(prediction_path + alerts_df.columns[source_id] + '_t_60_f_14_forecast.pickle')\n",
    "            this_provenance_panel = read_pickle(prediction_path + alerts_df.columns[source_id] + '_t_60_f_14_provenance.pickle')\n",
    "        except IOError as ioe:\n",
    "            print('\"' + alerts_df.columns[source_id] + '\" not found.')\n",
    "            return Panel(data=None), Panel(data=None)\n",
    "\n",
    "        return this_prediction_panel, this_provenance_panel\n",
    "\n",
    "    \n",
    "    print('starting run: ' + '\\n\\t processing ' + str(len(source_id_list)) + ' feeds for ' + \\\n",
    "          str(len(alerts_df.dropna(axis=1).index)-(this_forecast_length+1)) + ' days each.')\n",
    "    \n",
    "    run_list = source_id_list #list(range(105))\n",
    "    \n",
    "    forecast_output_panel = Panel(data=None, items=run_list, major_axis=alerts_df.index, \\\n",
    "                                  minor_axis=future_forecast_df_col_builder_plus_source(this_forecast_length))\n",
    "\n",
    "    best_source_panel = Panel(data=None, items=run_list, major_axis=alerts_df.index, \\\n",
    "                                  minor_axis=['best forecast source'])\n",
    "    \n",
    "    \n",
    "    for this_col_int in run_list: # run_list has redacted record \n",
    "        try:\n",
    "\n",
    "            # TODO: add error handling here\n",
    "\n",
    "            # build the df to hold the results of the best prediction...\n",
    "\n",
    "            # this structure reads the pre-computed file, add a few options for later into this holder... \n",
    "            # this_source_id_winner_holder_df = DataFrame(index=alerts_df.index, columns = ['in_bias_winner', 'in_rmse_winner', 'out_bias_winner', 'out_rmse_winner'])\n",
    "\n",
    "            # need to load the pickles corresponding to this source_id...\n",
    "            this_pred, this_prov = pickles_puller(this_col_int)\n",
    "\n",
    "            # df to hold the placements\n",
    "            rank_holder_df = DataFrame(index=alerts_df.index, columns = [this_prov.items])\n",
    "            # generate the errors for 1w, 2w periods.  done by 'item'\n",
    "\n",
    "            # iterate through this prediction panel to get all forecasts for the 6 methods.\n",
    "            for this_item in this_pred:\n",
    "                this_items_errors = mean_weekly_errors_df(this_pred, this_item)\n",
    "                rank_holder_df[this_item] = this_items_errors[this_error_metric]\n",
    "\n",
    "            # now find best method for each timestep:\n",
    "            this_source_id_best_methods = rank_holder_df.T.idxmin() \n",
    "            \n",
    "            #print('starting the forecast lookup...')\n",
    "\n",
    "            # now step through the index and write the best forecasts and track source\n",
    "            for this_index in this_source_id_best_methods.index:\n",
    "                best_forecast_item = this_source_id_best_methods.loc[this_index]\n",
    "                \n",
    "                # assign the source to separate panel\n",
    "                best_source_panel.ix[this_col_int, this_index, 0] = best_forecast_item\n",
    "                \n",
    "                # print(best_forecast_item)\n",
    "                # need conditional for 'warm-up' period so we don't attempt to use nan-indexer:\n",
    "                if notnull(best_forecast_item):\n",
    "                    # now pull the forecast for this day from this panel\n",
    "                    this_best_forecast_series = this_pred.ix[best_forecast_item, this_index, :(this_forecast_length + 2)]\n",
    "\n",
    "                    # tack on the source of this forecast for posterity\n",
    "                    #this_best_forecast_series['source'] = best_forecast_item # this mixed dtype is jacking the panel assignment\n",
    "                    # recast as df for values dimensionality:\n",
    "\n",
    "                    this_best_forecast_df = DataFrame(this_best_forecast_series)\n",
    "                    #print(this_best_forecast_df.values)\n",
    "                    #print(shape(this_best_forecast_df.values))\n",
    "                    # now assign this to the current sheet of the panel (auto-track the index)\n",
    "                    forecast_output_panel.ix[this_col_int, this_index, :] = this_best_forecast_series.values#this_best_forecast_df.values\n",
    "                    \n",
    "            # panel doesn't like source assignment of mixed dtypes of panel asignment, write this separately.\n",
    "            rank_holder_df.to_csv(pickle_path + 'best_sources_' + alerts_df.columns[this_col_int] + '_t_60_f_7.csv')\n",
    "        except Exception as wtfe:\n",
    "            print(wtfe)\n",
    "            print('\\t\\t source_id ' + str(this_col_int) + ' failed.')\n",
    "            pass\n",
    "            \n",
    "        print('\\t\\t source_id ' + str(this_col_int) + ' done.')\n",
    "    \n",
    "    # finally, write to fs\n",
    "    print('\\t serializing outputs: ')\n",
    "    forecast_output_panel.to_pickle(pickle_path + 'all_best_case_forecasts_' + str(len(source_id_list)) + '_source_ids.pickle')\n",
    "    forecast_output_panel.to_excel(pickle_path + 'all_best_case_forecasts_' + str(len(source_id_list)) + '_source_ids.xls')\n",
    "    best_source_panel.to_pickle(pickle_path + 'all_best_case_forecast_sources_' + str(len(source_id_list)) + '_source_ids.pickle')\n",
    "    best_source_panel.to_excel(pickle_path + 'all_best_case_forecast_sources_' + str(len(source_id_list)) + '_source_ids.xls')\n",
    "    \n",
    "    print('done, results saved to ' + pickle_path)\n",
    "    \n",
    "    return forecast_output_panel"
   ]
  },
  {
   "cell_type": "code",
   "execution_count": null,
   "metadata": {
    "collapsed": true,
    "scrolled": false
   },
   "outputs": [],
   "source": [
    "# testing\n",
    "p_path = '/Users/cclarke/hg_reps/sandbox_clarke/Alerting/predictions/decomposition/results/'\n",
    "this_set = range(105)\n",
    "tp=create_bcs_forecasts(this_set, pickle_path=p_path, this_error_metric='rms_out_sample_1w_error', this_forecast_length=7)"
   ]
  },
  {
   "cell_type": "code",
   "execution_count": null,
   "metadata": {
    "collapsed": true
   },
   "outputs": [],
   "source": [
    "from collections import Counter\n",
    "#Counter(this_source_id_winner_holder_df['1st'])#.dropna().count()\n",
    "#winner_percent\n",
    "#Counter()\n",
    "#counts = Counter(this_source_id_winner_holder_df['out_bias_winner'].dropna())\n",
    "Counter(this_source_id_winner_holder_df['out_bias_winner'].dropna())\n",
    "#pyplot.pie(counts, autopct=None)\n",
    "#this_source_id_winner_holder_df['out_bias_winner']"
   ]
  },
  {
   "cell_type": "code",
   "execution_count": null,
   "metadata": {
    "collapsed": true
   },
   "outputs": [],
   "source": [
    "from collections import Counter\n",
    "p_path = '/Users/cclarke/hg_reps/sandbox_clarke/Alerting/predictions/decomposition/results/'\n",
    "source_id_list = range(105)\n",
    "# read all best sources\n",
    "best_source_panel = read_pickle(p_path + 'all_best_case_forecast_sources_' + str(len(source_id_list)) + '_source_ids.pickle')\n"
   ]
  },
  {
   "cell_type": "code",
   "execution_count": null,
   "metadata": {
    "collapsed": true
   },
   "outputs": [],
   "source": [
    "from pandas import value_counts"
   ]
  },
  {
   "cell_type": "code",
   "execution_count": null,
   "metadata": {
    "collapsed": true
   },
   "outputs": [],
   "source": [
    "Counter(best_source_panel.ix[99,:,0].dropna())\n",
    "this_counter = {'cycle_series': 0,'data': 0,'differenced_1_cycle': 0,'differenced_1_data': 0,'differenced_2_cycle': 0,'differenced_2_data': 0}\n",
    "this_counter_df = DataFrame.from_dict(Counter(this_counter), orient='index')"
   ]
  },
  {
   "cell_type": "code",
   "execution_count": null,
   "metadata": {
    "collapsed": true
   },
   "outputs": [],
   "source": [
    "this_source_list = value_counts(best_source_panel.ix[0,:,0])\n",
    "should_be_here_list = ['cycle_series', 'differenced_1_cycle', 'differenced_1_data', 'data', 'differenced_2_data', 'differenced_2_cycle']\n",
    "\n",
    "# add a loop to insure index integrity\n",
    "for should_be in should_be_here_list:\n",
    "    if should_be not in this_source_list.index:\n",
    "        series[should_be] = 0\n",
    "        \n",
    "this_source_list        "
   ]
  },
  {
   "cell_type": "code",
   "execution_count": null,
   "metadata": {
    "collapsed": true
   },
   "outputs": [],
   "source": []
  },
  {
   "cell_type": "code",
   "execution_count": null,
   "metadata": {
    "collapsed": true
   },
   "outputs": [],
   "source": [
    "this_counter.keys()"
   ]
  },
  {
   "cell_type": "code",
   "execution_count": null,
   "metadata": {
    "collapsed": true
   },
   "outputs": [],
   "source": [
    "this_counter = Counter(best_source_panel.ix[99,:,0].dropna())\n",
    "#.add(Counter(best_source_panel.ix[0,:,0].dropna()))\n",
    "DataFrame.from_dict(this_counter, orient='index')\n",
    "these_best = best_source_panel.ix[:,:,0].dropna()\n",
    "\n",
    "this_counter = {'cycle_series': 0,'data': 0,'differenced_1_cycle': 0,'differenced_1_data': 0,'differenced_2_cycle': 0,'differenced_2_data': 0}\n",
    "this_counter_df = DataFrame.from_dict(Counter(this_counter), orient='index')\n",
    "this_next_counter = DataFrame()\n",
    "#def this_next_counter_df(col):\n",
    "#    return this_next_counter_df = DataFrame.from_dict(Counter(best_source_panel.ix[col,:,0].dropna()), orient='index')\n",
    "\n",
    "# so, if the values don't exist for a method, this index is undefined...work around the counter method.\n",
    "for col in these_best.columns:\n",
    "    this_counter_dict = Counter(best_source_panel.ix[col,:,0].dropna())\n",
    "    # add a loop to insure index integrity\n",
    "    for should_be in should_be_here_list:\n",
    "        if should_be not in this_counter_dict.keys():\n",
    "            this_counter_dict[should_be] = 0\n",
    "            print('source_id: ' + str(col) + ' is missing: ' + should_be)\n",
    "    # now complete, cast as df and sum\n",
    "    this_next_counter_df = DataFrame.from_dict(this_counter_dict, orient='index')\n",
    "    #print(this_next_counter_df)\n",
    "    this_counter_df = this_counter_df.add(this_next_counter_df)\n",
    "    \n",
    "    \n",
    "this_counter_df.plot(kind='pie', figsize=(6,6), subplots=True, legend=False, autopct='%.2f', fontsize=14)\n",
    "title(\"Best Forecast Sources\", fontsize=20)\n",
    "ylabel('')"
   ]
  },
  {
   "cell_type": "code",
   "execution_count": null,
   "metadata": {
    "collapsed": true
   },
   "outputs": [],
   "source": [
    "clean_tops_holder_df = tops_holder_df.dropna()#.astype(float).hist()\n",
    "figure(figsize=(12,8))\n",
    "clean_tops_holder_df['top_1'].hist(color='r', alpha=0.5, label='top 1 (exact match)')\n",
    "clean_tops_holder_df['top_2'].hist(color='orange', alpha=0.5, label='matched top 2')\n",
    "clean_tops_holder_df['top_3'].hist(color='green', alpha=0.5, label='matched top 3')\n",
    "title('selection based on in/out-sample prediction bias \\n top matches percentages', fontsize=18)\n",
    "legend(loc='upper left')\n"
   ]
  },
  {
   "cell_type": "markdown",
   "metadata": {},
   "source": [
    "# misc. column (p, q) [parsing]"
   ]
  },
  {
   "cell_type": "code",
   "execution_count": null,
   "metadata": {
    "collapsed": true
   },
   "outputs": [],
   "source": [
    "def pq_parser(pq_tuple, pmax=9, qmax=9):\n",
    "    \"\"\"\n",
    "    this extracts the necessary info from the provenance table\n",
    "    to display the choices in a normalized scale.  apply-able.\n",
    "    \"\"\"\n",
    "    def gen_p_q_dict():\n",
    "        p_q_dict = {}\n",
    "        counter_int = 0\n",
    "        # build up the p_q_dict for mapping\n",
    "        normalization = len(range(pmax+1))*len(range(qmax+1))\n",
    "        for p in range(0,pmax+1,1):#range(7,-1,-1):\n",
    "            for q in range(0,qmax+1,1):#range(7,-1,-1):\n",
    "                counter_int+=1\n",
    "                p_q_dict[(p,q)] = counter_int/normalization\n",
    "        return p_q_dict\n",
    "    p_q_dict = gen_p_q_dict()\n",
    "\n",
    "    if isnull(eval(pq_tuple)):\n",
    "        return [np.NaN]\n",
    "    else:\n",
    "        return p_q_dict[eval(pq_tuple)]\n",
    "\n",
    "    \n",
    "def pq_parser_simple(pq_tuple):\n",
    "    \"\"\"\n",
    "    simply return the two series...\n",
    "    \"\"\"\n",
    "    if isnull(pq_tuple):\n",
    "        return [np.NaN, np.NaN]\n",
    "    else:\n",
    "        return [int(pq_tuple[1]), int(pq_tuple[3])]\n",
    "    \n",
    "def q_parser_simple(pq_tuple):\n",
    "    \"\"\"\n",
    "    simply return the two series...\n",
    "    \"\"\"\n",
    "\n",
    "    if isnull(pq_tuple[3]):\n",
    "        return np.NaN\n",
    "    else:\n",
    "        return int(pq_tuple[3])\n",
    "       "
   ]
  },
  {
   "cell_type": "code",
   "execution_count": null,
   "metadata": {
    "collapsed": true
   },
   "outputs": [],
   "source": [
    "each column has this type of name for the predictions...\n",
    "ft='p13'\n",
    "\n",
    "i supply that to the function which plots ALL of the 13-day predictions together with the raw data...\n",
    "\n",
    "like this:\n",
    "\n",
    "ft[-1] # this was designed to strip the NUMBER off the name to be used.  either come up with another or substitute the following whereever this shit appears.\n",
    "\n",
    "ft[1:] # <--- this is it."
   ]
  },
  {
   "cell_type": "markdown",
   "metadata": {
    "collapsed": true
   },
   "source": [
    "# main image viz here."
   ]
  },
  {
   "cell_type": "code",
   "execution_count": null,
   "metadata": {
    "collapsed": true
   },
   "outputs": [],
   "source": [
    "# rewriting this to accept the newer file strings...skip the panel input option for expediency \n",
    "\n",
    "def results_bias_plot_from_pickles(this_col_int, training_length, forecast_term):\n",
    "    \"\"\"\n",
    "    given the column of interest, forecast term (p0, p1, etc.), and path to results set.\n",
    "    this generates a visualization of the model outputs and bias (with distribution).\n",
    "    also saves to fs.\n",
    "    TODO: need to annotate with which training length, how many gaps there are and...\n",
    "    \"\"\"\n",
    "\n",
    "    # helpers\n",
    "    def sw_tester(series):\n",
    "        \"\"\"\n",
    "        test the df for non-gaussianity (null hyp. rejection, rather)\n",
    "        see: https://en.wikipedia.org/wiki/Shapiro%E2%80%93Wilk_test\n",
    "        needs: scipy\n",
    "        \"\"\"\n",
    "        sw= scipy.stats.shapiro(series.dropna())[0]\n",
    "        swp=scipy.stats.shapiro(series.dropna())[1]\n",
    "        return sw, swp \n",
    "    \n",
    "    # generalized bias function generator\n",
    "    def bias_generator(results_df, forecast_term):\n",
    "        shift_term = int(forecast_term[1:])\n",
    "        this_forecast_bias = forecast_bias(results_df['this_data'], results_df[forecast_term].shift(shift_term) )\n",
    "        return this_forecast_bias\n",
    "    \n",
    "    def forecast_bias(actual_series, forecast_series):\n",
    "        \"\"\"\n",
    "        fc_bias given by ((actual-forecast)/actual)*100\n",
    "        \"\"\"\n",
    "        forecast_bias_series = (actual_series.sub(forecast_series)).div(actual_series)*100\n",
    "        return forecast_bias_series\n",
    "\n",
    "    def rmse(actual_series, forecast_series):\n",
    "        return np.sqrt(((actual_series.sub(forecast_series)) ** 2).mean())\n",
    "\n",
    "\n",
    "    def pq_parser(first_pq, final_pq):\n",
    "        \"\"\"\n",
    "        this extracts the necessary info from the provenance table\n",
    "        to display the choices in a normalized scale.  needs to be \n",
    "        generalized to accept pmax,qmax\n",
    "        \"\"\"\n",
    "        def gen_p_q_dict():\n",
    "            p_q_dict = {}\n",
    "            counter_int = 0\n",
    "            pmax=9\n",
    "            qmax=9\n",
    "            # build up the p_q_dict for mapping\n",
    "            normalization = len(range(pmax+1))*len(range(qmax+1))\n",
    "            for p in range(0,pmax+1,1):#range(7,-1,-1):\n",
    "                for q in range(0,qmax+1,1):#range(7,-1,-1):\n",
    "                    counter_int+=1\n",
    "                    p_q_dict[(p,q)] = counter_int/normalization\n",
    "            return p_q_dict\n",
    "        p_q_dict = gen_p_q_dict()\n",
    "\n",
    "        if isnull(first_pq) or isnull(final_pq):\n",
    "            return [np.NaN,np.NaN]\n",
    "        else:\n",
    "            return p_q_dict[first_pq], p_q_dict[final_pq]\n",
    "        \n",
    "    def p_or_q_parser(first_pq_or_final_pq):\n",
    "        \"\"\"\n",
    "        this extracts the necessary info from the provenance table\n",
    "        to display the choices in a normalized scale.  needs to be \n",
    "        generalized to accept pmax,qmax\n",
    "        \"\"\"\n",
    "        def gen_p_q_dict():\n",
    "            p_q_dict = {}\n",
    "            counter_int = 0\n",
    "            pmax=9\n",
    "            qmax=9\n",
    "            # build up the p_q_dict for mapping\n",
    "            normalization = len(range(pmax+1))*len(range(qmax+1))\n",
    "            for p in range(0,pmax+1,1):#range(7,-1,-1):\n",
    "                for q in range(0,qmax+1,1):#range(7,-1,-1):\n",
    "                    counter_int+=1\n",
    "                    p_q_dict[(p,q)] = counter_int/normalization\n",
    "            return p_q_dict\n",
    "        p_q_dict = gen_p_q_dict()\n",
    "\n",
    "        if isnull(first_pq_or_final_pq):\n",
    "            #print('found nan')\n",
    "            return np.NaN\n",
    "        else:\n",
    "            return p_q_dict[first_pq_or_final_pq]\n",
    "    \n",
    "    \n",
    "    def provenance_parser(provenance_string):\n",
    "        \"\"\"\n",
    "        this extracts the necessary info from the provenance entry.\n",
    "        what to do for blank?\n",
    "        \"\"\"\n",
    "        def gen_p_q_dict():\n",
    "            p_q_dict = {}\n",
    "            counter_int = 0\n",
    "            pmax=9\n",
    "            qmax=9\n",
    "            # build up the p_q_dict for mapping\n",
    "            normalization = len(range(pmax+1))*len(range(qmax+1))\n",
    "            for p in range(0,8,1):#range(7,-1,-1):\n",
    "                for q in range(0,8,1):#range(7,-1,-1):\n",
    "                    counter_int+=1\n",
    "                    p_q_dict[(p,q)] = counter_int/normalization\n",
    "            return p_q_dict\n",
    "        p_q_dict = gen_p_q_dict()\n",
    "\n",
    "        if isnull(provenance_string):\n",
    "            return [np.NaN,np.NaN,np.NaN,np.NaN,np.NaN,np.NaN,np.NaN]\n",
    "        else:\n",
    "            first_pq, final_pq, n_choice, quantile_used, day_0_fb, p_zero, blank_count = map(eval,provenance_string.split(\"_\"))\n",
    "\n",
    "        return p_q_dict[first_pq], p_q_dict[final_pq], n_choice, quantile_used, day_0_fb, p_zero, blank_count\n",
    "\n",
    "    def pie_maker(this_bias):\n",
    "\n",
    "        pie_labels = ['< 5%','5% < 10%','10% < 15%','15% < 20%','> 20%','> 100%']\n",
    "        y_df = DataFrame(index=['share'], columns = pie_labels)\n",
    "        y_df = DataFrame(index = ['0'],columns = ['< 5%','5% < 10%','10% < 15%','15% < 20%','> 20%','> 100%'])\n",
    "        y_df['< 5%'] = this_bias[abs(this_bias)<5].dropna().count()\n",
    "        y_df['5% < 10%'] = this_bias[(abs(this_bias)>=5) & (abs(this_bias)<=10)].dropna().count()\n",
    "        y_df['10% < 15%'] = this_bias[(abs(this_bias)>=10) & (abs(this_bias)<=15)].dropna().count()\n",
    "        y_df['15% < 20%'] = this_bias[(abs(this_bias)>=15) & (abs(this_bias)<=20)].dropna().count()\n",
    "        y_df['> 20%'] = this_bias[(abs(this_bias)>=25)].dropna().count()\n",
    "        y_df['> 100%'] = this_bias[abs(this_bias)>100].dropna().count()\n",
    "        colors = ['green', 'yellowgreen', 'yellow', 'orange', 'red','black']\n",
    "        plt.axis('equal')\n",
    "        patches, texts = plt.pie(y_df.values.ravel(), colors=colors, startangle=90)\n",
    "        legend(patches, pie_labels, loc=[.85,.25])#, title='Forecast Accuracy')\n",
    "        title('Forecast Accuracy', fontsize=16,y=.925)        \n",
    "        return patches\n",
    "    \n",
    "    # mapping for formatting, etc.\n",
    "    this_column_name = alerts_df.columns[this_col_int]\n",
    "    # paths and I/O\n",
    "    \n",
    "    # loading the best forecasts pickle:\n",
    "    best_forecasts_pickle = read_pickle(prediction_path + 'all_best_case_forecasts_105_source_ids.pickle')\n",
    "    # loading the best sources pickle:\n",
    "    best_sources_pickle = read_pickle(prediction_path + 'all_best_case_forecast_sources_105_source_ids.pickle')\n",
    "    \n",
    "    # new methods here for prov from pickle...\n",
    "    this_pred, this_prov = pickles_puller(this_col_int)\n",
    "    \n",
    "    # look up the best forecasts here (itemed by source_id, majored by ts-index, minored by 'this_data' to 'p7'\n",
    "    results_df = best_forecasts_pickle.ix[this_col_int,:,:]\n",
    "   \n",
    "    # create custom prov_df here from 'best of' sources, start with shell and fill.\n",
    "    provenance_results_df = DataFrame(index = this_prov.major_axis, columns=this_prov.minor_axis)\n",
    "    # need to x-ref with sources_df on fs.\n",
    "    \n",
    "    # must iterate through sources (by ts-index) to index, pull (agg) this info\n",
    "    for this_index in this_prov.major_axis: # can't do assignments over nan-index...can't seem to avoid it, either\n",
    "        this_best_source = best_sources_pickle.ix[this_col_int, this_index, 'best fourcast source'] # [sic]\n",
    "        if notnull(this_best_source):\n",
    "            provenance_results_df.loc[this_index] = this_prov.ix[this_best_source, this_index, :]\n",
    "            # first get source for this forecast...unfortunately kept in separate df on fs:\n",
    "\n",
    "    # don't forget to write this to fs\n",
    "    dp_keeper_list = ['training_length', 'first_pq','final_pq', 'n_choice', 'p_zero', 'blank_count']\n",
    "    parsed_provenance_df=provenance_results_df[provenance_results_df.columns[provenance_results_df.columns.isin(dp_keeper_list)]]\n",
    "    #print(parsed_provenance_df)\n",
    "    \n",
    "    # remap the pq_first and pq-finals to scaled forms...\n",
    "    parsed_provenance_df['first_pq'] = list(map(p_or_q_parser, provenance_results_df['first_pq'].values))\n",
    "    parsed_provenance_df['final_pq'] = list(map(p_or_q_parser, provenance_results_df['final_pq'].values))\n",
    "    \n",
    "    this_bias = bias_generator(results_df, forecast_term) # was inside conditional...now universal\n",
    "    #else:\n",
    "    #    this_bias = parsed_provenance_df['day_0_fb']\n",
    "    # this bias may go nuts:\n",
    "    #this_bias = this_bias.replace([-inf,inf],np.NaN).dropna()\n",
    "    forecast_color_codes = ['darkblue', 'darkcyan','darkgreen','orange','darkred','magenta','purple','black']\n",
    "    shift_term = int(forecast_term[-1])\n",
    "    \n",
    "    f=figure(figsize=(25,20));\n",
    "    ax0=f.add_subplot(411)\n",
    "    # annotate first forecast, forecast nans from first datapoint on:\n",
    "    # same story..was done differently, not anymore\n",
    "    #if (forecast_term == 'p0'):\n",
    "    #    ax0.annotate('(p0 values pinned in this model output)', xy=(.5, .9), ha=\"center\",  xycoords='axes fraction', color = 'gray', fontsize=20)\n",
    "    title(this_column_name, fontsize=24)\n",
    "    raw_data = results_df['this_data']\n",
    "    forecast_data = results_df[forecast_term].shift(shift_term)\n",
    "    # S-W Test info\n",
    "    \n",
    "    sw_data = sw_tester(raw_data)\n",
    "    ax0.annotate('Shapiro-Wilk (W): ' + str(round(sw_data[0],3)), xy=(.025, .7), xycoords='axes fraction', ha=\"left\",color = 'k', fontsize=20)\n",
    "    ax0.annotate('Shapiro-Wilk (p): '+ str(\"{0:.2e}\".format(sw_data[1])), xy=(.025, .6), xycoords='axes fraction', ha=\"left\",color = 'k', fontsize=20)\n",
    "    \n",
    "    raw_data.plot(lw=4, alpha=0.5, label = 'raw data', ax=ax0)\n",
    "    forecast_data.plot(lw=4, alpha=0.5, label = forecast_term[1] + ' day-forecast', ax=ax0)\n",
    "    data_start = raw_data.dropna().index[0]\n",
    "    first_prediction = forecast_data.dropna().index[0]\n",
    "    days_till_forecast = relativedelta(first_prediction,data_start).days\n",
    "    \n",
    "    #print(isnull(forecast_data.loc[datetime(2016,2,1):]).sum())\n",
    "    forecast_gaps = isnull(forecast_data).sum()\n",
    "    forecast_gaps_after_warmup = isnull(forecast_data.loc[first_prediction:]).sum()\n",
    "    forecast_gaps_after_percent = isnull(forecast_data.loc[first_prediction:]).sum()/len(forecast_data.loc[first_prediction:])\n",
    "    ax0.annotate('forecast start: ' + str(days_till_forecast) + ' days', xy=(.025, .9), xycoords='axes fraction', ha=\"left\",color = 'k', fontsize=20)\n",
    "    #ax0.annotate('forecast gaps:   ' + str(forecast_gaps) + ' days', xy=(.025, .825), xycoords='axes fraction', ha=\"left\",color = 'orange', fontsize=16)\n",
    "    ax0.annotate('gaps after start: ' + str(forecast_gaps_after_warmup), xy=(.025, .8), xycoords='axes fraction', ha=\"left\",color = 'k', fontsize=20)\n",
    "    \n",
    "    grid()\n",
    "    ylabel('', fontsize=20)\n",
    "    legend(loc='upper right', fontsize='x-large')\n",
    "    \n",
    "    ax1=f.add_subplot(412)#, sharex=ax0)\n",
    "    this_bias_color = forecast_color_codes[int(forecast_term[1])]\n",
    "    # make results finite\n",
    "    this_bias = this_bias.replace([inf,-inf],np.NaN)\n",
    "    this_bias.plot(lw=4, alpha=0.5, label = 'forecast bias (' + forecast_term + ')', c=this_bias_color, ax=ax1)\n",
    "    # basic stats\n",
    "    fc_mean = this_bias.mean()\n",
    "    mean_series = Series(data = [fc_mean]*len(this_bias.index), index=this_bias.index)\n",
    "\n",
    "    mean_series.plot(lw=4, alpha=0.5, label = '<forecast bias> (' + str(round(fc_mean,1)) + ' %)', c='red', ls='--', ax=ax1)\n",
    "    grid()\n",
    "    \n",
    "    # insert n-sigma bounds for forecast bias plot\n",
    "    fc_std = this_bias.std()\n",
    "    sig_num = 4\n",
    "    bounds = fc_mean-(sig_num*fc_std), fc_mean+(sig_num*fc_std)\n",
    "    ylim(bounds)\n",
    "    ax1.annotate('COV: ' + str(round((fc_std/fc_mean),3)), xy=(.025, .1), xycoords='axes fraction', ha=\"left\",color = 'k', fontsize=20)\n",
    "    \n",
    "    ylabel('Forecast Bias, [%]', fontsize=20)\n",
    "    legend(loc='upper right', fontsize='x-large')\n",
    "    #a = plt.axes([0.731,0.25,.150,.15], alpha=0.2)\n",
    "    \n",
    "    \n",
    "    ax2=f.add_subplot(413)    \n",
    "    first_pq_diff = parsed_provenance_df['first_pq'].diff()\n",
    "    final_pq_diff = parsed_provenance_df['final_pq'].diff()\n",
    "    first_pq_changed = first_pq_diff[first_pq_diff!=0].dropna()\n",
    "    final_pq_changed = final_pq_diff[final_pq_diff!=0].dropna()\n",
    "    first_percent_changed = len(first_pq_changed)/len(first_pq_diff.dropna())\n",
    "    final_percent_changed = len(final_pq_changed)/len(final_pq_diff.dropna())\n",
    "    \n",
    "    parsed_provenance_df['first_pq'].plot(lw=6, alpha=0.5, c='green',ax=ax2, label='first choice (p,q) | [% change: ' + str(round((first_percent_changed*100),1)) + ' %]')\n",
    "    parsed_provenance_df['final_pq'].plot(lw=6, alpha=0.5, color='red', ax=ax2, label='final choice (p,q) | [% change: ' + str(round((final_percent_changed*100),1)) + ' %]')\n",
    "    \n",
    "    grid()\n",
    "    ylabel('Model Slippage',fontsize=20)\n",
    "    legend(loc='lower right',  fontsize='x-large')\n",
    "    ylim(-0.05, 1.05)\n",
    "    \n",
    "    ax3=f.add_subplot(414)\n",
    "    #sw_series, swp_series = sw_tester(results_df['this_data'])\n",
    "    #sw_bias, sw_p_bias = sw_tester(this_bias)\n",
    "    this_bias.hist(bins=200, grid=True, color=this_bias_color, alpha=0.5, edgecolor=this_bias_color);\n",
    "    sw_tester(this_bias)\n",
    "    ax3.axvline(fc_mean, color='r', linestyle='dashed', linewidth=12, alpha=0.5)\n",
    "    xlim(-100,100)\n",
    "    ylabel('Counts', fontsize=20)\n",
    "    xlabel('Forecast Bias [%]', fontsize=20)\n",
    "    # S-W Test info\n",
    "    sw_bias = sw_tester(this_bias)\n",
    "    ax3.annotate('Shapiro-Wilk (W): ' + str(round(sw_bias[0],3)), xy=(.025, .9), xycoords='axes fraction', ha=\"left\",color = 'k', fontsize=20)\n",
    "    ax3.annotate('Shapiro-Wilk (p): '+ str(\"{0:.2e}\".format(sw_bias[1])), xy=(.025, .8), xycoords='axes fraction', ha=\"left\",color = 'k', fontsize=20)\n",
    "    #xlabel('[Forecast Bias] Shapiro-Wilk (W): ' + str(round(sw_bias[0],3)) + ': ' + 'Shapiro-Wilk (p): '+ str(sw_bias[1]), fontsize=20)\n",
    "    #print(\"{0:.3e}\".format(sw_bias[1]))\n",
    "    a = plt.axes([.75, .04, .2, .2], axisbg='y')\n",
    "    pie_maker(this_bias)\n",
    "    # still missing completeness info, \n",
    "    # sharpiro-wilk test would be good, too. \n",
    "    plt.tight_layout()\n",
    "    f.savefig(prediction_path + 'figures/' + 'forecast_bias_' + forecast_term + '_' + \\\n",
    "              this_column_name + '_t_' + str(training_length) + '_compilation_results.png');\n",
    "    pylab.close(f)\n",
    "    clf()\n",
    "    cla()\n",
    "    close('all')\n",
    "    # write custom provenance/diags for analysis\n",
    "    provenance_results_df.to_csv(prediction_path + this_column_name + '_t_' + str(training_length) + '_compilation_provenance_diags.csv')\n",
    "    \n",
    "    return "
   ]
  },
  {
   "cell_type": "markdown",
   "metadata": {},
   "source": [
    "# single shot for testing:"
   ]
  },
  {
   "cell_type": "code",
   "execution_count": null,
   "metadata": {
    "collapsed": true,
    "scrolled": false
   },
   "outputs": [],
   "source": [
    "results_bias_plot_from_pickles(0, 60, 'p0')"
   ]
  },
  {
   "cell_type": "markdown",
   "metadata": {},
   "source": [
    "# unleash the beast"
   ]
  },
  {
   "cell_type": "code",
   "execution_count": null,
   "metadata": {
    "collapsed": true
   },
   "outputs": [],
   "source": [
    "\n",
    "alerts_columns = alerts_df.columns\n",
    "forecast_set = [60]\n",
    "p_set = ['p0','p1','p2','p3','p4','p5','p6','p7']\n",
    "\n",
    "for this_col_int in range(105):\n",
    "    this_col_name = alerts_columns[this_col_int]\n",
    "    print(this_col_name)\n",
    "    for p_term in p_set:\n",
    "        try:\n",
    "            results_bias_plot_from_pickles(this_col_int, 60, p_term)\n",
    "        except Exception as wtf_e:\n",
    "            print(this_col_name + '_t_'+str(fi)+'_p_'+ p_term + ' failed!')\n",
    "            print(wtf_e)"
   ]
  },
  {
   "cell_type": "code",
   "execution_count": null,
   "metadata": {
    "collapsed": true
   },
   "outputs": [],
   "source": [
    "# don't know why there are two...?"
   ]
  },
  {
   "cell_type": "code",
   "execution_count": null,
   "metadata": {
    "collapsed": true
   },
   "outputs": [],
   "source": [
    "\n",
    "\n",
    "def results_bias_plot(this_column_name, training_length, forecast_term):\n",
    "    \"\"\"\n",
    "    given the column of interest, forecast term (p0, p1, etc.), and path to results set.\n",
    "    this generates a visualization of the model outputs and bias (with distribution).\n",
    "    also saves to fs.\n",
    "    TODO: need to annotate with which training length, how many gaps there are and...\n",
    "    \"\"\"\n",
    "\n",
    "    # helpers\n",
    "    def sw_tester(series):\n",
    "        \"\"\"\n",
    "        test the df for non-gaussianity (null hyp. rejection, rather)\n",
    "        see: https://en.wikipedia.org/wiki/Shapiro%E2%80%93Wilk_test\n",
    "        needs: scipy\n",
    "        \"\"\"\n",
    "        sw= scipy.stats.shapiro(series.dropna())[0]\n",
    "        swp=scipy.stats.shapiro(series.dropna())[1]\n",
    "        return sw, swp \n",
    "    \n",
    "    # generalized bias function generator\n",
    "    def bias_generator(forecast_bias, results_df, forecast_term):\n",
    "        shift_term = int(forecast_term[-1])\n",
    "        this_forecast_bias = forecast_bias(results_df['this_data'], results_df[forecast_term].shift(shift_term) )\n",
    "        return this_forecast_bias\n",
    "    \n",
    "    def forecast_bias(actual_series, forecast_series):\n",
    "        \"\"\"\n",
    "        fc_bias given by ((actual-forecast)/actual)*100\n",
    "        \"\"\"\n",
    "        forecast_bias_series = (actual_series.sub(forecast_series)).div(actual_series)*100\n",
    "        return forecast_bias_series\n",
    "\n",
    "    def rmse(actual_series, forecast_series):f\n",
    "        return np.sqrt(((actual_series.sub(forecast_series)) ** 2).mean())\n",
    "\n",
    "\n",
    "    def pq_parser(first_pq, final_pq):\n",
    "        \"\"\"\n",
    "        this extracts the necessary info from the provenance table\n",
    "        to display the choices in a normalized scale.  needs to be \n",
    "        generalized to accept pmax,qmax\n",
    "        \"\"\"\n",
    "        def gen_p_q_dict():\n",
    "            p_q_dict = {}\n",
    "            counter_int = 0\n",
    "            pmax=9\n",
    "            qmax=9\n",
    "            # build up the p_q_dict for mapping\n",
    "            normalization = len(range(pmax+1))*len(range(qmax+1))\n",
    "            for p in range(0,pmax+1,1):#range(7,-1,-1):\n",
    "                for q in range(0,qmax+1,1):#range(7,-1,-1):\n",
    "                    counter_int+=1\n",
    "                    p_q_dict[(p,q)] = counter_int/normalization\n",
    "            return p_q_dict\n",
    "        p_q_dict = gen_p_q_dict()\n",
    "\n",
    "        if isnull(first_pq) or isnull(final_pq):\n",
    "            return [np.NaN,np.NaN]\n",
    "        else:\n",
    "            return p_q_dict[first_pq], p_q_dict[final_pq]\n",
    "        \n",
    "    def p_or_q_parser(first_pq_or_final_pq):\n",
    "        \"\"\"\n",
    "        this extracts the necessary info from the provenance table\n",
    "        to display the choices in a normalized scale.  needs to be \n",
    "        generalized to accept pmax,qmax\n",
    "        \"\"\"\n",
    "        def gen_p_q_dict():\n",
    "            p_q_dict = {}\n",
    "            counter_int = 0\n",
    "            pmax=9\n",
    "            qmax=9\n",
    "            # build up the p_q_dict for mapping\n",
    "            normalization = len(range(pmax+1))*len(range(qmax+1))\n",
    "            for p in range(0,pmax+1,1):#range(7,-1,-1):\n",
    "                for q in range(0,qmax+1,1):#range(7,-1,-1):\n",
    "                    counter_int+=1\n",
    "                    p_q_dict[(p,q)] = counter_int/normalization\n",
    "            return p_q_dict\n",
    "        p_q_dict = gen_p_q_dict()\n",
    "\n",
    "        if isnull(eval(first_pq_or_final_pq)):\n",
    "            return np.NaN\n",
    "        else:\n",
    "            return p_q_dict[eval(first_pq_or_final_pq)]\n",
    "    \n",
    "    \n",
    "    def provenance_parser(provenance_string):\n",
    "        \"\"\"\n",
    "        this extracts the necessary info from the provenance entry.\n",
    "        what to do for blank?\n",
    "        \"\"\"\n",
    "        def gen_p_q_dict():\n",
    "            p_q_dict = {}\n",
    "            counter_int = 0\n",
    "            pmax=9\n",
    "            qmax=9\n",
    "            # build up the p_q_dict for mapping\n",
    "            normalization = len(range(pmax+1))*len(range(qmax+1))\n",
    "            for p in range(0,8,1):#range(7,-1,-1):\n",
    "                for q in range(0,8,1):#range(7,-1,-1):\n",
    "                    counter_int+=1\n",
    "                    p_q_dict[(p,q)] = counter_int/normalization\n",
    "            return p_q_dict\n",
    "        p_q_dict = gen_p_q_dict()\n",
    "\n",
    "        if isnull(provenance_string):\n",
    "            return [np.NaN,np.NaN,np.NaN,np.NaN,np.NaN,np.NaN,np.NaN]\n",
    "        else:\n",
    "            first_pq, final_pq, n_choice, quantile_used, day_0_fb, p_zero, blank_count = map(eval,provenance_string.split(\"_\"))\n",
    "\n",
    "        return p_q_dict[first_pq], p_q_dict[final_pq], n_choice, quantile_used, day_0_fb, p_zero, blank_count\n",
    "\n",
    "    def pie_maker(this_bias):\n",
    "\n",
    "        pie_labels = ['< 5%','5% < 10%','10% < 15%','15% < 20%','> 20%','> 100%']\n",
    "        y_df = DataFrame(index=['share'], columns = pie_labels)\n",
    "        y_df = DataFrame(index = ['0'],columns = ['< 5%','5% < 10%','10% < 15%','15% < 20%','> 20%','> 100%'])\n",
    "        y_df['< 5%'] = this_bias[abs(this_bias)<5].dropna().count()\n",
    "        y_df['5% < 10%'] = this_bias[(abs(this_bias)>=5) & (abs(this_bias)<=10)].dropna().count()\n",
    "        y_df['10% < 15%'] = this_bias[(abs(this_bias)>=10) & (abs(this_bias)<=15)].dropna().count()\n",
    "        y_df['15% < 20%'] = this_bias[(abs(this_bias)>=15) & (abs(this_bias)<=20)].dropna().count()\n",
    "        y_df['> 20%'] = this_bias[(abs(this_bias)>=25)].dropna().count()\n",
    "        y_df['> 100%'] = this_bias[abs(this_bias)>100].dropna().count()\n",
    "        colors = ['green', 'yellowgreen', 'yellow', 'orange', 'red','black']\n",
    "        plt.axis('equal')\n",
    "        patches, texts = plt.pie(y_df.values.ravel(), colors=colors, startangle=90)\n",
    "        legend(patches, pie_labels, loc=[.85,.25])#, title='Forecast Accuracy')\n",
    "        title('Forecast Accuracy', fontsize=16,y=.925)        \n",
    "        return patches\n",
    "    \n",
    "    # paths and I/O\n",
    "    \n",
    "    # prediction results\n",
    "    results_root = '/Users/cclarke/hg_reps/sandbox_clarke/Alerting/predictions/'\n",
    "    #total_path = prediction_path + 'ARMA_prediction_results_' + this_column_name\n",
    "    #total_path = prediction_path + this_column_name + '_t_' + str(training_length) + '_f_7_predictions.csv'  # original \n",
    "    total_path = prediction_path + this_column_name + '_t_' + str(training_length) + '_f_7_predictions_new.csv' # version2 \n",
    "    results_df = read_csv(total_path, index_col=0, parse_dates=True)\n",
    "    \n",
    "    # provenance info (actual p0 is from prov. file)\n",
    "    # reworking this 2/12, available columns = ['training_length', 'first_pq','final_pq', 'n_choice', 'p_zero', 'blank_count']\n",
    "    \n",
    "    #p_cols = ['first_pq', 'final_pq', 'n_choice', 'quantile_used', 'day_0_fb', 'p_zero', 'blank_count']\n",
    "    #provenance_total_path = prediction_path + this_column_name + '_t_' + str(training_length) + '_f_7_predictions_provenance.csv' # original\n",
    "    provenance_total_path = prediction_path + this_column_name + '_t_' + str(training_length) + '_f_7_predictions_new_provenance.csv' # version2\n",
    "\n",
    "    provenance_results_df = read_csv(provenance_total_path, index_col=0, sep=',', engine='python', na_values='None')\n",
    "    # NEW 2/12: doesn' actually require parsing with tabular DP\n",
    "    #parsed_provenance_df = provenance_results_df.copy() # hot-swapped for now.  TODO # provenance_results_df[this_column_name].apply(provenance_parser).apply(Series)\n",
    "    # another approach is to drop everything else other than:\n",
    "    dp_keeper_list = ['training_length', 'first_pq','final_pq', 'n_choice', 'p_zero', 'blank_count']\n",
    "    parsed_provenance_df=provenance_results_df[provenance_results_df.columns[provenance_results_df.columns.isin(dp_keeper_list)]]\n",
    "    # remap the pq_first and pq-finals to scaled forms...\n",
    "    parsed_provenance_df['first_pq'] = list(map(p_or_q_parser, provenance_results_df['first_pq'].values))\n",
    "    parsed_provenance_df['final_pq'] = list(map(p_or_q_parser, provenance_results_df['final_pq'].values))\n",
    "    #parsed_provenance_df.columns = p_cols\n",
    "    # \n",
    "    \n",
    "    # select which term to show...this is p0 from prediction_df...replace with prov. p0 term.\n",
    "    # starting with v2, the p0 is shown inline...not in data provenance.\n",
    "    # commenting out next 4 lines TODO\n",
    "    #if (forecast_term != 'p0'):\n",
    "    this_bias = bias_generator(forecast_bias, results_df, forecast_term) # was inside conditional...now universal\n",
    "    #else:\n",
    "    #    this_bias = parsed_provenance_df['day_0_fb']\n",
    "    # this bias may go nuts:\n",
    "    #this_bias = this_bias.replace([-inf,inf],np.NaN).dropna()\n",
    "    forecast_color_codes = ['darkblue', 'darkcyan','darkgreen','orange','darkred','magenta','purple','black']\n",
    "    shift_term = int(forecast_term[-1])\n",
    "    \n",
    "    f=figure(figsize=(25,20));\n",
    "    ax0=f.add_subplot(411)\n",
    "    # annotate first forecast, forecast nans from first datapoint on:\n",
    "    # same story..was done differently, not anymore\n",
    "    #if (forecast_term == 'p0'):\n",
    "    #    ax0.annotate('(p0 values pinned in this model output)', xy=(.5, .9), ha=\"center\",  xycoords='axes fraction', color = 'gray', fontsize=20)\n",
    "    title(this_column_name, fontsize=24)\n",
    "    raw_data = results_df['this_data']\n",
    "    forecast_data = results_df[forecast_term].shift(shift_term)\n",
    "    # S-W Test info\n",
    "    \n",
    "    sw_data = sw_tester(raw_data)\n",
    "    ax0.annotate('Shapiro-Wilk (W): ' + str(round(sw_data[0],3)), xy=(.025, .7), xycoords='axes fraction', ha=\"left\",color = 'k', fontsize=20)\n",
    "    ax0.annotate('Shapiro-Wilk (p): '+ str(\"{0:.2e}\".format(sw_data[1])), xy=(.025, .6), xycoords='axes fraction', ha=\"left\",color = 'k', fontsize=20)\n",
    "    \n",
    "    raw_data.plot(lw=4, alpha=0.5, label = 'raw data', ax=ax0)\n",
    "    forecast_data.plot(lw=4, alpha=0.5, label = forecast_term[1] + ' day-forecast', ax=ax0)\n",
    "    data_start = raw_data.dropna().index[0]\n",
    "    first_prediction = forecast_data.dropna().index[0]\n",
    "    days_till_forecast = relativedelta(first_prediction,data_start).days\n",
    "    \n",
    "    #print(isnull(forecast_data.loc[datetime(2016,2,1):]).sum())\n",
    "    forecast_gaps = isnull(forecast_data).sum()\n",
    "    forecast_gaps_after_warmup = isnull(forecast_data.loc[first_prediction:]).sum()\n",
    "    forecast_gaps_after_percent = isnull(forecast_data.loc[first_prediction:]).sum()/len(forecast_data.loc[first_prediction:])\n",
    "    ax0.annotate('forecast start: ' + str(days_till_forecast) + ' days', xy=(.025, .9), xycoords='axes fraction', ha=\"left\",color = 'k', fontsize=20)\n",
    "    #ax0.annotate('forecast gaps:   ' + str(forecast_gaps) + ' days', xy=(.025, .825), xycoords='axes fraction', ha=\"left\",color = 'orange', fontsize=16)\n",
    "    ax0.annotate('gaps after start: ' + str(forecast_gaps_after_warmup), xy=(.025, .8), xycoords='axes fraction', ha=\"left\",color = 'k', fontsize=20)\n",
    "    \n",
    "    #y_lim_results_min = results_df[forecast_term].dropna().min()\n",
    "    #y_lim_results_max = results_df[forecast_term].dropna().max()\n",
    "    #ylim_forecast_min = this_bias.dropna().min()\n",
    "    #ylim_forecast_max = this_bias.dropna().max()\n",
    "    #ylim(min(y_lim_results_min,ylim_forecast_min),max(y_lim_results_max,ylim_forecast_max))\n",
    "    grid()\n",
    "    ylabel('', fontsize=20)\n",
    "    legend(loc='upper right', fontsize='x-large')\n",
    "    \n",
    "    ax1=f.add_subplot(412)#, sharex=ax0)\n",
    "    this_bias_color = forecast_color_codes[int(forecast_term[1])]\n",
    "    # make results finite\n",
    "    this_bias = this_bias.replace([inf,-inf],np.NaN)\n",
    "    this_bias.plot(lw=4, alpha=0.5, label = 'forecast bias (' + forecast_term + ')', c=this_bias_color, ax=ax1)\n",
    "    # basic stats\n",
    "    fc_mean = this_bias.mean()\n",
    "    mean_series = Series(data = [fc_mean]*len(this_bias.index), index=this_bias.index)\n",
    "\n",
    "    mean_series.plot(lw=4, alpha=0.5, label = '<forecast bias> (' + str(round(fc_mean,1)) + ' %)', c='red', ls='--', ax=ax1)\n",
    "    grid()\n",
    "    \n",
    "    # insert n-sigma bounds for forecast bias plot\n",
    "    fc_std = this_bias.std()\n",
    "    sig_num = 4\n",
    "    bounds = fc_mean-(sig_num*fc_std), fc_mean+(sig_num*fc_std)\n",
    "    ylim(bounds)\n",
    "    ax1.annotate('COV: ' + str(round((fc_std/fc_mean),3)), xy=(.025, .1), xycoords='axes fraction', ha=\"left\",color = 'k', fontsize=20)\n",
    "    \n",
    "    ylabel('Forecast Bias, [%]', fontsize=20)\n",
    "    legend(loc='upper right', fontsize='x-large')\n",
    "    #a = plt.axes([0.731,0.25,.150,.15], alpha=0.2)\n",
    "    \n",
    "    \n",
    "    ax2=f.add_subplot(413)    \n",
    "    first_pq_diff = parsed_provenance_df['first_pq'].diff()\n",
    "    final_pq_diff = parsed_provenance_df['final_pq'].diff()\n",
    "    first_pq_changed = first_pq_diff[first_pq_diff!=0].dropna()\n",
    "    final_pq_changed = final_pq_diff[final_pq_diff!=0].dropna()\n",
    "    first_percent_changed = len(first_pq_changed)/len(first_pq_diff.dropna())\n",
    "    final_percent_changed = len(final_pq_changed)/len(final_pq_diff.dropna())\n",
    "    \n",
    "    parsed_provenance_df['first_pq'].plot(lw=6, alpha=0.5, c='green',ax=ax2, label='first choice (p,q) | [% change: ' + str(round((first_percent_changed*100),1)) + ' %]')\n",
    "    parsed_provenance_df['final_pq'].plot(lw=6, alpha=0.5, color='red', ax=ax2, label='final choice (p,q) | [% change: ' + str(round((final_percent_changed*100),1)) + ' %]')\n",
    "    \n",
    "    #ax2.annotate('first_pq % change: ' + str(round((first_percent_changed*100),2)) + ' %', xy=(.025, .9), xycoords='axes fraction', ha=\"left\",color = 'green', fontsize=20)\n",
    "    #ax2.annotate('final_pq % change: ' + str(round((final_percent_changed*100),2)) + ' %', xy=(.025, .825), xycoords='axes fraction', ha=\"left\",color = 'red', fontsize=20)\n",
    "\n",
    "    \n",
    "    grid()\n",
    "    ylabel('Model Slippage',fontsize=20)\n",
    "    legend(loc='lower right',  fontsize='x-large')\n",
    "    ylim(-0.05, 1.05)\n",
    "    \n",
    "    ax3=f.add_subplot(414)\n",
    "    #sw_series, swp_series = sw_tester(results_df['this_data'])\n",
    "    #sw_bias, sw_p_bias = sw_tester(this_bias)\n",
    "    this_bias.hist(bins=200, grid=True, color=this_bias_color, alpha=0.5, edgecolor=this_bias_color);\n",
    "    sw_tester(this_bias)\n",
    "    ax3.axvline(fc_mean, color='r', linestyle='dashed', linewidth=12, alpha=0.5)\n",
    "    xlim(-100,100)\n",
    "    ylabel('Counts', fontsize=20)\n",
    "    xlabel('Forecast Bias [%]', fontsize=20)\n",
    "    # S-W Test info\n",
    "    sw_bias = sw_tester(this_bias)\n",
    "    ax3.annotate('Shapiro-Wilk (W): ' + str(round(sw_bias[0],3)), xy=(.025, .9), xycoords='axes fraction', ha=\"left\",color = 'k', fontsize=20)\n",
    "    ax3.annotate('Shapiro-Wilk (p): '+ str(\"{0:.2e}\".format(sw_bias[1])), xy=(.025, .8), xycoords='axes fraction', ha=\"left\",color = 'k', fontsize=20)\n",
    "    #xlabel('[Forecast Bias] Shapiro-Wilk (W): ' + str(round(sw_bias[0],3)) + ': ' + 'Shapiro-Wilk (p): '+ str(sw_bias[1]), fontsize=20)\n",
    "    #print(\"{0:.3e}\".format(sw_bias[1]))\n",
    "    a = plt.axes([.75, .04, .2, .2], axisbg='y')\n",
    "    pie_maker(this_bias)\n",
    "    # still missing completeness info, \n",
    "    # sharpiro-wilk test would be good, too. \n",
    "    plt.tight_layout()\n",
    "    f.savefig(prediction_path + 'figures/' + 'forecast_bias_' + forecast_term + '_' + \\\n",
    "              this_column_name + '_t_' + str(training_length) + 'compilation_results.png');\n",
    "    pylab.close(f)\n",
    "    clf()\n",
    "    cla()\n",
    "    close('all')\n",
    "    return "
   ]
  },
  {
   "cell_type": "markdown",
   "metadata": {},
   "source": [
    "# Single shot for testing"
   ]
  },
  {
   "cell_type": "code",
   "execution_count": null,
   "metadata": {
    "collapsed": true,
    "scrolled": false
   },
   "outputs": [],
   "source": [
    "#prediction_path = '/Users/cclarke/hg_reps/sandbox_clarke/Alerting/predictions/decomposition/results/'\n",
    "\n",
    "results_bias_plot('A Activation__Path Starts', 60, 'p0')"
   ]
  },
  {
   "cell_type": "code",
   "execution_count": null,
   "metadata": {
    "collapsed": true
   },
   "outputs": [],
   "source": []
  },
  {
   "cell_type": "markdown",
   "metadata": {},
   "source": [
    "# sample stats generator"
   ]
  },
  {
   "cell_type": "code",
   "execution_count": null,
   "metadata": {
    "collapsed": true
   },
   "outputs": [],
   "source": [
    "def results_stats(this_column_name, training_length, write_output=True):\n",
    "    \"\"\"\n",
    "    given the column of interest, forecast term (p0, p1, etc.), and path to results set.\n",
    "    this generates the stats of the model outputs bias, rmse.\n",
    "    also saves to fs.\n",
    "    \"\"\"\n",
    "\n",
    "    # helpers\n",
    "    def sw_tester(series):\n",
    "        \"\"\"\n",
    "        test the df for non-gaussianity (null hyp. rejection, rather)\n",
    "        see: https://en.wikipedia.org/wiki/Shapiro%E2%80%93Wilk_test\n",
    "        needs: scipy\n",
    "        \"\"\"\n",
    "        sw= scipy.stats.shapiro(series.dropna())[0]\n",
    "        swp=scipy.stats.shapiro(series.dropna())[1]\n",
    "        return sw, swp \n",
    "    \n",
    "    # generalized bias function generator\n",
    "    def bias_generator(forecast_term):\n",
    "        shift_term = int(forecast_term[-1])\n",
    "        this_forecast_bias = forecast_bias(results_df['this_data'], results_df[forecast_term].shift(shift_term) )\n",
    "        return this_forecast_bias\n",
    "    \n",
    "    def forecast_bias(actual_series, forecast_series):\n",
    "        \"\"\"\n",
    "        fc_bias given by ((actual-forecast)/actual)*100\n",
    "        \"\"\"\n",
    "        forecast_bias_series = (actual_series.sub(forecast_series)).div(actual_series)*100\n",
    "        return forecast_bias_series\n",
    "\n",
    "    def rms(actual_series, forecast_series):\n",
    "        \"\"\"\n",
    "        return the rms error of the prediction.\n",
    "        works on timeseries? or do we need to rewrite?\n",
    "        \"\"\"\n",
    "        rms = np.sqrt(mean_squared_error(actual_series, forecast_series))\n",
    "        return rms\n",
    "    \n",
    "\n",
    "    def p_or_q_parser(first_pq_or_final_pq):\n",
    "        \"\"\"\n",
    "        this extracts the necessary info from the provenance table\n",
    "        to display the choices in a normalized scale.  needs to be \n",
    "        generalized to accept pmax,qmax\n",
    "        \"\"\"\n",
    "        def gen_p_q_dict():\n",
    "            p_q_dict = {}\n",
    "            counter_int = 0\n",
    "            pmax=9\n",
    "            qmax=9\n",
    "            # build up the p_q_dict for mapping\n",
    "            normalization = len(range(pmax+1))*len(range(qmax+1))\n",
    "            for p in range(0,pmax+1,1):#range(7,-1,-1):\n",
    "                for q in range(0,qmax+1,1):#range(7,-1,-1):\n",
    "                    counter_int+=1\n",
    "                    p_q_dict[(p,q)] = counter_int/normalization\n",
    "            return p_q_dict\n",
    "        p_q_dict = gen_p_q_dict()\n",
    "\n",
    "        if isnull(eval(first_pq_or_final_pq)):\n",
    "            return np.NaN\n",
    "        else:\n",
    "            return p_q_dict[eval(first_pq_or_final_pq)]\n",
    "        \n",
    "    # create df holder\n",
    "    stats_cols = ['first_pq_mean', 'final_pq_mean', 'n_choice_mean','sw_data_w', 'sw_data_p', 'days_till_forecast','forecast_gaps_after_percent', 'forecast_bias_mean', \\\n",
    "                  'forecast_bias_COV', 'first_percent_changed', 'final_percent_changed', '<_5%','5%_<_10%','10%_<_15%','15%_<_20%','>_20%','>_100%']\n",
    "    p_set = ['p0','p1','p2','p3','p4','p5','p6','p7']\n",
    "    this_col_stats_df = DataFrame(index = p_set, columns = stats_cols)\n",
    "    \n",
    "    # paths \n",
    "    # prediction results\n",
    "    results_root = '/Users/cclarke/hg_reps/sandbox_clarke/Alerting/predictions/'\n",
    "    #total_path = prediction_path + 'ARMA_prediction_results_' + this_column_name\n",
    "    total_path = prediction_path + this_column_name + '_t_' + str(training_length) + '_f_7_predictions_new.csv'\n",
    "    \n",
    "    results_df = read_csv(total_path, index_col=0, parse_dates=True)\n",
    "    # provenance info (actual p0 is NOT from prov. file)\n",
    "    # reworking, p-files are all separate now.\n",
    "    \n",
    "    #p_cols = ['first_pq', 'final_pq', 'n_choice', 'quantile_used', 'day_0_fb', 'p_zero', 'blank_count']\n",
    "    provenance_total_path = prediction_path + this_column_name + '_t_' + str(training_length) + '_f_7_predictions_new_provenance.csv'\n",
    "    provenance_results_df = read_csv(provenance_total_path, index_col=0, sep=',', engine='python', na_values='None')\n",
    "    # pare down the columns for now\n",
    "    dp_keeper_list = ['training_length', 'first_pq','final_pq', 'n_choice', 'p_zero', 'blank_count']\n",
    "    parsed_provenance_df=provenance_results_df[provenance_results_df.columns[provenance_results_df.columns.isin(dp_keeper_list)]]\n",
    "    parsed_provenance_df['first_pq'] = list(map(p_or_q_parser, provenance_results_df['first_pq'].values))\n",
    "    parsed_provenance_df['final_pq'] = list(map(p_or_q_parser, provenance_results_df['final_pq'].values))\n",
    "    # parsed_provenance_df = provenance_results_df[this_column_name].apply(provenance_parser).apply(Series) # not done this way anymore\n",
    "    # parsed_provenance_df.columns = p_cols\n",
    "   \n",
    "    \n",
    "    # loop should happen HERE\n",
    "    for forecast_term in p_set:\n",
    "        \n",
    "        this_col_stats_df.loc[forecast_term]['first_pq_mean'] = parsed_provenance_df['first_pq'].mean()\n",
    "        this_col_stats_df.loc[forecast_term]['final_pq_mean'] = parsed_provenance_df['final_pq'].mean()\n",
    "        this_col_stats_df.loc[forecast_term]['n_choice_mean'] = parsed_provenance_df['n_choice'].mean()\n",
    "\n",
    "        # select which term to show\n",
    "        this_bias = bias_generator(forecast_term)\n",
    "\n",
    "        shift_term = int(forecast_term[-1])\n",
    "\n",
    "        raw_data = results_df['this_data']\n",
    "        forecast_data = results_df[forecast_term].shift(shift_term)\n",
    "\n",
    "        # S-W Test info on raw data (whole set) # this isn't very meaningful, postpone analysis to correct ticket (2.13.2017)\n",
    "        sw_data = sw_tester(raw_data)\n",
    "        sw_data_w = sw_data[0]\n",
    "        sw_data_p = sw_data[1]\n",
    "\n",
    "        this_col_stats_df.loc[forecast_term]['sw_data_w'] = sw_data_w\n",
    "        this_col_stats_df.loc[forecast_term]['sw_data_p'] = sw_data_p\n",
    "\n",
    "        # first forecast issued \n",
    "        data_start = raw_data.dropna().index[0] # don't send this out\n",
    "        first_prediction = forecast_data.dropna().index[0] # don't send this out\n",
    "        days_till_forecast = relativedelta(first_prediction,data_start).days\n",
    "\n",
    "        forecast_gaps = isnull(forecast_data).sum()\n",
    "        forecast_gaps_after_warmup = isnull(forecast_data.loc[first_prediction:]).sum()\n",
    "        forecast_gaps_after_percent = isnull(forecast_data.loc[first_prediction:]).sum()/len(forecast_data.loc[first_prediction:])\n",
    "\n",
    "        this_col_stats_df.loc[forecast_term]['days_till_forecast'] = days_till_forecast\n",
    "        this_col_stats_df.loc[forecast_term]['forecast_gaps_after_percent'] = forecast_gaps_after_percent\n",
    "\n",
    "        # make results finite\n",
    "        this_bias = this_bias.replace([inf,-inf],np.NaN)\n",
    "        # need this length of index for percentage reporting...\n",
    "        valid_days_for_percentage = len(this_bias.dropna(how='any').index)\n",
    "        # basic stats on the forecast bias\n",
    "        forecast_bias_mean = this_bias.mean()\n",
    "        forecast_bias_std = this_bias.std()\n",
    "        forecast_bias_COV = forecast_bias_std/forecast_bias_mean\n",
    "\n",
    "        this_col_stats_df.loc[forecast_term]['forecast_bias_mean'] = forecast_bias_mean\n",
    "        this_col_stats_df.loc[forecast_term]['forecast_bias_COV'] = forecast_bias_COV\n",
    "\n",
    "        # model slippage info\n",
    "        first_pq_diff = parsed_provenance_df['first_pq'].diff()\n",
    "        final_pq_diff = parsed_provenance_df['final_pq'].diff()\n",
    "        first_pq_changed = first_pq_diff[first_pq_diff!=0].dropna()\n",
    "        final_pq_changed = final_pq_diff[final_pq_diff!=0].dropna()\n",
    "        first_percent_changed = len(first_pq_changed)/len(first_pq_diff.dropna())\n",
    "        final_percent_changed = len(final_pq_changed)/len(final_pq_diff.dropna())\n",
    "\n",
    "        this_col_stats_df.loc[forecast_term]['first_percent_changed'] = first_percent_changed\n",
    "        this_col_stats_df.loc[forecast_term]['final_percent_changed'] = final_percent_changed\n",
    "\n",
    "        # S-W Test info\n",
    "        sw_bias = sw_tester(this_bias)\n",
    "        sw_bias_w = sw_bias[0]\n",
    "        sw_bias_p = sw_bias[1]\n",
    "\n",
    "        this_col_stats_df.loc[forecast_term]['sw_bias_w'] = sw_bias_w\n",
    "        this_col_stats_df.loc[forecast_term]['sw_bias_p'] = sw_bias_p\n",
    "        \n",
    "        # binned info from pie functionality (converted to percent of days...)\n",
    "        this_col_stats_df.loc[forecast_term]['<_5%'] = this_bias[abs(this_bias)<5].dropna().count()/valid_days_for_percentage\n",
    "        this_col_stats_df.loc[forecast_term]['5%_<_10%'] = this_bias[(abs(this_bias)>=5) & (abs(this_bias)<=10)].dropna().count()/valid_days_for_percentage\n",
    "        this_col_stats_df.loc[forecast_term]['10%_<_15%'] = this_bias[(abs(this_bias)>=10) & (abs(this_bias)<=15)].dropna().count()/valid_days_for_percentage\n",
    "        this_col_stats_df.loc[forecast_term]['15%_<_20%'] = this_bias[(abs(this_bias)>=15) & (abs(this_bias)<=20)].dropna().count()/valid_days_for_percentage\n",
    "        this_col_stats_df.loc[forecast_term]['>_20%'] = this_bias[(abs(this_bias)>=25)].dropna().count()/valid_days_for_percentage\n",
    "        this_col_stats_df.loc[forecast_term]['>_100%'] = this_bias[abs(this_bias)>100].dropna().count()/valid_days_for_percentage\n",
    "    \n",
    "    output_df = this_col_stats_df.T\n",
    "    output_df.index.name = 'statistic' #this_column_name\n",
    "    if write_output:\n",
    "        output_df.to_csv(prediction_path + 'stats/' + 'forecast_stats_' + forecast_term + '_' + \\\n",
    "                         this_column_name + '_t_' + str(training_length) + '.csv')\n",
    "        return\n",
    "    else:\n",
    "        return output_df\n"
   ]
  },
  {
   "cell_type": "code",
   "execution_count": null,
   "metadata": {
    "collapsed": true
   },
   "outputs": [],
   "source": [
    "parsed_provenance_df.head(5)"
   ]
  },
  {
   "cell_type": "markdown",
   "metadata": {},
   "source": [
    "# Single shot for testing"
   ]
  },
  {
   "cell_type": "code",
   "execution_count": null,
   "metadata": {
    "collapsed": true
   },
   "outputs": [],
   "source": [
    "results_stats('A Activation__Path Starts', 60, write_output=True)"
   ]
  },
  {
   "cell_type": "code",
   "execution_count": null,
   "metadata": {
    "collapsed": true
   },
   "outputs": [],
   "source": [
    "results_stats('A Activation__Path Starts', 120, write_output=False)"
   ]
  },
  {
   "cell_type": "markdown",
   "metadata": {},
   "source": [
    "# Batch mode for full set (STATS) "
   ]
  },
  {
   "cell_type": "code",
   "execution_count": null,
   "metadata": {
    "collapsed": true
   },
   "outputs": [],
   "source": [
    "# this_column_name, training_length, forecast_term\n",
    "alerts_columns = alerts_df.columns\n",
    "#forecast_set = [30,60,90,120,305]\n",
    "forecast_set = [60] # new (v2 is only on the t=-60 set...)\n",
    "\n",
    "for this_col_int in range(105):\n",
    "    this_col_name = alerts_columns[this_col_int]\n",
    "    print(this_col_name)\n",
    "    for fi in forecast_set:\n",
    "        try:\n",
    "            results_stats(this_col_name, fi)\n",
    "        except Exception as wtf_e:\n",
    "            print(this_col_name + '_t_'+str(fi) + ' failed!')\n",
    "            print(wtf_e)\n"
   ]
  },
  {
   "cell_type": "markdown",
   "metadata": {},
   "source": [
    "# this version aggregates all feed-specific info in one file.  (stats_mega_cols.T)"
   ]
  },
  {
   "cell_type": "markdown",
   "metadata": {},
   "source": [
    "# or, we could just wrap it on the outside..."
   ]
  },
  {
   "cell_type": "code",
   "execution_count": null,
   "metadata": {
    "collapsed": true
   },
   "outputs": [],
   "source": [
    "this_prediction = read_csv(provenance_total_path[:-15] + '.csv', index_col=0)\n",
    "this_prediction['p2'].plot(figsize=(25,5))\n",
    "this_prediction['this_data'].plot()\n",
    "\n",
    "grid()"
   ]
  },
  {
   "cell_type": "markdown",
   "metadata": {},
   "source": [
    "# iterate through the files and visually inspect the forecast outputs."
   ]
  },
  {
   "cell_type": "code",
   "execution_count": null,
   "metadata": {
    "collapsed": true,
    "scrolled": false
   },
   "outputs": [],
   "source": [
    "forecast_set = ['p0','p1','p2','p3','p4','p5','p6','p7']\n",
    "\n",
    "\n",
    "for this_col_int in range(107)[0:1]:\n",
    "    this_col_name = alerts_columns[this_col_int]\n",
    "    print(this_col_name)\n",
    "    for fi in forecast_set:\n",
    "        results_bias_plot(this_col_name, fi, '7_day_ARMA_x_y/')"
   ]
  },
  {
   "cell_type": "code",
   "execution_count": null,
   "metadata": {
    "collapsed": true
   },
   "outputs": [],
   "source": [
    "this_bias = bias_generator(forecast_term)\n",
    "def pie_maker(this_bias):\n",
    "\n",
    "    pie_labels = ['< 5%','5% < 10%','10% < 15%','15% < 20%','> 20%','> 100%']\n",
    "    y_df = DataFrame(index=['share'], columns = pie_labels)\n",
    "    y_df = DataFrame(index = ['0'],columns = ['< 5%','5% < 10%','10% < 15%','15% < 20%','> 20%','> 100%'])\n",
    "    y_df['< 5%'] = this_bias[abs(this_bias)<5].dropna().count()\n",
    "    y_df['5% < 10%'] = this_bias[(abs(this_bias)>=5) & (abs(this_bias)<=10)].dropna().count()\n",
    "    y_df['10% < 15%'] = this_bias[(abs(this_bias)>=10) & (abs(this_bias)<=15)].dropna().count()\n",
    "    y_df['15% < 20%'] = this_bias[(abs(this_bias)>=15) & (abs(this_bias)<=20)].dropna().count()\n",
    "    y_df['> 20%'] = this_bias[(abs(this_bias)>=25)].dropna().count()\n",
    "    y_df['> 100%'] = this_bias[abs(this_bias)>100].dropna().count()\n",
    "    colors = ['green', 'yellowgreen', 'yellow', 'orange', 'red','black']\n",
    "    plt.axis('equal')\n",
    "    patches, texts = plt.pie(y_df.values.ravel(), colors=colors, startangle=90)\n",
    "    legend(patches, pie_labels, loc=[.8,.25])\n",
    "    title('                             Forecast Accuracy', fontsize=18)\n",
    "    return patches"
   ]
  },
  {
   "cell_type": "code",
   "execution_count": null,
   "metadata": {
    "collapsed": true
   },
   "outputs": [],
   "source": [
    "pie_maker(this_bias);"
   ]
  }
 ],
 "metadata": {
  "kernelspec": {
   "display_name": "Python 3",
   "language": "python",
   "name": "python3"
  },
  "language_info": {
   "codemirror_mode": {
    "name": "ipython",
    "version": 3
   },
   "file_extension": ".py",
   "mimetype": "text/x-python",
   "name": "python",
   "nbconvert_exporter": "python",
   "pygments_lexer": "ipython3",
   "version": "3.6.2"
  }
 },
 "nbformat": 4,
 "nbformat_minor": 1
}
